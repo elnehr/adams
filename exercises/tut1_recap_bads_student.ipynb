{
 "cells": [
  {
   "cell_type": "markdown",
   "id": "a6b30d65",
   "metadata": {},
   "source": [
    "**Exercise predictive modeling:**<br>\n",
    "In this exercise, you recapitulate the principles of predictive modeling. You will build a predictive model for a travel \n",
    "insurance, which predicts whether a given insurance offer leads to a claim. You can use \"Ex03-Python_Machine_Learning.ipynb\" \n",
    "to lookup on the model building procedure and the required commands in python. \n",
    "\n",
    "In the next cells, we provide the code for importing required packages and for loading the data set (You need to adapt the\n",
    "path to the data.). Afterwards, the exercises begin.  "
   ]
  },
  {
   "cell_type": "code",
   "execution_count": 34,
   "id": "8e42767a",
   "metadata": {},
   "outputs": [],
   "source": [
    "# required packages\n",
    "import pandas as pd\n",
    "import numpy as np\n",
    "from sklearn.model_selection import train_test_split, cross_val_score, KFold\n",
    "from sklearn.model_selection import GridSearchCV, RandomizedSearchCV\n",
    "from sklearn.ensemble import RandomForestRegressor\n",
    "from sklearn.ensemble import RandomForestClassifier\n",
    "from sklearn import metrics\n",
    "from sklearn.inspection import permutation_importance\n",
    "from sklearn.inspection import plot_partial_dependence\n",
    "import os\n",
    "import seaborn as sns\n",
    "import matplotlib.pyplot as plt"
   ]
  },
  {
   "cell_type": "code",
   "execution_count": 35,
   "id": "2b33cc8c",
   "metadata": {},
   "outputs": [],
   "source": [
    "## read data\n",
    "trav_ins = pd.read_csv(\"data/travel insurance.csv\",index_col=False,sep=',', encoding='utf-8')"
   ]
  },
  {
   "cell_type": "code",
   "execution_count": 36,
   "id": "a31ec2ed",
   "metadata": {},
   "outputs": [
    {
     "name": "stdout",
     "output_type": "stream",
     "text": [
      "(63326, 11)\n"
     ]
    },
    {
     "data": {
      "text/html": [
       "<div>\n",
       "<style scoped>\n",
       "    .dataframe tbody tr th:only-of-type {\n",
       "        vertical-align: middle;\n",
       "    }\n",
       "\n",
       "    .dataframe tbody tr th {\n",
       "        vertical-align: top;\n",
       "    }\n",
       "\n",
       "    .dataframe thead th {\n",
       "        text-align: right;\n",
       "    }\n",
       "</style>\n",
       "<table border=\"1\" class=\"dataframe\">\n",
       "  <thead>\n",
       "    <tr style=\"text-align: right;\">\n",
       "      <th></th>\n",
       "      <th>Agency</th>\n",
       "      <th>Agency Type</th>\n",
       "      <th>Distribution Channel</th>\n",
       "      <th>Product Name</th>\n",
       "      <th>Claim</th>\n",
       "      <th>Duration</th>\n",
       "      <th>Destination</th>\n",
       "      <th>Net Sales</th>\n",
       "      <th>Commision (in value)</th>\n",
       "      <th>Gender</th>\n",
       "      <th>Age</th>\n",
       "    </tr>\n",
       "  </thead>\n",
       "  <tbody>\n",
       "    <tr>\n",
       "      <th>0</th>\n",
       "      <td>CBH</td>\n",
       "      <td>Travel Agency</td>\n",
       "      <td>Offline</td>\n",
       "      <td>Comprehensive Plan</td>\n",
       "      <td>No</td>\n",
       "      <td>186</td>\n",
       "      <td>MALAYSIA</td>\n",
       "      <td>-29.0</td>\n",
       "      <td>9.57</td>\n",
       "      <td>F</td>\n",
       "      <td>81</td>\n",
       "    </tr>\n",
       "    <tr>\n",
       "      <th>1</th>\n",
       "      <td>CBH</td>\n",
       "      <td>Travel Agency</td>\n",
       "      <td>Offline</td>\n",
       "      <td>Comprehensive Plan</td>\n",
       "      <td>No</td>\n",
       "      <td>186</td>\n",
       "      <td>MALAYSIA</td>\n",
       "      <td>-29.0</td>\n",
       "      <td>9.57</td>\n",
       "      <td>F</td>\n",
       "      <td>71</td>\n",
       "    </tr>\n",
       "    <tr>\n",
       "      <th>2</th>\n",
       "      <td>CWT</td>\n",
       "      <td>Travel Agency</td>\n",
       "      <td>Online</td>\n",
       "      <td>Rental Vehicle Excess Insurance</td>\n",
       "      <td>No</td>\n",
       "      <td>65</td>\n",
       "      <td>AUSTRALIA</td>\n",
       "      <td>-49.5</td>\n",
       "      <td>29.70</td>\n",
       "      <td>NaN</td>\n",
       "      <td>32</td>\n",
       "    </tr>\n",
       "    <tr>\n",
       "      <th>3</th>\n",
       "      <td>CWT</td>\n",
       "      <td>Travel Agency</td>\n",
       "      <td>Online</td>\n",
       "      <td>Rental Vehicle Excess Insurance</td>\n",
       "      <td>No</td>\n",
       "      <td>60</td>\n",
       "      <td>AUSTRALIA</td>\n",
       "      <td>-39.6</td>\n",
       "      <td>23.76</td>\n",
       "      <td>NaN</td>\n",
       "      <td>32</td>\n",
       "    </tr>\n",
       "    <tr>\n",
       "      <th>4</th>\n",
       "      <td>CWT</td>\n",
       "      <td>Travel Agency</td>\n",
       "      <td>Online</td>\n",
       "      <td>Rental Vehicle Excess Insurance</td>\n",
       "      <td>No</td>\n",
       "      <td>79</td>\n",
       "      <td>ITALY</td>\n",
       "      <td>-19.8</td>\n",
       "      <td>11.88</td>\n",
       "      <td>NaN</td>\n",
       "      <td>41</td>\n",
       "    </tr>\n",
       "  </tbody>\n",
       "</table>\n",
       "</div>"
      ],
      "text/plain": [
       "  Agency    Agency Type Distribution Channel                     Product Name  \\\n",
       "0    CBH  Travel Agency              Offline               Comprehensive Plan   \n",
       "1    CBH  Travel Agency              Offline               Comprehensive Plan   \n",
       "2    CWT  Travel Agency               Online  Rental Vehicle Excess Insurance   \n",
       "3    CWT  Travel Agency               Online  Rental Vehicle Excess Insurance   \n",
       "4    CWT  Travel Agency               Online  Rental Vehicle Excess Insurance   \n",
       "\n",
       "  Claim  Duration Destination  Net Sales  Commision (in value) Gender  Age  \n",
       "0    No       186    MALAYSIA      -29.0                  9.57      F   81  \n",
       "1    No       186    MALAYSIA      -29.0                  9.57      F   71  \n",
       "2    No        65   AUSTRALIA      -49.5                 29.70    NaN   32  \n",
       "3    No        60   AUSTRALIA      -39.6                 23.76    NaN   32  \n",
       "4    No        79       ITALY      -19.8                 11.88    NaN   41  "
      ]
     },
     "execution_count": 36,
     "metadata": {},
     "output_type": "execute_result"
    }
   ],
   "source": [
    "## get to know the data\n",
    "print(trav_ins.shape)\n",
    "trav_ins.head()"
   ]
  },
  {
   "cell_type": "markdown",
   "id": "390291cd",
   "metadata": {},
   "source": [
    "**Exercise 1:**<br>\n",
    "Impute missing values with an approach of your own choice."
   ]
  },
  {
   "cell_type": "code",
   "execution_count": null,
   "id": "b8cc0679",
   "metadata": {},
   "outputs": [],
   "source": [
    "test test"
   ]
  },
  {
   "cell_type": "markdown",
   "id": "5b1c22c1",
   "metadata": {},
   "source": [
    "**Exercise 2:**<br>\n",
    "Appropriately encode the target \"Claim\"."
   ]
  },
  {
   "cell_type": "code",
   "execution_count": null,
   "id": "0c8986da",
   "metadata": {},
   "outputs": [],
   "source": []
  },
  {
   "cell_type": "markdown",
   "id": "2e6cd291",
   "metadata": {},
   "source": [
    "**Exercise 3:**<br>\n",
    "Appropriately encode the categorical variables. We recommend merging categories with few observations in one group."
   ]
  },
  {
   "cell_type": "code",
   "execution_count": null,
   "id": "278e3495",
   "metadata": {},
   "outputs": [],
   "source": [
    "\n"
   ]
  },
  {
   "cell_type": "markdown",
   "id": "00fbfc34",
   "metadata": {},
   "source": [
    "**Exercise 4:**<br>\n",
    "Split 80% of the data in the training set and the remaining 20% data in the test set."
   ]
  },
  {
   "cell_type": "code",
   "execution_count": null,
   "id": "f965cc56",
   "metadata": {},
   "outputs": [],
   "source": [
    " "
   ]
  },
  {
   "cell_type": "markdown",
   "id": "e900d40a",
   "metadata": {},
   "source": [
    "**Exercise 5:**<br>\n",
    "Build a random forest model on the training data. Find the best tuning parameters by grid search.  \n",
    "Below is a simple grid, which you could choose."
   ]
  },
  {
   "cell_type": "code",
   "execution_count": 2,
   "id": "90779e27",
   "metadata": {},
   "outputs": [],
   "source": [
    "## example parameter grid\n",
    "param_grid = {'n_estimators': [500],\n",
    "              'max_features': [4, 8, 12],\n",
    "              'max_depth':[10]\n",
    "              }\n"
   ]
  },
  {
   "cell_type": "markdown",
   "id": "6cfaefa0",
   "metadata": {},
   "source": [
    "**Exercise 6:**<br>\n",
    "Evaluate the model by appropriate metrics on the test set. Is the model able to predict claims with certainty?\n",
    "Is the model usefull for application?"
   ]
  },
  {
   "cell_type": "code",
   "execution_count": null,
   "id": "ca679935",
   "metadata": {},
   "outputs": [],
   "source": []
  },
  {
   "cell_type": "markdown",
   "id": "8ef922d8",
   "metadata": {},
   "source": [
    "**Bonus:**<br>\n",
    "Identify which features are most relevant in predicting claims and how they affect the predictions."
   ]
  },
  {
   "cell_type": "code",
   "execution_count": null,
   "id": "226885d5",
   "metadata": {},
   "outputs": [],
   "source": [
    "## feature importance"
   ]
  },
  {
   "cell_type": "code",
   "execution_count": 3,
   "id": "610f4ab8",
   "metadata": {},
   "outputs": [],
   "source": [
    "## partial dependence plot"
   ]
  }
 ],
 "metadata": {
  "kernelspec": {
   "display_name": "Python 3",
   "language": "python",
   "name": "python3"
  },
  "language_info": {
   "codemirror_mode": {
    "name": "ipython",
    "version": 3
   },
   "file_extension": ".py",
   "mimetype": "text/x-python",
   "name": "python",
   "nbconvert_exporter": "python",
   "pygments_lexer": "ipython3",
   "version": "3.9.4"
  }
 },
 "nbformat": 4,
 "nbformat_minor": 5
}
