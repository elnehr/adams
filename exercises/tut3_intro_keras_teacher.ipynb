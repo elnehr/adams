{
 "cells": [
  {
   "cell_type": "markdown",
   "metadata": {},
   "source": [
    "# Tutorial 3: An Introduction to Keras\n",
    "This tutorial covers \n",
    "- [What's Keras?](#sec-1)\n",
    "- [Example: Regression problem](#sec-2)\n",
    "- [Exercise: Muticlass classification problem](#sec-3)"
   ]
  },
  {
   "cell_type": "markdown",
   "metadata": {},
   "source": [
    "## What's Keras? <a class=\"anchor\" id=\"sec-1\"></a>\n",
    "Keras ([https://keras.io](https://keras.io)) is a deep learning API for Python. It is built on top of Tensorflow ([https://www.tensorflow.org/](https://www.tensorflow.org/)), and its primary purpose is to enable fast experimentation by offering simple workflows. Keras is great for learning and will suffice for many applied deep learning projects.\n",
    "\n",
    "TensorFlow is one of the most popular and powerful deep learning frameworks, but its use is more complicated when compared to Keras. For ADAMS, simplicity rules and matters more than the greater flexibility Tensorflow or other popular frameworks like [PyTorch](https://pytorch.org/), [MXNet](https://mxnet.apache.org/) have to offer. \n",
    "\n",
    "Let's start with Keras. To that end, we will first present the anatomy of Neural Networks from Keras's perspective. Then, we will illustrate its use with a regression example and let you get your hands-on with a multiclass classification exercise. "
   ]
  },
  {
   "cell_type": "markdown",
   "metadata": {},
   "source": [
    "### Keras's perspective\n",
    "In Keras, the main class is the `Layer`. A layer is a module that transforms tensors, like LEGO bricks. The type of the layer depends on the tensor format and the type of data. For example, \n",
    "- Rank-2 tensor (samples, features) &rarr; dense layer (`Dense`).\n",
    "- Rank-3 tensor, such as sequence data, (samples, time, features) &rarr; recurrent layer (`LSTM`, `Conv1D`).\n",
    "- Rank-4 tensor, e.g. images &rarr; 2D convolution layer (`Conv2D`).\n",
    "\n",
    "`Layers` are assembled into the `Model` class. A deep learning model is not more than a graph of layers. For example, a model can be a stack of layers mapping a single input to a single output. That corresponds to the subclass of `Model` called `Sequential` in Keras. For example,\n",
    "\n",
    "```python\n",
    "model = keras.Sequential([\n",
    "    layers.Dense(64, activation=\"relu\"),\n",
    "    layers.Dense(64, activation=\"relu\"),\n",
    "    layers.Dense(1) # it does not have activation (linear layer by default)\n",
    "])\n",
    "```\n",
    "\n",
    "However, as long as we dive further in the course, we will find other network topologies, including two-branch networks, residual connections, etc. \n",
    "\n",
    "Before training your model, you will need to decide\n",
    "- which `optimizer` (`RMSprop`, `SGD`, etc.) you will use, \n",
    "- which `loss` function is adequate for the problem (`MeanSquaredError`, `CategoricalCrossentropy`, etc.), and \n",
    "- what `metrics` you want to monitor (`MAE`, `Accuracy`, etc.). \n",
    "\n",
    "All three are specified through the `compile()` method. \n",
    "\n",
    "Next, you'll use the `fit()` method to train the model. This method implements the loop itself, and its key arguments are the `data`, the number of `epochs`, and the `batch` size. Here we can also monitor the loss and metrics on the `validation` data.\n",
    "\n",
    "Finally, when the model is trained, we want to use it in new data. To this end, we use the method `predict()` to generate predictions on new data."
   ]
  },
  {
   "cell_type": "markdown",
   "metadata": {},
   "source": [
    "## Example: Regression problem <a class=\"anchor\" id=\"sec-2\"></a>\n",
    "Let's learn how to use Keras with an example. The idea is to predict the median value of owner-occupied homes (in thousands of dollars) in a Boston suburb, given features such as crime rate, the average number of rooms, and so forth. We structure the task in 5 steps:\n",
    "1. Get the dataset.\n",
    "2. Prepare the data for the training. Here we transform the data to be suitable for a neural network.\n",
    "3. Build the model. We create the layers (`Dense` layer), graph (`Sequential` model) and compile the model (`compile()`).\n",
    "4. Validate the approach. We commonly use training and validation sets to tune our model (`fit()`). Then, retrain the model with the fine-tuned parameters and evaluate the model in the test set.\n",
    "5. Make predictions on a new dataset. Commonly on the test set (`predict()`)."
   ]
  },
  {
   "cell_type": "markdown",
   "metadata": {},
   "source": [
    "### 1. Get the dataset\n",
    "Let's load the data"
   ]
  },
  {
   "cell_type": "code",
   "execution_count": 3,
   "metadata": {},
   "outputs": [],
   "source": [
    "from tensorflow.keras.datasets import boston_housing\n",
    "# this will split the data 80-20% by default\n",
    "(x_train, y_train), (x_test, y_test) = boston_housing.load_data()\n",
    "# if you want to try out different options, do the following\n",
    "# import tensorflow as tf\n",
    "# (x_train, y_train), (x_test, y_test) = tf.keras.datasets.boston_housing.load_data(path=\"boston_housing.npz\", test_split=0.2, seed=113)"
   ]
  },
  {
   "cell_type": "code",
   "execution_count": 4,
   "metadata": {},
   "outputs": [
    {
     "name": "stdout",
     "output_type": "stream",
     "text": [
      "Shape of train data: (404, 13) \n",
      "Shape of test data: (102, 13)\n"
     ]
    }
   ],
   "source": [
    "# Let's take a look at the shape of the data\n",
    "print('Shape of train data:',x_train.shape,\n",
    "'\\nShape of test data:', x_test.shape)"
   ]
  },
  {
   "cell_type": "code",
   "execution_count": 5,
   "metadata": {},
   "outputs": [
    {
     "data": {
      "text/html": [
       "<div>\n",
       "<style scoped>\n",
       "    .dataframe tbody tr th:only-of-type {\n",
       "        vertical-align: middle;\n",
       "    }\n",
       "\n",
       "    .dataframe tbody tr th {\n",
       "        vertical-align: top;\n",
       "    }\n",
       "\n",
       "    .dataframe thead th {\n",
       "        text-align: right;\n",
       "    }\n",
       "</style>\n",
       "<table border=\"1\" class=\"dataframe\">\n",
       "  <thead>\n",
       "    <tr style=\"text-align: right;\">\n",
       "      <th></th>\n",
       "      <th>0</th>\n",
       "      <th>1</th>\n",
       "      <th>2</th>\n",
       "      <th>3</th>\n",
       "      <th>4</th>\n",
       "      <th>5</th>\n",
       "      <th>6</th>\n",
       "      <th>7</th>\n",
       "      <th>8</th>\n",
       "      <th>9</th>\n",
       "      <th>10</th>\n",
       "      <th>11</th>\n",
       "      <th>12</th>\n",
       "    </tr>\n",
       "  </thead>\n",
       "  <tbody>\n",
       "    <tr>\n",
       "      <th>count</th>\n",
       "      <td>404.000000</td>\n",
       "      <td>404.000000</td>\n",
       "      <td>404.000000</td>\n",
       "      <td>404.000000</td>\n",
       "      <td>404.000000</td>\n",
       "      <td>404.000000</td>\n",
       "      <td>404.000000</td>\n",
       "      <td>404.000000</td>\n",
       "      <td>404.000000</td>\n",
       "      <td>404.000000</td>\n",
       "      <td>404.000000</td>\n",
       "      <td>404.000000</td>\n",
       "      <td>404.000000</td>\n",
       "    </tr>\n",
       "    <tr>\n",
       "      <th>mean</th>\n",
       "      <td>3.745111</td>\n",
       "      <td>11.480198</td>\n",
       "      <td>11.104431</td>\n",
       "      <td>0.061881</td>\n",
       "      <td>0.557356</td>\n",
       "      <td>6.267082</td>\n",
       "      <td>69.010644</td>\n",
       "      <td>3.740271</td>\n",
       "      <td>9.440594</td>\n",
       "      <td>405.898515</td>\n",
       "      <td>18.475990</td>\n",
       "      <td>354.783168</td>\n",
       "      <td>12.740817</td>\n",
       "    </tr>\n",
       "    <tr>\n",
       "      <th>std</th>\n",
       "      <td>9.240734</td>\n",
       "      <td>23.767711</td>\n",
       "      <td>6.811308</td>\n",
       "      <td>0.241238</td>\n",
       "      <td>0.117293</td>\n",
       "      <td>0.709788</td>\n",
       "      <td>27.940665</td>\n",
       "      <td>2.030215</td>\n",
       "      <td>8.698360</td>\n",
       "      <td>166.374543</td>\n",
       "      <td>2.200382</td>\n",
       "      <td>94.111148</td>\n",
       "      <td>7.254545</td>\n",
       "    </tr>\n",
       "    <tr>\n",
       "      <th>min</th>\n",
       "      <td>0.006320</td>\n",
       "      <td>0.000000</td>\n",
       "      <td>0.460000</td>\n",
       "      <td>0.000000</td>\n",
       "      <td>0.385000</td>\n",
       "      <td>3.561000</td>\n",
       "      <td>2.900000</td>\n",
       "      <td>1.129600</td>\n",
       "      <td>1.000000</td>\n",
       "      <td>188.000000</td>\n",
       "      <td>12.600000</td>\n",
       "      <td>0.320000</td>\n",
       "      <td>1.730000</td>\n",
       "    </tr>\n",
       "    <tr>\n",
       "      <th>25%</th>\n",
       "      <td>0.081437</td>\n",
       "      <td>0.000000</td>\n",
       "      <td>5.130000</td>\n",
       "      <td>0.000000</td>\n",
       "      <td>0.453000</td>\n",
       "      <td>5.874750</td>\n",
       "      <td>45.475000</td>\n",
       "      <td>2.077100</td>\n",
       "      <td>4.000000</td>\n",
       "      <td>279.000000</td>\n",
       "      <td>17.225000</td>\n",
       "      <td>374.672500</td>\n",
       "      <td>6.890000</td>\n",
       "    </tr>\n",
       "    <tr>\n",
       "      <th>50%</th>\n",
       "      <td>0.268880</td>\n",
       "      <td>0.000000</td>\n",
       "      <td>9.690000</td>\n",
       "      <td>0.000000</td>\n",
       "      <td>0.538000</td>\n",
       "      <td>6.198500</td>\n",
       "      <td>78.500000</td>\n",
       "      <td>3.142300</td>\n",
       "      <td>5.000000</td>\n",
       "      <td>330.000000</td>\n",
       "      <td>19.100000</td>\n",
       "      <td>391.250000</td>\n",
       "      <td>11.395000</td>\n",
       "    </tr>\n",
       "    <tr>\n",
       "      <th>75%</th>\n",
       "      <td>3.674808</td>\n",
       "      <td>12.500000</td>\n",
       "      <td>18.100000</td>\n",
       "      <td>0.000000</td>\n",
       "      <td>0.631000</td>\n",
       "      <td>6.609000</td>\n",
       "      <td>94.100000</td>\n",
       "      <td>5.118000</td>\n",
       "      <td>24.000000</td>\n",
       "      <td>666.000000</td>\n",
       "      <td>20.200000</td>\n",
       "      <td>396.157500</td>\n",
       "      <td>17.092500</td>\n",
       "    </tr>\n",
       "    <tr>\n",
       "      <th>max</th>\n",
       "      <td>88.976200</td>\n",
       "      <td>100.000000</td>\n",
       "      <td>27.740000</td>\n",
       "      <td>1.000000</td>\n",
       "      <td>0.871000</td>\n",
       "      <td>8.725000</td>\n",
       "      <td>100.000000</td>\n",
       "      <td>10.710300</td>\n",
       "      <td>24.000000</td>\n",
       "      <td>711.000000</td>\n",
       "      <td>22.000000</td>\n",
       "      <td>396.900000</td>\n",
       "      <td>37.970000</td>\n",
       "    </tr>\n",
       "  </tbody>\n",
       "</table>\n",
       "</div>"
      ],
      "text/plain": [
       "               0           1           2           3           4           5   \\\n",
       "count  404.000000  404.000000  404.000000  404.000000  404.000000  404.000000   \n",
       "mean     3.745111   11.480198   11.104431    0.061881    0.557356    6.267082   \n",
       "std      9.240734   23.767711    6.811308    0.241238    0.117293    0.709788   \n",
       "min      0.006320    0.000000    0.460000    0.000000    0.385000    3.561000   \n",
       "25%      0.081437    0.000000    5.130000    0.000000    0.453000    5.874750   \n",
       "50%      0.268880    0.000000    9.690000    0.000000    0.538000    6.198500   \n",
       "75%      3.674808   12.500000   18.100000    0.000000    0.631000    6.609000   \n",
       "max     88.976200  100.000000   27.740000    1.000000    0.871000    8.725000   \n",
       "\n",
       "               6           7           8           9           10          11  \\\n",
       "count  404.000000  404.000000  404.000000  404.000000  404.000000  404.000000   \n",
       "mean    69.010644    3.740271    9.440594  405.898515   18.475990  354.783168   \n",
       "std     27.940665    2.030215    8.698360  166.374543    2.200382   94.111148   \n",
       "min      2.900000    1.129600    1.000000  188.000000   12.600000    0.320000   \n",
       "25%     45.475000    2.077100    4.000000  279.000000   17.225000  374.672500   \n",
       "50%     78.500000    3.142300    5.000000  330.000000   19.100000  391.250000   \n",
       "75%     94.100000    5.118000   24.000000  666.000000   20.200000  396.157500   \n",
       "max    100.000000   10.710300   24.000000  711.000000   22.000000  396.900000   \n",
       "\n",
       "               12  \n",
       "count  404.000000  \n",
       "mean    12.740817  \n",
       "std      7.254545  \n",
       "min      1.730000  \n",
       "25%      6.890000  \n",
       "50%     11.395000  \n",
       "75%     17.092500  \n",
       "max     37.970000  "
      ]
     },
     "execution_count": 5,
     "metadata": {},
     "output_type": "execute_result"
    }
   ],
   "source": [
    "# Let's take a look at the features\n",
    "import pandas as pd\n",
    "pd.DataFrame(x_train).describe()"
   ]
  },
  {
   "cell_type": "markdown",
   "metadata": {},
   "source": [
    "The descriptions of the features are the following (more details about this dataset can be found in [http://lib.stat.cmu.edu/datasets/boston](http://lib.stat.cmu.edu/datasets/boston))\n",
    "| # | Variable | Description |\n",
    "|---|---|---|\n",
    "| 1 | CRIM | per capita crime rate by town |\n",
    "| 2 | ZN | proportion of residential land zoned for lots over 25,000 sq.ft. |\n",
    "| 3 | INDUS | proportion of non-retail business acres per town |\n",
    "| 4 | CHAS | Charles River dummy variable (= 1 if tract bounds river; 0 otherwise) |\n",
    "| 5 | NOX | nitric oxides concentration (parts per 10 million) |\n",
    "| 6 | RM | average number of rooms per dwelling |\n",
    "| 7 | AGE | proportion of owner-occupied units built prior to 1940 |\n",
    "| 8 | DIS | weighted distances to five Boston employment centres |\n",
    "| 9 | RAD | index of accessibility to radial highways |\n",
    "| 10 | TAX | full-value property-tax rate per $10,000 |\n",
    "| 11 | PTRATIO | pupil-teacher ratio by town |\n",
    "| 12 | B | 1000(Bk - 0.63)^2 where Bk is the proportion of blacks by town |\n",
    "| 13 | LSTAT | % lower status of the population |\n",
    "\n",
    "So, we have 404 samples to train and 102 to test, each with 13 numerical features. The target is the median values of homes. Let's have a quick look at them"
   ]
  },
  {
   "cell_type": "code",
   "execution_count": 6,
   "metadata": {},
   "outputs": [
    {
     "data": {
      "image/png": "[encoded data removed]",
      "text/plain": [
       "<Figure size 432x288 with 1 Axes>"
      ]
     },
     "metadata": {
      "needs_background": "light"
     },
     "output_type": "display_data"
    }
   ],
   "source": [
    "import matplotlib.pyplot as plt\n",
    "plt.hist(y_train)\n",
    "plt.show()"
   ]
  },
  {
   "cell_type": "markdown",
   "metadata": {},
   "source": [
    "The prices are between 10K and 50K. That seems cheap! However, the data is from the mid-1970s. "
   ]
  },
  {
   "cell_type": "markdown",
   "metadata": {},
   "source": [
    "### 2. Data preparation\n",
    "We saw that `x_train` takes different ranges. This is problematic for neural networks, so a common practice is to normalise each feature. This means that for each column, we subtract its mean and divide it by its standard deviation. Let's do that"
   ]
  },
  {
   "cell_type": "code",
   "execution_count": 7,
   "metadata": {},
   "outputs": [],
   "source": [
    "mean = x_train.mean(axis=0) # axis 0, along the rows or column-wise operation\n",
    "std = x_train.std(axis=0)\n",
    "x_train -= mean # substract the mean\n",
    "x_train /= std # divide by the stdev\n",
    "# apply this very same transformation to the test set (never compute on test set!)\n",
    "x_test -= mean\n",
    "x_test /= std"
   ]
  },
  {
   "cell_type": "markdown",
   "metadata": {},
   "source": [
    "### 3. Building the model\n",
    "We are ready to build our model. Since the sample size is small, two layers with 64 units will be enough to avoid overfitting. Each layer has `relu` activation function. Moreover, since the target is price, we use `linear` activation for the output of the neural network"
   ]
  },
  {
   "cell_type": "code",
   "execution_count": 24,
   "metadata": {},
   "outputs": [],
   "source": [
    "from tensorflow import keras\n",
    "from tensorflow.keras import layers\n",
    "model = keras.Sequential([\n",
    "    layers.Dense(64, activation=\"relu\"),\n",
    "    layers.Dense(64, activation=\"relu\"),\n",
    "    layers.Dense(1) # it does not have activation (linear layer)\n",
    "])"
   ]
  },
  {
   "cell_type": "markdown",
   "metadata": {},
   "source": [
    "We have specified the architecture of the network. Now, let's compile our model using *Root Mean Square propagation* (`RMSprop`) as the optimization algorithm. Of course, there are many other alternatives for the `optimizer`, such as `SGD`, `Adam`, `Adadelta`, etc. (see [https://keras.io/api/optimizers/](https://keras.io/api/optimizers/)).\n",
    "\n",
    "We use the Mean Square Error as the loss (`mse`) (see [https://keras.io/api/losses/](https://keras.io/api/losses/) for other alternatives). We also track the Mean Absolute Error (`mae`) defined in `metrics`. "
   ]
  },
  {
   "cell_type": "code",
   "execution_count": 25,
   "metadata": {},
   "outputs": [],
   "source": [
    "model.compile(optimizer='RMSprop', \n",
    "    loss='mse', # mean squared error, widely used for regression problems\n",
    "    metrics=['mae']) # we are also monitoring the mean absolute error "
   ]
  },
  {
   "cell_type": "markdown",
   "metadata": {},
   "source": [
    "### 4. Validate the approach\n",
    "In this step, we fit the model. To do it, we first create a validation set from the train data. For example, we can use the first quarter of the training data"
   ]
  },
  {
   "cell_type": "code",
   "execution_count": 26,
   "metadata": {},
   "outputs": [],
   "source": [
    "num_val_samples = len(x_train) // 4 \n",
    "x_val = x_train[0:num_val_samples]\n",
    "y_val = y_train[0:num_val_samples]\n",
    "x_train_aux = x_train[num_val_samples:]\n",
    "y_train_aux = y_train[num_val_samples:]"
   ]
  },
  {
   "cell_type": "markdown",
   "metadata": {},
   "source": [
    "For the training we use 100 epochs and a batch size of 16"
   ]
  },
  {
   "cell_type": "code",
   "execution_count": 27,
   "metadata": {},
   "outputs": [],
   "source": [
    "history = model.fit(x_train_aux,\n",
    "                    y_train_aux,\n",
    "                    epochs = 100,\n",
    "                    batch_size = 16,\n",
    "                    validation_data= (x_val, y_val), # also possible `validation_split = 0.25`\n",
    "                    verbose = 0) # change it to 1 if we want to see how the loss is optimized"
   ]
  },
  {
   "cell_type": "markdown",
   "metadata": {},
   "source": [
    "Let's plot the training and validation loss"
   ]
  },
  {
   "cell_type": "code",
   "execution_count": 28,
   "metadata": {},
   "outputs": [
    {
     "data": {
      "image/png": "[encoded data removed]",
      "text/plain": [
       "<Figure size 432x288 with 1 Axes>"
      ]
     },
     "metadata": {
      "needs_background": "light"
     },
     "output_type": "display_data"
    }
   ],
   "source": [
    "loss = history.history[\"loss\"] # retrieve the loss in the training set\n",
    "val_loss = history.history[\"val_loss\"] # retrieve the loss in the validation set\n",
    "trunc_loss = loss[10:] # just to zoom in and see the differences\n",
    "trunc_val_loss = val_loss[10:]\n",
    "epochs = range(1, len(trunc_loss)+1)\n",
    "plt.plot(epochs, trunc_loss, \"bo\", label = \"Training loss\")\n",
    "plt.plot(epochs, trunc_val_loss, \"b\", label = \"Validation loss\")\n",
    "plt.title(\"Training and validation loss\")\n",
    "plt.xlabel(\"epochs\")\n",
    "plt.ylabel(\"loss\")\n",
    "plt.legend()\n",
    "plt.show()"
   ]
  },
  {
   "cell_type": "markdown",
   "metadata": {},
   "source": [
    "It seems that around 60 epochs, there is not much improvement. We can now train the final model on all training data using 60 epochs, and then we evaluate it on the test data."
   ]
  },
  {
   "cell_type": "code",
   "execution_count": 29,
   "metadata": {},
   "outputs": [
    {
     "name": "stdout",
     "output_type": "stream",
     "text": [
      "4/4 [==============================] - 0s 1ms/step - loss: 17.2559 - mae: 2.6268\n"
     ]
    }
   ],
   "source": [
    "model = keras.Sequential([\n",
    "    layers.Dense(64, activation=\"relu\"),\n",
    "    layers.Dense(64, activation=\"relu\"),\n",
    "    layers.Dense(1) # it does not have activation (linear layer)\n",
    "])\n",
    "model.compile(optimizer='rmsprop', \n",
    "    loss='mse', # mean squared error, widely used for regression problems\n",
    "    metrics=['mae']) # we are also monitoring the mean absolute error \n",
    "model.fit(x_train,\n",
    "    y_train,\n",
    "    epochs = 60,\n",
    "    batch_size=16,\n",
    "    verbose=0)\n",
    "results = model.evaluate(x_test, y_test)"
   ]
  },
  {
   "cell_type": "markdown",
   "metadata": {},
   "source": [
    "Hence, we reached a MAE of 2.6. This means we are off around $2,600 in our predictions. "
   ]
  },
  {
   "cell_type": "markdown",
   "metadata": {},
   "source": [
    "### 5. Generate predictions on new data\n",
    "The function `predict()` returns the predicted median price of the houses (in $1,000)."
   ]
  },
  {
   "cell_type": "code",
   "execution_count": 30,
   "metadata": {},
   "outputs": [
    {
     "data": {
      "image/png": "[encoded data removed]",
      "text/plain": [
       "<Figure size 432x432 with 1 Axes>"
      ]
     },
     "metadata": {
      "needs_background": "light"
     },
     "output_type": "display_data"
    }
   ],
   "source": [
    "predictions = model.predict(x_test)\n",
    "\n",
    "# Let's plot the true prices versus the predictions\n",
    "f, ax = plt.subplots(figsize=(6, 6))\n",
    "ax.scatter(predictions, y_test)\n",
    "ax.plot([0, 1], [0, 1], transform=ax.transAxes) # add diagonal as a reference\n",
    "plt.title(\"Prices vs predictions\")\n",
    "plt.xlabel(\"predicted median price\")\n",
    "plt.ylabel(\"true price\")\n",
    "plt.show()"
   ]
  },
  {
   "cell_type": "markdown",
   "metadata": {},
   "source": [
    "## Exercise: Multiclass classification  <a class=\"anchor\" id=\"sec-3\"></a>\n",
    "The goal is to build a model that classifies news (text data) into 46 mutually exclusive categories. Since each news item is classified in only one category, the problem is *single-label multiclass classification*. On the other hand, if we wanted, for example, to build a model that allows each news item to be classified into more than one category, it would be a *multilabel multiclass classification* problem."
   ]
  },
  {
   "cell_type": "markdown",
   "metadata": {},
   "source": [
    "### 1. Get the dataset\n",
    "#### Exercise 1 \n",
    "Load the `reuters` dataset, available from `tensorflow.keras.datasets `. \n",
    "To limit the data size, filter the 10,000 most frequently occurring words using the argument `num_words=10000` in the `load_data` module. Split the data 80/20 as before and have a look at how many examples each dataset has."
   ]
  },
  {
   "cell_type": "code",
   "execution_count": 55,
   "metadata": {},
   "outputs": [
    {
     "name": "stdout",
     "output_type": "stream",
     "text": [
      "Train dataset: (8982,) \n",
      "Test dataset: (2246,)\n"
     ]
    }
   ],
   "source": [
    "# Load reuters dataset\n",
    "import warnings\n",
    "import numpy as np\n",
    "warnings.filterwarnings(\"ignore\", category=np.VisibleDeprecationWarning)\n",
    "\n",
    "from tensorflow.keras.datasets import reuters\n",
    "(x_train, y_train), (x_test, y_test) = reuters.load_data(num_words=10000, test_split=0.2)\n",
    "print(\"Train dataset:\", x_train.shape,\n",
    "\"\\nTest dataset:\", x_test.shape )"
   ]
  },
  {
   "cell_type": "markdown",
   "metadata": {},
   "source": [
    "#### Exercise 2\n",
    "Print the first example from the training dataset to see that are a list of integers. Next, using the `reuters.get_word_index()` create a dictionary to retrieve the words and recreate the news article for the first example. You will need to lag the indices by 3 because the first 3 are reserved for *padding*, *start of sequence* and *unknown*."
   ]
  },
  {
   "cell_type": "code",
   "execution_count": 46,
   "metadata": {},
   "outputs": [
    {
     "name": "stdout",
     "output_type": "stream",
     "text": [
      "[1, 2, 2, 8, 43, 10, 447, 5, 25, 207, 270, 5, 3095, 111, 16, 369, 186, 90, 67, 7, 89, 5, 19, 102, 6, 19, 124, 15, 90, 67, 84, 22, 482, 26, 7, 48, 4, 49, 8, 864, 39, 209, 154, 6, 151, 6, 83, 11, 15, 22, 155, 11, 15, 7, 48, 9, 4579, 1005, 504, 6, 258, 6, 272, 11, 15, 22, 134, 44, 11, 15, 16, 8, 197, 1245, 90, 67, 52, 29, 209, 30, 32, 132, 6, 109, 15, 17, 12]\n"
     ]
    }
   ],
   "source": [
    "# The examples are a list of integers. Each integer represents a word index.\n",
    "print(x_train[0])"
   ]
  },
  {
   "cell_type": "code",
   "execution_count": 47,
   "metadata": {},
   "outputs": [
    {
     "data": {
      "text/plain": [
       "'? ? ? said as a result of its december acquisition of space co it expects earnings per share in 1987 of 1 15 to 1 30 dlrs per share up from 70 cts in 1986 the company said pretax net should rise to nine to 10 mln dlrs from six mln dlrs in 1986 and rental operation revenues to 19 to 22 mln dlrs from 12 5 mln dlrs it said cash flow per share this year should be 2 50 to three dlrs reuter 3'"
      ]
     },
     "execution_count": 47,
     "metadata": {},
     "output_type": "execute_result"
    }
   ],
   "source": [
    "# Create a dictionary and convert x_train[0] to sequence of words\n",
    "word_index  = reuters.get_word_index()\n",
    "rev_word_index = dict([value, key] for (key, value) in word_index.items())\n",
    "# the indices are offset by 3 because 0, 1, and 2 are reserved for \"padding\", \"start of seq\", and \"unknown\"\n",
    "news_example = \" \".join([rev_word_index.get(i-3,\"?\") for i in x_train[0]]) \n",
    "news_example"
   ]
  },
  {
   "cell_type": "markdown",
   "metadata": {},
   "source": [
    "#### Exercise 3 \n",
    "Create a frequency table to count how many examples are per category in the training dataset (you can use `np.unique` and `np.asarray` for example)."
   ]
  },
  {
   "cell_type": "code",
   "execution_count": 49,
   "metadata": {},
   "outputs": [
    {
     "data": {
      "text/plain": [
       "array([[   0,    1,    2,    3,    4,    5,    6,    7,    8,    9,   10,\n",
       "          11,   12,   13,   14,   15,   16,   17,   18,   19,   20,   21,\n",
       "          22,   23,   24,   25,   26,   27,   28,   29,   30,   31,   32,\n",
       "          33,   34,   35,   36,   37,   38,   39,   40,   41,   42,   43,\n",
       "          44,   45],\n",
       "       [  55,  432,   74, 3159, 1949,   17,   48,   16,  139,  101,  124,\n",
       "         390,   49,  172,   26,   20,  444,   39,   66,  549,  269,  100,\n",
       "          15,   41,   62,   92,   24,   15,   48,   19,   45,   39,   32,\n",
       "          11,   50,   10,   49,   19,   19,   24,   36,   30,   13,   21,\n",
       "          12,   18]])"
      ]
     },
     "execution_count": 49,
     "metadata": {},
     "output_type": "execute_result"
    }
   ],
   "source": [
    "## let's see the labels\n",
    "labels_unique, freq = np.unique(y_train, return_counts=True)\n",
    "np.asarray((labels_unique, freq ))"
   ]
  },
  {
   "cell_type": "markdown",
   "metadata": {},
   "source": [
    "### 2. Data preparation\n",
    "The training examples are lists of integers, all with different lengths. However, we can't directly input lists of integers with different lengths into a neural network. So, we need to transform them, and to do so we have two options:\n",
    "1. Pad our lists to let them all with the same length, e.g. a tensor with shape `(samples, max_length)`.\n",
    "2. Multi-hot encoding our lists to transform them into vectors of 0s and 1s with a length equal to the size of the vocabulary. In our case, 10,000.\n",
    "The first option will need a layer called `Embedding` (cover later in the course). The second option can be handled with the `Dense` layer and is the one we'll use.  "
   ]
  },
  {
   "cell_type": "markdown",
   "metadata": {},
   "source": [
    "#### Exercise 4\n",
    "Create a fuction called `to_multi_hot_encoding` that takes the list of integes and outputs a multi-hot encoding matrix of size `(samples, vacabulary_dim)`. For example, if the list of integers is `[2,1,5,5]` and the vocabulary has 10 words, the function should give us `[0., 1., 1., 0., 0., 1., 0., 0., 0., 0.]`. Once created, encode `x_train` and `x_test` and call these new object `x_train_enc` and `x_test_enc`, respectively."
   ]
  },
  {
   "cell_type": "code",
   "execution_count": 60,
   "metadata": {},
   "outputs": [
    {
     "data": {
      "text/plain": [
       "array([0., 1., 1., ..., 0., 0., 0.])"
      ]
     },
     "execution_count": 60,
     "metadata": {},
     "output_type": "execute_result"
    }
   ],
   "source": [
    "# create to_multi_hot_encoding function\n",
    "def to_multi_hot_encoding(lists_int, dim = 10000):\n",
    "    res = np.zeros((len(lists_int), dim))\n",
    "    for i, list_int in enumerate(lists_int):\n",
    "        for j in list_int:\n",
    "            res[i,j] = 1\n",
    "    return res\n",
    "# convert x_train and x_test\n",
    "x_train_enc = to_multi_hot_encoding(x_train)\n",
    "x_test_enc = to_multi_hot_encoding(x_test)\n",
    "x_train_enc[0]"
   ]
  },
  {
   "cell_type": "markdown",
   "metadata": {},
   "source": [
    "#### Exercise 5\n",
    "Now we need to vectorise the labels. To do so, we also have two options\n",
    "1. We can cast the label list as an integer tensor (later). \n",
    "2. We can use one-hot encoding, also called categorical encoding. \n",
    "\n",
    "Create a new function called `to_one_hot_encoding` that does the encoding. Then, apply it to `y_train` and `y_test` to create `y_train_enc` and `y_test_enc`, respectively."
   ]
  },
  {
   "cell_type": "code",
   "execution_count": 64,
   "metadata": {},
   "outputs": [
    {
     "data": {
      "text/plain": [
       "array([0., 0., 0., 1., 0., 0., 0., 0., 0., 0., 0., 0., 0., 0., 0., 0., 0.,\n",
       "       0., 0., 0., 0., 0., 0., 0., 0., 0., 0., 0., 0., 0., 0., 0., 0., 0.,\n",
       "       0., 0., 0., 0., 0., 0., 0., 0., 0., 0., 0., 0.])"
      ]
     },
     "execution_count": 64,
     "metadata": {},
     "output_type": "execute_result"
    }
   ],
   "source": [
    "# create to_one_hot_encoding\n",
    "def to_one_hot_encoding(labels, dim = 46):\n",
    "    res = np.zeros((len(labels),dim))\n",
    "    for i, label in enumerate(labels):\n",
    "        res[i,label] = 1\n",
    "    return res\n",
    "y_train_enc = to_one_hot_encoding(y_train)\n",
    "y_test_enc = to_one_hot_encoding(y_test)\n",
    "y_train_enc[0]\n",
    "# Note: we can also do this with Keras's function \"to_categorical\"\n",
    "# from tensorflow.keras.utils import to_categorical \n",
    "# y_train_enc = to_categorical(y_train)\n",
    "# y_test_enc = to_categorical(y_test)"
   ]
  },
  {
   "cell_type": "markdown",
   "metadata": {},
   "source": [
    "### 3. Building the model\n",
    "\n",
    "#### Exercise 6\n",
    "Build a 3 stack of sequential `Dense` layers where\n",
    "- The first and second layers have 64 units and `relu` activation. What happens if the number of units is lower than the number of categories?\n",
    "- The final layer has the right dimension and a `softmax` activation function. \n",
    "- Use `rmsprop` as optimizer, `categorical_crossentropy` as loss function and record `accuracy`."
   ]
  },
  {
   "cell_type": "code",
   "execution_count": 69,
   "metadata": {},
   "outputs": [],
   "source": [
    "# Define model\n",
    "model = keras.Sequential([\n",
    "    layers.Dense(64, activation=\"relu\"),\n",
    "    layers.Dense(64, activation=\"relu\"),\n",
    "    layers.Dense(y_train_enc.shape[1], activation = \"softmax\")\n",
    "])\n",
    "# Compile model\n",
    "model.compile(optimizer = \"rmsprop\",\n",
    "    loss=\"categorical_crossentropy\",\n",
    "    metrics = [\"accuracy\"]\n",
    ")"
   ]
  },
  {
   "cell_type": "markdown",
   "metadata": {},
   "source": [
    "### 4. Validate the approach\n",
    "#### Exercise 7\n",
    "- Use the first 2,000 samples from the training data as the validation set.\n",
    "- Train the model for 15 epochs with a batch size of 512. Save the history in `history`"
   ]
  },
  {
   "cell_type": "code",
   "execution_count": 66,
   "metadata": {},
   "outputs": [
    {
     "name": "stdout",
     "output_type": "stream",
     "text": [
      "Epoch 1/15\n",
      "14/14 [==============================] - 1s 43ms/step - loss: 3.0388 - accuracy: 0.4251 - val_loss: 1.7866 - val_accuracy: 0.6270\n",
      "Epoch 2/15\n",
      "14/14 [==============================] - 0s 33ms/step - loss: 1.5121 - accuracy: 0.6770 - val_loss: 1.4063 - val_accuracy: 0.6890\n",
      "Epoch 3/15\n",
      "14/14 [==============================] - 0s 29ms/step - loss: 1.1127 - accuracy: 0.7555 - val_loss: 1.2586 - val_accuracy: 0.7105\n",
      "Epoch 4/15\n",
      "14/14 [==============================] - 0s 25ms/step - loss: 0.8864 - accuracy: 0.8068 - val_loss: 1.1989 - val_accuracy: 0.7245\n",
      "Epoch 5/15\n",
      "14/14 [==============================] - 0s 27ms/step - loss: 0.7121 - accuracy: 0.8441 - val_loss: 1.0678 - val_accuracy: 0.7705\n",
      "Epoch 6/15\n",
      "14/14 [==============================] - 0s 27ms/step - loss: 0.5503 - accuracy: 0.8883 - val_loss: 1.0362 - val_accuracy: 0.7830\n",
      "Epoch 7/15\n",
      "14/14 [==============================] - 0s 34ms/step - loss: 0.4321 - accuracy: 0.9098 - val_loss: 0.9937 - val_accuracy: 0.7925\n",
      "Epoch 8/15\n",
      "14/14 [==============================] - 0s 27ms/step - loss: 0.3517 - accuracy: 0.9262 - val_loss: 0.9814 - val_accuracy: 0.7960\n",
      "Epoch 9/15\n",
      "14/14 [==============================] - 0s 28ms/step - loss: 0.2920 - accuracy: 0.9406 - val_loss: 1.0106 - val_accuracy: 0.7950\n",
      "Epoch 10/15\n",
      "14/14 [==============================] - 0s 27ms/step - loss: 0.2338 - accuracy: 0.9511 - val_loss: 1.0221 - val_accuracy: 0.7905\n",
      "Epoch 11/15\n",
      "14/14 [==============================] - 0s 29ms/step - loss: 0.2122 - accuracy: 0.9478 - val_loss: 1.0743 - val_accuracy: 0.7830\n",
      "Epoch 12/15\n",
      "14/14 [==============================] - 0s 28ms/step - loss: 0.1754 - accuracy: 0.9580 - val_loss: 1.0779 - val_accuracy: 0.7855\n",
      "Epoch 13/15\n",
      "14/14 [==============================] - 1s 43ms/step - loss: 0.1605 - accuracy: 0.9574 - val_loss: 1.1423 - val_accuracy: 0.7685\n",
      "Epoch 14/15\n",
      "14/14 [==============================] - 0s 27ms/step - loss: 0.1348 - accuracy: 0.9614 - val_loss: 1.1178 - val_accuracy: 0.7860\n",
      "Epoch 15/15\n",
      "14/14 [==============================] - 0s 28ms/step - loss: 0.1278 - accuracy: 0.9625 - val_loss: 1.0862 - val_accuracy: 0.7915\n"
     ]
    }
   ],
   "source": [
    "# Create validation set\n",
    "x_val_enc = x_train_enc[:2000]\n",
    "x_train_enc_aux = x_train_enc[2000:]\n",
    "y_val_enc = y_train_enc[:2000]\n",
    "y_train_enc_aux = y_train_enc[2000:]\n",
    "\n",
    "# Fit the model\n",
    "history = model.fit(x_train_enc_aux,\n",
    "                    y_train_enc_aux,\n",
    "                    epochs = 15,\n",
    "                    batch_size = 512,\n",
    "                    validation_data=(x_val_enc, y_val_enc))"
   ]
  },
  {
   "cell_type": "markdown",
   "metadata": {},
   "source": [
    "#### Exercise 8\n",
    "Plot the training and validation loss to see when the model starts to overfit"
   ]
  },
  {
   "cell_type": "code",
   "execution_count": 67,
   "metadata": {},
   "outputs": [
    {
     "data": {
      "image/png": "[encoded data removed]",
      "text/plain": [
       "<Figure size 432x288 with 1 Axes>"
      ]
     },
     "metadata": {
      "needs_background": "light"
     },
     "output_type": "display_data"
    }
   ],
   "source": [
    "## Plot training and validation loss\n",
    "loss = history.history[\"loss\"]\n",
    "val_loss = history.history[\"val_loss\"]\n",
    "epochs = range(1, len(loss) + 1)\n",
    "plt.plot(epochs, loss, \"bo\", label=\"Training loss\")\n",
    "plt.plot(epochs, val_loss, \"b\", label=\"Validation loss\")\n",
    "plt.title(\"Training and validation loss\")\n",
    "plt.xlabel(\"Epochs\")\n",
    "plt.ylabel(\"Loss\")\n",
    "plt.legend()\n",
    "plt.show()"
   ]
  },
  {
   "cell_type": "markdown",
   "metadata": {},
   "source": [
    "#### Exercise 9\n",
    "Re-train the model for the whole training data, using an adequate number of epochs."
   ]
  },
  {
   "cell_type": "code",
   "execution_count": 68,
   "metadata": {},
   "outputs": [
    {
     "name": "stdout",
     "output_type": "stream",
     "text": [
      "Epoch 1/9\n",
      "18/18 [==============================] - 1s 19ms/step - loss: 3.0476 - accuracy: 0.4244\n",
      "Epoch 2/9\n",
      "18/18 [==============================] - 0s 18ms/step - loss: 1.4105 - accuracy: 0.7069\n",
      "Epoch 3/9\n",
      "18/18 [==============================] - 0s 19ms/step - loss: 1.0102 - accuracy: 0.7844\n",
      "Epoch 4/9\n",
      "18/18 [==============================] - 0s 20ms/step - loss: 0.7730 - accuracy: 0.8327\n",
      "Epoch 5/9\n",
      "18/18 [==============================] - 0s 23ms/step - loss: 0.6048 - accuracy: 0.8766\n",
      "Epoch 6/9\n",
      "18/18 [==============================] - 0s 20ms/step - loss: 0.4737 - accuracy: 0.9071\n",
      "Epoch 7/9\n",
      "18/18 [==============================] - 0s 20ms/step - loss: 0.3851 - accuracy: 0.9204\n",
      "Epoch 8/9\n",
      "18/18 [==============================] - 0s 19ms/step - loss: 0.3076 - accuracy: 0.9336\n",
      "Epoch 9/9\n",
      "18/18 [==============================] - 0s 19ms/step - loss: 0.2600 - accuracy: 0.9407\n"
     ]
    },
    {
     "data": {
      "text/plain": [
       "<tensorflow.python.keras.callbacks.History at 0x7ff457520d30>"
      ]
     },
     "execution_count": 68,
     "metadata": {},
     "output_type": "execute_result"
    }
   ],
   "source": [
    "# Re-train the model from scratch\n",
    "model = keras.Sequential([\n",
    "    layers.Dense(64, activation=\"relu\"),\n",
    "    layers.Dense(64, activation=\"relu\"),\n",
    "    layers.Dense(y_train_enc.shape[1], activation = \"softmax\")\n",
    "])\n",
    "model.compile(optimizer = \"rmsprop\",\n",
    "    loss=\"categorical_crossentropy\",\n",
    "    metrics = [\"accuracy\"]\n",
    ")\n",
    "model.fit(x_train_enc,\n",
    "        y_train_enc,\n",
    "        epochs = 9,\n",
    "        batch_size = 512)"
   ]
  },
  {
   "cell_type": "markdown",
   "metadata": {},
   "source": [
    "#### Exercise 10\n",
    "Evaluate the model in the test data. How accurate is the model?"
   ]
  },
  {
   "cell_type": "code",
   "execution_count": 23,
   "metadata": {},
   "outputs": [
    {
     "name": "stdout",
     "output_type": "stream",
     "text": [
      "71/71 [==============================] - 0s 2ms/step - loss: 0.9475 - accuracy: 0.7992\n"
     ]
    },
    {
     "data": {
      "text/plain": [
       "[0.9475279450416565, 0.799198567867279]"
      ]
     },
     "execution_count": 23,
     "metadata": {},
     "output_type": "execute_result"
    }
   ],
   "source": [
    "# Evaluate on test data\n",
    "res = model.evaluate(x_test_enc, y_test_enc)\n",
    "res"
   ]
  },
  {
   "cell_type": "markdown",
   "metadata": {},
   "source": [
    "### 5. Generate predictions\n",
    "#### Exercise 11\n",
    "Generate predictions for the test set and print the first example. Which class is the most probable? \n"
   ]
  },
  {
   "cell_type": "code",
   "execution_count": 24,
   "metadata": {},
   "outputs": [
    {
     "name": "stdout",
     "output_type": "stream",
     "text": [
      "[8.73607423e-05 1.29068081e-04 2.30371425e-05 1.62262633e-01\n",
      " 8.26559842e-01 2.75213165e-06 8.44428996e-06 6.37308476e-05\n",
      " 2.71411147e-03 6.15980753e-06 4.67208920e-05 1.15488634e-04\n",
      " 7.36577131e-05 2.57582124e-05 2.11478234e-03 2.37185359e-05\n",
      " 8.54772516e-04 3.72695395e-05 4.23293415e-04 4.29542124e-04\n",
      " 4.42920136e-04 1.04838342e-03 7.12533583e-05 2.41922142e-04\n",
      " 1.54861100e-05 8.06782846e-05 5.03918181e-06 3.48712056e-05\n",
      " 5.02309937e-04 6.14674282e-05 2.06490120e-04 7.55492074e-05\n",
      " 7.04166523e-05 1.09992334e-06 1.88141261e-04 1.02212420e-04\n",
      " 5.32748469e-04 4.89825543e-05 1.15945181e-06 7.92771170e-05\n",
      " 4.70867926e-05 1.63632067e-05 9.15855344e-06 8.68950156e-05\n",
      " 1.86527359e-05 9.20470757e-06]\n"
     ]
    }
   ],
   "source": [
    "# Generate predictions\n",
    "predictions = model.predict(x_test_enc)\n",
    "print(predictions[0])"
   ]
  },
  {
   "cell_type": "markdown",
   "metadata": {},
   "source": [
    "#### Exercise 12\n",
    "Get the predicted classes (use `np.argmax` function) and compare them with the true ones"
   ]
  },
  {
   "cell_type": "code",
   "execution_count": 25,
   "metadata": {},
   "outputs": [
    {
     "data": {
      "text/plain": [
       "array([[ 3,  4],\n",
       "       [10, 10],\n",
       "       [ 1,  1],\n",
       "       ...,\n",
       "       [ 3,  3],\n",
       "       [ 3,  4],\n",
       "       [24,  1]])"
      ]
     },
     "execution_count": 25,
     "metadata": {},
     "output_type": "execute_result"
    }
   ],
   "source": [
    "# Get the predicted class\n",
    "pred_classes = np.argmax(predictions, axis = 1)\n",
    "np.column_stack((y_test, pred_classes))"
   ]
  },
  {
   "cell_type": "markdown",
   "metadata": {},
   "source": [
    "## Summing up\n",
    "We have seen simple cases of the use of Keras. In all of them, the main steps were\n",
    "\n",
    "```python\n",
    "# Define model\n",
    "model = keras.Sequential([\n",
    "    layers.Dense(n_units, activation),\n",
    "    ...,\n",
    "    ...\n",
    "])\n",
    "# Compile\n",
    "model.compile(optimizer,\n",
    "    loss,\n",
    "    metrics\n",
    ")\n",
    "# Train\n",
    "model.fit(x_train,\n",
    "    y_train,\n",
    "    epochs,\n",
    "    batch_size)\n",
    "# Evaluate \n",
    "model.evaluate(x_test, y_test)\n",
    "# Predict\n",
    "model.predict(x_new)\n",
    "```"
   ]
  },
  {
   "cell_type": "markdown",
   "metadata": {},
   "source": [
    "Keras has many other features, and we will see more in the upcoming sessions! "
   ]
  }
 ],
 "metadata": {
  "interpreter": {
   "hash": "071737a5efb5187f1b8a7f5eacd9bb694a30cbbaa4393dd0a3bebb490d9d36dd"
  },
  "kernelspec": {
   "display_name": "Python 3 (ipykernel)",
   "language": "python",
   "name": "python3"
  },
  "language_info": {
   "codemirror_mode": {
    "name": "ipython",
    "version": 3
   },
   "file_extension": ".py",
   "mimetype": "text/x-python",
   "name": "python",
   "nbconvert_exporter": "python",
   "pygments_lexer": "ipython3",
   "version": "3.9.7"
  }
 },
 "nbformat": 4,
 "nbformat_minor": 4
}
