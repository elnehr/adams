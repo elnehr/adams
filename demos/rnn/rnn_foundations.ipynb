{
 "cells": [
  {
   "cell_type": "markdown",
   "metadata": {},
   "source": [
    "[![Open In Colab](https://colab.research.google.com/assets/colab-badge.svg)](https://colab.research.google.com/github/Humboldt-WI/adams/blob/master/demos/rnn/rnn_foundations.ipynb) "
   ]
  },
  {
   "cell_type": "code",
   "execution_count": 1,
   "metadata": {},
   "outputs": [],
   "source": [
    "# Setting up the environment\n",
    "import pandas as pd\n",
    "import numpy as np\n",
    "import matplotlib.pyplot as plt\n",
    "\n",
    "from scipy.special import expit as sigmoid\n",
    "\n",
    "# Make Jupyter output multiple results without explicit print statements (see https://www.dataquest.io/blog/jupyter-notebook-tips-tricks-shortcuts/)\n",
    "from IPython.core.interactiveshell import InteractiveShell\n",
    "InteractiveShell.ast_node_interactivity = \"all\""
   ]
  },
  {
   "cell_type": "markdown",
   "metadata": {},
   "source": [
    "# Recurrent Neural Networks"
   ]
  },
  {
   "cell_type": "markdown",
   "metadata": {},
   "source": [
    "We are now entering a whole different realm. Data is no longer frozen in time, no longer IID -  the temporal fluctuations of our variables are now in the center of attention. Additionally, we can no longer fool around shuffling and sampling our data, as the time order matters - it will be reflecting the actual flow of change. This is a substantial change to how we think about a modeling task. Those of you who dealt with panel data and time series might already be familiar with approaches to handle sequential data. Either way, revisiting  autoregressive models might be a good idea. \n",
    "Fortunately, dealing with time series data requires no fundamental change to the training algorithms we've learned until now. Building on top of what we know, we will see how we can improve our model architectures to fit some specific issues. "
   ]
  },
  {
   "cell_type": "markdown",
   "metadata": {},
   "source": [
    "We will be focusing on the task of figuring out  $p(x_{t}|x_{t−1},…x_{1}) $, where $t$ specifies the order of observations. The order could be implied by time (what is the value of x in the future, given the past values of x) or syntax (what's the next word in a sentence starting with words x,y and z).\n",
    "\n",
    "Today we will see how RNNs accommodate this task.\n",
    "\n",
    "**Outline**\n",
    "1. Sequential data\n",
    "2. Recurrent cells and networks\n",
    "3. Long short-term memory"
   ]
  },
  {
   "cell_type": "markdown",
   "metadata": {},
   "source": [
    "## 1. Sequential data\n",
    "We discuss some of the peculiarities of sequential data and how to address them during data preparation. Our use case will be stock market data. \n",
    "\n",
    "### Load the data\n",
    "Financial data (at a daily level) is publicly available online. The data for this demo was downloaded from [Yahoo finance](https://finance.yahoo.com/quote/AMZN/history?p=AMZN) but many other sources exist. To benefit from the most recent set, you could install `yahoofinancials` and download the data directly from the web (see [here](https://github.com/JECSand/yahoofinancials)). Or else, you simply use our prepared data set, which contains prices for the Amazon stock."
   ]
  },
  {
   "cell_type": "code",
   "execution_count": 2,
   "metadata": {},
   "outputs": [
    {
     "data": {
      "text/html": [
       "<div>\n",
       "<style scoped>\n",
       "    .dataframe tbody tr th:only-of-type {\n",
       "        vertical-align: middle;\n",
       "    }\n",
       "\n",
       "    .dataframe tbody tr th {\n",
       "        vertical-align: top;\n",
       "    }\n",
       "\n",
       "    .dataframe thead th {\n",
       "        text-align: right;\n",
       "    }\n",
       "</style>\n",
       "<table border=\"1\" class=\"dataframe\">\n",
       "  <thead>\n",
       "    <tr style=\"text-align: right;\">\n",
       "      <th></th>\n",
       "      <th>Open</th>\n",
       "      <th>High</th>\n",
       "      <th>Low</th>\n",
       "      <th>Close</th>\n",
       "      <th>Adj Close</th>\n",
       "      <th>Volume</th>\n",
       "    </tr>\n",
       "    <tr>\n",
       "      <th>Date</th>\n",
       "      <th></th>\n",
       "      <th></th>\n",
       "      <th></th>\n",
       "      <th></th>\n",
       "      <th></th>\n",
       "      <th></th>\n",
       "    </tr>\n",
       "  </thead>\n",
       "  <tbody>\n",
       "    <tr>\n",
       "      <th>2020-03-24</th>\n",
       "      <td>1951.500000</td>\n",
       "      <td>1955.000000</td>\n",
       "      <td>1900.339966</td>\n",
       "      <td>1940.099976</td>\n",
       "      <td>1940.099976</td>\n",
       "      <td>7147100</td>\n",
       "    </tr>\n",
       "    <tr>\n",
       "      <th>2020-03-25</th>\n",
       "      <td>1920.689941</td>\n",
       "      <td>1950.260010</td>\n",
       "      <td>1885.780029</td>\n",
       "      <td>1885.839966</td>\n",
       "      <td>1885.839966</td>\n",
       "      <td>6479100</td>\n",
       "    </tr>\n",
       "    <tr>\n",
       "      <th>2020-03-26</th>\n",
       "      <td>1902.000000</td>\n",
       "      <td>1956.489990</td>\n",
       "      <td>1889.290039</td>\n",
       "      <td>1955.489990</td>\n",
       "      <td>1955.489990</td>\n",
       "      <td>6221300</td>\n",
       "    </tr>\n",
       "    <tr>\n",
       "      <th>2020-03-27</th>\n",
       "      <td>1930.859985</td>\n",
       "      <td>1939.790039</td>\n",
       "      <td>1899.920044</td>\n",
       "      <td>1900.099976</td>\n",
       "      <td>1900.099976</td>\n",
       "      <td>5387900</td>\n",
       "    </tr>\n",
       "    <tr>\n",
       "      <th>2020-03-30</th>\n",
       "      <td>1922.829956</td>\n",
       "      <td>1973.630005</td>\n",
       "      <td>1912.339966</td>\n",
       "      <td>1963.949951</td>\n",
       "      <td>1963.949951</td>\n",
       "      <td>6115100</td>\n",
       "    </tr>\n",
       "  </tbody>\n",
       "</table>\n",
       "</div>"
      ],
      "text/plain": [
       "                   Open         High          Low        Close    Adj Close  \\\n",
       "Date                                                                          \n",
       "2020-03-24  1951.500000  1955.000000  1900.339966  1940.099976  1940.099976   \n",
       "2020-03-25  1920.689941  1950.260010  1885.780029  1885.839966  1885.839966   \n",
       "2020-03-26  1902.000000  1956.489990  1889.290039  1955.489990  1955.489990   \n",
       "2020-03-27  1930.859985  1939.790039  1899.920044  1900.099976  1900.099976   \n",
       "2020-03-30  1922.829956  1973.630005  1912.339966  1963.949951  1963.949951   \n",
       "\n",
       "             Volume  \n",
       "Date                 \n",
       "2020-03-24  7147100  \n",
       "2020-03-25  6479100  \n",
       "2020-03-26  6221300  \n",
       "2020-03-27  5387900  \n",
       "2020-03-30  6115100  "
      ]
     },
     "execution_count": 2,
     "metadata": {},
     "output_type": "execute_result"
    }
   ],
   "source": [
    "data = pd.read_csv('AMZN.csv')\n",
    "data.set_index('Date', inplace=True)  # This is the first time we deal with time series data. Using the date as index is useful for subsetting\n",
    "data.tail(5)"
   ]
  },
  {
   "cell_type": "code",
   "execution_count": 3,
   "metadata": {},
   "outputs": [
    {
     "data": {
      "text/html": [
       "<div>\n",
       "<style scoped>\n",
       "    .dataframe tbody tr th:only-of-type {\n",
       "        vertical-align: middle;\n",
       "    }\n",
       "\n",
       "    .dataframe tbody tr th {\n",
       "        vertical-align: top;\n",
       "    }\n",
       "\n",
       "    .dataframe thead th {\n",
       "        text-align: right;\n",
       "    }\n",
       "</style>\n",
       "<table border=\"1\" class=\"dataframe\">\n",
       "  <thead>\n",
       "    <tr style=\"text-align: right;\">\n",
       "      <th></th>\n",
       "      <th>Price</th>\n",
       "    </tr>\n",
       "    <tr>\n",
       "      <th>Date</th>\n",
       "      <th></th>\n",
       "    </tr>\n",
       "  </thead>\n",
       "  <tbody>\n",
       "    <tr>\n",
       "      <th>2020-03-24</th>\n",
       "      <td>1940.099976</td>\n",
       "    </tr>\n",
       "    <tr>\n",
       "      <th>2020-03-25</th>\n",
       "      <td>1885.839966</td>\n",
       "    </tr>\n",
       "    <tr>\n",
       "      <th>2020-03-26</th>\n",
       "      <td>1955.489990</td>\n",
       "    </tr>\n",
       "    <tr>\n",
       "      <th>2020-03-27</th>\n",
       "      <td>1900.099976</td>\n",
       "    </tr>\n",
       "    <tr>\n",
       "      <th>2020-03-30</th>\n",
       "      <td>1963.949951</td>\n",
       "    </tr>\n",
       "  </tbody>\n",
       "</table>\n",
       "</div>"
      ],
      "text/plain": [
       "                  Price\n",
       "Date                   \n",
       "2020-03-24  1940.099976\n",
       "2020-03-25  1885.839966\n",
       "2020-03-26  1955.489990\n",
       "2020-03-27  1900.099976\n",
       "2020-03-30  1963.949951"
      ]
     },
     "execution_count": 3,
     "metadata": {},
     "output_type": "execute_result"
    }
   ],
   "source": [
    "# We only need the adjusted closing price\n",
    "data.drop(['Open', 'High', 'Low', 'Close', 'Volume'], axis=1, inplace=True)\n",
    "data.columns = ['Price']\n",
    "data.tail()"
   ]
  },
  {
   "cell_type": "code",
   "execution_count": 4,
   "metadata": {},
   "outputs": [
    {
     "data": {
      "text/plain": [
       "(2769, 1)"
      ]
     },
     "execution_count": 4,
     "metadata": {},
     "output_type": "execute_result"
    }
   ],
   "source": [
    "data.shape"
   ]
  },
  {
   "cell_type": "code",
   "execution_count": 5,
   "metadata": {},
   "outputs": [
    {
     "data": {
      "text/plain": [
       "array(['2009-03-31', '2009-04-01', '2009-04-02', ..., '2020-03-26',\n",
       "       '2020-03-27', '2020-03-30'], dtype=object)"
      ]
     },
     "execution_count": 5,
     "metadata": {},
     "output_type": "execute_result"
    }
   ],
   "source": [
    "data.index.values"
   ]
  },
  {
   "cell_type": "code",
   "execution_count": 6,
   "metadata": {},
   "outputs": [
    {
     "data": {
      "image/png": "[encoded data removed]",
      "text/plain": [
       "<Figure size 432x288 with 1 Axes>"
      ]
     },
     "metadata": {
      "needs_background": "light"
     },
     "output_type": "display_data"
    }
   ],
   "source": [
    "plt.plot(data[\"Price\"].values)\n",
    "plt.show();"
   ]
  },
  {
   "cell_type": "markdown",
   "metadata": {},
   "source": [
    "### Preparing sequential data\n",
    "Let's try to see what RNN can do with some financial data. We take the stock price of Amazon for the past 2 years from Yahoo Finance. \n",
    "We will ignore other available information, like the stock price of other e-commerce companies or tax rates in Ireland. Our data is thus a single variable, the stock price. While we move through time, we predict the price in the next period based on the previous periods' prices. We then move one period ahead and the actual price of last period becomes a new observation. \n",
    "\n",
    "$$ \n",
    "\\widehat{price_t} = f(price_{t-1},price_{t-2},price_{t-3},price_{t-4},\\ldots) \n",
    "$$"
   ]
  },
  {
   "cell_type": "markdown",
   "metadata": {},
   "source": [
    "<img src=\"time_series_structure.png\" style=\"width: 800px;\"/>\n",
    "\n",
    "Source: https://humboldt-wi.github.io/blog/research/information_systems_1819/02lstmgruandbeyond/"
   ]
  },
  {
   "cell_type": "markdown",
   "metadata": {},
   "source": [
    "We can see a clear trend in the data of the share price increasing over time. That's easy for our model to pick up and not very informative, so we better standardize the mean price over time. Instead of the overall price, we will predict the price difference from today to tomorrow's closing price. \n",
    "Pandas knows a the function *.shift()*. Have a look at its documentation. This function is what we need to calculate price differences."
   ]
  },
  {
   "cell_type": "code",
   "execution_count": 7,
   "metadata": {},
   "outputs": [],
   "source": [
    "data[\"Price\"] = (data[\"Price\"] - data[\"Price\"].shift(1))"
   ]
  },
  {
   "cell_type": "code",
   "execution_count": 8,
   "metadata": {},
   "outputs": [
    {
     "data": {
      "text/html": [
       "<div>\n",
       "<style scoped>\n",
       "    .dataframe tbody tr th:only-of-type {\n",
       "        vertical-align: middle;\n",
       "    }\n",
       "\n",
       "    .dataframe tbody tr th {\n",
       "        vertical-align: top;\n",
       "    }\n",
       "\n",
       "    .dataframe thead th {\n",
       "        text-align: right;\n",
       "    }\n",
       "</style>\n",
       "<table border=\"1\" class=\"dataframe\">\n",
       "  <thead>\n",
       "    <tr style=\"text-align: right;\">\n",
       "      <th></th>\n",
       "      <th>Price</th>\n",
       "    </tr>\n",
       "    <tr>\n",
       "      <th>Date</th>\n",
       "      <th></th>\n",
       "    </tr>\n",
       "  </thead>\n",
       "  <tbody>\n",
       "    <tr>\n",
       "      <th>2009-03-31</th>\n",
       "      <td>NaN</td>\n",
       "    </tr>\n",
       "    <tr>\n",
       "      <th>2009-04-01</th>\n",
       "      <td>0.059998</td>\n",
       "    </tr>\n",
       "    <tr>\n",
       "      <th>2009-04-02</th>\n",
       "      <td>2.839996</td>\n",
       "    </tr>\n",
       "  </tbody>\n",
       "</table>\n",
       "</div>"
      ],
      "text/plain": [
       "               Price\n",
       "Date                \n",
       "2009-03-31       NaN\n",
       "2009-04-01  0.059998\n",
       "2009-04-02  2.839996"
      ]
     },
     "execution_count": 8,
     "metadata": {},
     "output_type": "execute_result"
    }
   ],
   "source": [
    "# The previous shift causes the first entry in our dataframe to be NaN\n",
    "data.head(3)"
   ]
  },
  {
   "cell_type": "code",
   "execution_count": 9,
   "metadata": {},
   "outputs": [
    {
     "name": "stdout",
     "output_type": "stream",
     "text": [
      "Original dimension: 2769x1\n",
      "New dimension: 2768x1\n"
     ]
    }
   ],
   "source": [
    "# Make sure you understand where the NaN value is coming from\n",
    "# To get rid of it, we discard the first entry\n",
    "print('Original dimension: ' + 'x'.join(map(str,data.shape)))\n",
    "data = data.iloc[1:,:]\n",
    "print('New dimension: ' + 'x'.join(map(str,data.shape)))"
   ]
  },
  {
   "cell_type": "code",
   "execution_count": 10,
   "metadata": {},
   "outputs": [
    {
     "data": {
      "image/png": "[encoded data removed]",
      "text/plain": [
       "<Figure size 432x288 with 1 Axes>"
      ]
     },
     "metadata": {
      "needs_background": "light"
     },
     "output_type": "display_data"
    }
   ],
   "source": [
    "# Plot series of price differences (i.e., returns)\n",
    "plt.plot(data.Price.values)\n",
    "plt.show();"
   ]
  },
  {
   "cell_type": "markdown",
   "metadata": {},
   "source": [
    "There is more preprocessing we could/should do. We'll refer to one of the excellent classes on time-series forecasting at the faculty instead. "
   ]
  },
  {
   "cell_type": "markdown",
   "metadata": {},
   "source": [
    "To evaluate the model and potential overfitting, we want a train/test split. \n",
    "Remember that our observations have a time structure now - no shuffling, strictly use observations from the future for testing! With that in mind, there really is no need to involve scikit-learn for data organization."
   ]
  },
  {
   "cell_type": "code",
   "execution_count": 11,
   "metadata": {},
   "outputs": [],
   "source": [
    "train_size  = int(len(data) * 0.80)\n",
    "test_size   = len(data) - train_size\n",
    "train, test = data[:train_size], data[train_size:]"
   ]
  },
  {
   "cell_type": "markdown",
   "metadata": {},
   "source": [
    "We will apply the usual preprocessing to standardize the input data. "
   ]
  },
  {
   "cell_type": "code",
   "execution_count": 12,
   "metadata": {},
   "outputs": [],
   "source": [
    "#Data preparation (can be skipped)\n",
    "\n",
    "# Convert data to numpy array.\n",
    "# The conversion will alter the dimension. We redo this with the rescaling \n",
    "train = train[\"Price\"].to_numpy().reshape([-1,1]) # note that the -1 means that the dimension of the axis will be inferred from the data\n",
    "test = test[\"Price\"].to_numpy().reshape([-1,1]) # in plain English, it is equivalent to inputting the number of rows (i.e., train_size) as argument\n",
    "from sklearn.preprocessing import MinMaxScaler\n",
    "#Standardize the values to a range from zero to 1\n",
    "#Note the proper application of the scaler: fitting parameters on train and apply these to test\n",
    "scaler = MinMaxScaler()\n",
    "train  = scaler.fit_transform(train)\n",
    "test   = scaler.transform(test)"
   ]
  },
  {
   "cell_type": "code",
   "execution_count": 13,
   "metadata": {},
   "outputs": [
    {
     "data": {
      "image/png": "[encoded data removed]",
      "text/plain": [
       "<Figure size 432x288 with 1 Axes>"
      ]
     },
     "metadata": {
      "needs_background": "light"
     },
     "output_type": "display_data"
    },
    {
     "data": {
      "image/png": "[encoded data removed]",
      "text/plain": [
       "<Figure size 432x288 with 1 Axes>"
      ]
     },
     "metadata": {
      "needs_background": "light"
     },
     "output_type": "display_data"
    }
   ],
   "source": [
    "plt.ylim([-0.25,1])\n",
    "plt.plot(train)\n",
    "plt.show()  ;\n",
    "\n",
    "plt.ylim([-0.25,1])\n",
    "plt.plot(test)\n",
    "plt.show();"
   ]
  },
  {
   "cell_type": "code",
   "execution_count": 14,
   "metadata": {},
   "outputs": [
    {
     "data": {
      "text/plain": [
       "array([[0.27370381],\n",
       "       [0.28942156],\n",
       "       [0.28371118],\n",
       "       ...,\n",
       "       [0.39972918],\n",
       "       [0.43461244],\n",
       "       [0.27144246]])"
      ]
     },
     "execution_count": 14,
     "metadata": {},
     "output_type": "execute_result"
    }
   ],
   "source": [
    "train"
   ]
  },
  {
   "cell_type": "markdown",
   "metadata": {},
   "source": [
    "The data is almost ready for developing a forecasting model. What is missing? \n",
    "Remeber we are tryting to build an autoregressive model, which uses past realizations of the target variable as input.\n",
    "So the following bits help us create the input data structure for such a model."
   ]
  },
  {
   "cell_type": "code",
   "execution_count": 49,
   "metadata": {},
   "outputs": [],
   "source": [
    "# Helper function to create AR structure like data frame\n",
    "#(In case you wonder whether there are any ready-to-use functions for creating this data structure take a look at Panda's shift() or numpy's roll() function)\n",
    "def create_dataset(time_series, window_size):\n",
    "    \"\"\" Function to create data set with lagged response values for estimating an autoregressive model\"\"\"\n",
    "    dataX, dataY = [], []\n",
    "    \n",
    "    for i in range(0,len(time_series) - window_size - 1):\n",
    "        x = time_series[i:i + window_size] # Remember: x[a:b-1]\n",
    "        dataX.append(x)\n",
    "        y = time_series[i + window_size] # Remember: x[b]\n",
    "        dataY.append(y)\n",
    "           \n",
    "    return np.array(dataX), np.array(dataY)"
   ]
  },
  {
   "cell_type": "code",
   "execution_count": 16,
   "metadata": {},
   "outputs": [
    {
     "name": "stdout",
     "output_type": "stream",
     "text": [
      "(2191, 22, 1)\n",
      "(2191, 1)\n"
     ]
    }
   ],
   "source": [
    "WINDOW_SIZE=22\n",
    "\n",
    "X_train, y_train  = create_dataset(train, WINDOW_SIZE)\n",
    "X_test, y_test   = create_dataset(test, WINDOW_SIZE)\n",
    "print (X_train.shape)\n",
    "print (y_train.shape)"
   ]
  },
  {
   "cell_type": "markdown",
   "metadata": {},
   "source": [
    "Again, note how feature values are shifted by one period between one observation and the next observation. "
   ]
  },
  {
   "cell_type": "code",
   "execution_count": 17,
   "metadata": {},
   "outputs": [
    {
     "data": {
      "text/plain": [
       "array([[0.27370381, 0.28942156, 0.28371118, 0.27234689, 0.259343  ,\n",
       "        0.28167578, 0.28913885, 0.2686719 , 0.26363992, 0.25917335,\n",
       "        0.28772543, 0.2778877 , 0.27065071, 0.2799796 , 0.27596536,\n",
       "        0.28133657, 0.29513198, 0.26578842, 0.26929379, 0.25860797,\n",
       "        0.27749189, 0.26454456],\n",
       "       [0.28942156, 0.28371118, 0.27234689, 0.259343  , 0.28167578,\n",
       "        0.28913885, 0.2686719 , 0.26363992, 0.25917335, 0.28772543,\n",
       "        0.2778877 , 0.27065071, 0.2799796 , 0.27596536, 0.28133657,\n",
       "        0.29513198, 0.26578842, 0.26929379, 0.25860797, 0.27749189,\n",
       "        0.26454456, 0.27794421]])"
      ]
     },
     "execution_count": 17,
     "metadata": {},
     "output_type": "execute_result"
    }
   ],
   "source": [
    "X_train[0:2,:,0]"
   ]
  },
  {
   "cell_type": "code",
   "execution_count": 18,
   "metadata": {},
   "outputs": [
    {
     "data": {
      "text/plain": [
       "array([[0.27794421],\n",
       "       [0.28540736],\n",
       "       [0.27387341],\n",
       "       ...,\n",
       "       [0.28258042],\n",
       "       [0.39972918],\n",
       "       [0.43461244]])"
      ]
     },
     "execution_count": 18,
     "metadata": {},
     "output_type": "execute_result"
    }
   ],
   "source": [
    "y_train"
   ]
  },
  {
   "cell_type": "markdown",
   "metadata": {},
   "source": [
    "Let us verify the sequential pattern in our data. To that end, we first append our target variable as a new column (after performing some reshaping to make that operation possible) and output a couple of values. "
   ]
  },
  {
   "cell_type": "code",
   "execution_count": 19,
   "metadata": {},
   "outputs": [
    {
     "data": {
      "text/plain": [
       "array([[0.27370381, 0.28942156, 0.28371118, 0.27234689, 0.259343  ,\n",
       "        0.28167578, 0.28913885, 0.2686719 , 0.26363992, 0.25917335,\n",
       "        0.28772543, 0.2778877 , 0.27065071, 0.2799796 , 0.27596536,\n",
       "        0.28133657, 0.29513198, 0.26578842, 0.26929379, 0.25860797,\n",
       "        0.27749189, 0.26454456, 0.27794421],\n",
       "       [0.28942156, 0.28371118, 0.27234689, 0.259343  , 0.28167578,\n",
       "        0.28913885, 0.2686719 , 0.26363992, 0.25917335, 0.28772543,\n",
       "        0.2778877 , 0.27065071, 0.2799796 , 0.27596536, 0.28133657,\n",
       "        0.29513198, 0.26578842, 0.26929379, 0.25860797, 0.27749189,\n",
       "        0.26454456, 0.27794421, 0.28540736],\n",
       "       [0.28371118, 0.27234689, 0.259343  , 0.28167578, 0.28913885,\n",
       "        0.2686719 , 0.26363992, 0.25917335, 0.28772543, 0.2778877 ,\n",
       "        0.27065071, 0.2799796 , 0.27596536, 0.28133657, 0.29513198,\n",
       "        0.26578842, 0.26929379, 0.25860797, 0.27749189, 0.26454456,\n",
       "        0.27794421, 0.28540736, 0.27387341],\n",
       "       [0.27234689, 0.259343  , 0.28167578, 0.28913885, 0.2686719 ,\n",
       "        0.26363992, 0.25917335, 0.28772543, 0.2778877 , 0.27065071,\n",
       "        0.2799796 , 0.27596536, 0.28133657, 0.29513198, 0.26578842,\n",
       "        0.26929379, 0.25860797, 0.27749189, 0.26454456, 0.27794421,\n",
       "        0.28540736, 0.27387341, 0.2580426 ],\n",
       "       [0.259343  , 0.28167578, 0.28913885, 0.2686719 , 0.26363992,\n",
       "        0.25917335, 0.28772543, 0.2778877 , 0.27065071, 0.2799796 ,\n",
       "        0.27596536, 0.28133657, 0.29513198, 0.26578842, 0.26929379,\n",
       "        0.25860797, 0.27749189, 0.26454456, 0.27794421, 0.28540736,\n",
       "        0.27387341, 0.2580426 , 0.26584492],\n",
       "       [0.28167578, 0.28913885, 0.2686719 , 0.26363992, 0.25917335,\n",
       "        0.28772543, 0.2778877 , 0.27065071, 0.2799796 , 0.27596536,\n",
       "        0.28133657, 0.29513198, 0.26578842, 0.26929379, 0.25860797,\n",
       "        0.27749189, 0.26454456, 0.27794421, 0.28540736, 0.27387341,\n",
       "        0.2580426 , 0.26584492, 0.27709616],\n",
       "       [0.28913885, 0.2686719 , 0.26363992, 0.25917335, 0.28772543,\n",
       "        0.2778877 , 0.27065071, 0.2799796 , 0.27596536, 0.28133657,\n",
       "        0.29513198, 0.26578842, 0.26929379, 0.25860797, 0.27749189,\n",
       "        0.26454456, 0.27794421, 0.28540736, 0.27387341, 0.2580426 ,\n",
       "        0.26584492, 0.27709616, 0.26951995],\n",
       "       [0.2686719 , 0.26363992, 0.25917335, 0.28772543, 0.2778877 ,\n",
       "        0.27065071, 0.2799796 , 0.27596536, 0.28133657, 0.29513198,\n",
       "        0.26578842, 0.26929379, 0.25860797, 0.27749189, 0.26454456,\n",
       "        0.27794421, 0.28540736, 0.27387341, 0.2580426 , 0.26584492,\n",
       "        0.27709616, 0.26951995, 0.25221911],\n",
       "       [0.26363992, 0.25917335, 0.28772543, 0.2778877 , 0.27065071,\n",
       "        0.2799796 , 0.27596536, 0.28133657, 0.29513198, 0.26578842,\n",
       "        0.26929379, 0.25860797, 0.27749189, 0.26454456, 0.27794421,\n",
       "        0.28540736, 0.27387341, 0.2580426 , 0.26584492, 0.27709616,\n",
       "        0.26951995, 0.25221911, 0.27856614],\n",
       "       [0.25917335, 0.28772543, 0.2778877 , 0.27065071, 0.2799796 ,\n",
       "        0.27596536, 0.28133657, 0.29513198, 0.26578842, 0.26929379,\n",
       "        0.25860797, 0.27749189, 0.26454456, 0.27794421, 0.28540736,\n",
       "        0.27387341, 0.2580426 , 0.26584492, 0.27709616, 0.26951995,\n",
       "        0.25221911, 0.27856614, 0.26482722]])"
      ]
     },
     "execution_count": 19,
     "metadata": {},
     "output_type": "execute_result"
    }
   ],
   "source": [
    "# Append the target variable to our array as a new column\n",
    "np.hstack([X_train, y_train.reshape([-1,1,1])])[0:10,:,0]"
   ]
  },
  {
   "cell_type": "markdown",
   "metadata": {},
   "source": [
    "Since we have only one variable, the price of the Amazon stock, our data fits into a 2D array. The column dimension of such an array stores the different lags of our (single) variable. \n",
    "The row dimension represents different observations or points in time. Here is an example:\n",
    "\n",
    "|t | $x_{t-1}$ |$x_{t-2}$ | $\\ldots$ |\n",
    "|---|---|---|---|\n",
    "|1        | 900 | 899| $\\ldots$|\n",
    "|2        | 905|900 | $\\ldots$|\n",
    "|$\\ldots$ | $\\ldots$| $\\ldots$ | $\\ldots$|\n",
    "\n"
   ]
  },
  {
   "cell_type": "markdown",
   "metadata": {},
   "source": [
    "If we had additional variables, each with a time stamp of its own, we would need a 2D table for each variable or put them into a 3D array [observations, time periods, features]. This is what tensorflow expects, so we'll reshape our 2D data to conform with the more general 3D case."
   ]
  },
  {
   "cell_type": "code",
   "execution_count": 20,
   "metadata": {},
   "outputs": [
    {
     "name": "stdout",
     "output_type": "stream",
     "text": [
      "(2191, 22, 1) (2191, 1) (531, 22, 1) (531, 1)\n"
     ]
    }
   ],
   "source": [
    "#Reshape input to be [samples, time steps, features]\n",
    "X_train  = np.reshape(X_train, (X_train.shape[0],X_train.shape[1], 1))\n",
    "X_test   = np.reshape(X_test, (X_test.shape[0],X_test.shape[1], 1))\n",
    "\n",
    "print(X_train.shape, y_train.shape,X_test.shape, y_test.shape)\n",
    "#Train set ended up with 1789 samples, 22 obs each and 1 feature"
   ]
  },
  {
   "cell_type": "markdown",
   "metadata": {},
   "source": [
    "The value 22, which was our _window size_ is probably the part most difficult to grasp. In a nutshell, we feed our RNN with subsets or slices of our time series. The window size determines the size of one such slice. We then interpret one slice as one observation, which resembles the non-recurrent, feedforward neural networks we considered before. There, one observation was something like one client or borrower, who was characterized by $m$ feature values. RNNs extend that idea. For each feature, we have a time series of which we feed the network slices. Let's examine this in more detail."
   ]
  },
  {
   "cell_type": "markdown",
   "metadata": {},
   "source": [
    "## Recurrent cells and networks"
   ]
  },
  {
   "cell_type": "markdown",
   "metadata": {},
   "source": [
    "A Recurrent Neural Network processes input variables at each time step and carries a representation of the current state forward.\n",
    "\n",
    "<img src=\"RNN_rollout_single.png\" />\n",
    "\n",
    "<img src=\"RNN_rollout_series.gif\" />\n",
    "\n",
    "Source: https://towardsdatascience.com/illustrated-guide-to-recurrent-neural-networks-79e5eb8049c9"
   ]
  },
  {
   "cell_type": "markdown",
   "metadata": {},
   "source": [
    "### RNN architecture\n",
    "<img src=\"RNN_update.png\" style=\"width: 500px;\"/>\n",
    "\n",
    "Source: https://humboldt-wi.github.io/blog/research/information_systems_1819/02lstmgruandbeyond/\n",
    "\n",
    "Remark: please ignore the use of the ReLu function in the output layer, which the picture suggests. The picture is taken from our blog where a RNN was used to predict a strictly positve quantity. In general, the output layer activation function depends on your modeling task. For example, we would use _softmax_ when facing a multi-class classification problem."
   ]
  },
  {
   "cell_type": "markdown",
   "metadata": {},
   "source": [
    "Let's assume we are able to remember one period back. When we woke up yesterday, we had available the price in period t-1. We processed the input available at that time $x_{t-1}$ and formed some impression of what is going on with the stock. We call this impression the hidden state, because it is not data that we have observed, but information that we keep in our mind. \n",
    "\n",
    "Today, we observe another price input $x_{t}$. We process this input and put it together with the impression that we had formed yesterday. We combine the old impression and new input to form a new impression of what is happening on the stock market at period t. \n",
    "\n",
    "We can make use of this impression, whenever someone asks us for a prediction of what is going to happen tomorrow $x_{t+1}$.\n",
    "\n",
    "We can express this model using three matrices: 1. an input matrix to process new information, 2. a hidden matrix to form a new impression given the previous impression and the processed new input, and 3. the output matrix to make a prediction from our current impression.\n",
    "$$ \\textrm{processed input} = W_{in} \\vec{x_{t}}+\\vec{b_{in}} $$\n",
    "\n",
    "$$\\vec{h_t} = tanh \\left( W_{h} \\vec{h_{t-1}}  + \\textrm{processed input} + \\vec{b_{h}} \\right)$$\n",
    "\n",
    "$$\\vec{y_{t+1}} = I(W_{out}\\vec{h_t} + \\vec{b_{out}} )$$"
   ]
  },
  {
   "cell_type": "markdown",
   "metadata": {},
   "source": [
    "In case we want to retain memory not only of the previous state but further in the past, we would need to introduce an additional input and hidden layer. The key concept is that we use the same values for all state transition layers $W_h, b_h$ and input layers $W_{in},b_{in}$. In principle, this allows us to make a prediction on a sequence of any number of inputs $x$.  \n",
    "\n",
    "<img src=\"RNN_update_series.png\" width=800/>"
   ]
  },
  {
   "cell_type": "markdown",
   "metadata": {},
   "source": [
    "Let's assume we have trained the network so that good values for the matrices $W_{in}$ and $W_h$ and the biases $b_{in}$ and $b_h$ are available. We will calculate a forward pass for a single observation 'by hand' in numpy, to be able to follow the process. "
   ]
  },
  {
   "cell_type": "code",
   "execution_count": 21,
   "metadata": {},
   "outputs": [],
   "source": [
    "# Dimension of hidden state\n",
    "NO_STATE_NODES = 5\n",
    "#Number of features. We are using a univariate time series, so the input dimension is 1\n",
    "INPUT_DIM = 1\n",
    "# Number of output variables that we want to predict.\n",
    "NO_OUTPUT_NODES = 1\n",
    "# Number of observations we process together \n",
    "BATCH_SIZE = 1"
   ]
  },
  {
   "cell_type": "markdown",
   "metadata": {},
   "source": [
    "Let's assume we have trained the network and good values for the matrices $W_{in}$ and $W_h$ and the biases $b_{in}$ and $b_h$. We will calculate a forward pass 'by hand' in numpy, to fully grasp \n",
    "the process. "
   ]
  },
  {
   "cell_type": "code",
   "execution_count": 22,
   "metadata": {},
   "outputs": [],
   "source": [
    "W_in  = np.random.randn(INPUT_DIM, NO_STATE_NODES) \n",
    "W_h   = np.random.randn(NO_STATE_NODES, NO_STATE_NODES)\n",
    "W_out = np.random.randn(NO_STATE_NODES, NO_OUTPUT_NODES) \n",
    "\n",
    "b_in  = np.random.randn(1, NO_STATE_NODES) \n",
    "b_h   = np.random.randn(1, NO_STATE_NODES) \n",
    "b_out = np.random.randn(1, NO_OUTPUT_NODES)"
   ]
  },
  {
   "cell_type": "markdown",
   "metadata": {},
   "source": [
    "Remember: The input matrix is the matrix of weights from the single input $x_t$ to NO_STATE_NODES hidden nodes. "
   ]
  },
  {
   "cell_type": "code",
   "execution_count": 23,
   "metadata": {},
   "outputs": [
    {
     "data": {
      "text/plain": [
       "array([[-0.61312969, -0.74089567, -0.75442209,  1.82530254, -0.54655951]])"
      ]
     },
     "execution_count": 23,
     "metadata": {},
     "output_type": "execute_result"
    }
   ],
   "source": [
    "W_in"
   ]
  },
  {
   "cell_type": "markdown",
   "metadata": {},
   "source": [
    "The hidden state transformation matrix is the matrix that transforms the previous hidden state and new input to the new hidden state, both of dimension NO_STATE_NODES. "
   ]
  },
  {
   "cell_type": "code",
   "execution_count": 24,
   "metadata": {},
   "outputs": [
    {
     "data": {
      "text/plain": [
       "array([[ 0.08784173, -0.40633166,  0.48511073, -0.15277112, -1.79844476],\n",
       "       [ 1.92454083, -1.19138728,  1.22384901,  1.84555762, -0.49484659],\n",
       "       [-0.82954302, -0.08432842, -2.03418875, -2.29132023, -2.41582729],\n",
       "       [-0.2867074 , -0.34100247,  0.18711068, -0.41522287,  1.6436214 ],\n",
       "       [ 0.08805382,  1.55188635,  1.89213865,  1.0509629 , -0.58553534]])"
      ]
     },
     "execution_count": 24,
     "metadata": {},
     "output_type": "execute_result"
    }
   ],
   "source": [
    "W_h"
   ]
  },
  {
   "cell_type": "markdown",
   "metadata": {},
   "source": [
    "Since we haven't seen any input, we have not yet calculated a hidden state. We initialize the hidden state to 0."
   ]
  },
  {
   "cell_type": "code",
   "execution_count": 25,
   "metadata": {},
   "outputs": [
    {
     "data": {
      "text/plain": [
       "array([[0., 0., 0., 0., 0.]])"
      ]
     },
     "execution_count": 25,
     "metadata": {},
     "output_type": "execute_result"
    }
   ],
   "source": [
    "h_state = np.zeros([BATCH_SIZE, NO_STATE_NODES])\n",
    "h_state"
   ]
  },
  {
   "cell_type": "markdown",
   "metadata": {},
   "source": [
    "Training begins by drawing a minibatch of size BATCH_SIZE, where each row contains an ordered piece of the overall time series over INPUT_DIM (one or more) variables. In financial forecasting context, for example, you could try to predict the daily closing price of a stock at day $t+1$, $x_{t+1}$, from the five previous closing prices of that stock. So your input sequence is $\\left(x_{-4}, x_{t-3}, ..., x_t \\right)$, and this corresponds to one row in your input data. \n",
    "Remember that we have previously set the number of past realizations of our input variable, the window size, to 22."
   ]
  },
  {
   "cell_type": "code",
   "execution_count": 26,
   "metadata": {},
   "outputs": [
    {
     "name": "stdout",
     "output_type": "stream",
     "text": [
      "Dimension of the training data (samples, window size, features) : 2191x22x1\n",
      "Dimension of our minibatch : 1x22x1\n",
      "Corrected minibatch dimension: 1x22\n"
     ]
    },
    {
     "data": {
      "text/plain": [
       "array([[0.27370381, 0.28942156, 0.28371118, 0.27234689, 0.259343  ,\n",
       "        0.28167578, 0.28913885, 0.2686719 , 0.26363992, 0.25917335,\n",
       "        0.28772543, 0.2778877 , 0.27065071, 0.2799796 , 0.27596536,\n",
       "        0.28133657, 0.29513198, 0.26578842, 0.26929379, 0.25860797,\n",
       "        0.27749189, 0.26454456]])"
      ]
     },
     "execution_count": 26,
     "metadata": {},
     "output_type": "execute_result"
    }
   ],
   "source": [
    "# Always pay attention to dimensions...\n",
    "print('Dimension of the training data (samples, window size, features) :' , 'x'.join(map(str,X_train.shape)))\n",
    "minibatch = X_train[0:BATCH_SIZE,:,:]\n",
    "print('Dimension of our minibatch :' , 'x'.join(map(str,minibatch.shape)))\n",
    "minibatch = minibatch.reshape([-1, WINDOW_SIZE])\n",
    "print('Corrected minibatch dimension:' , 'x'.join(map(str,minibatch.shape)))\n",
    "\n",
    "minibatch"
   ]
  },
  {
   "cell_type": "markdown",
   "metadata": {},
   "source": [
    "### First input"
   ]
  },
  {
   "cell_type": "markdown",
   "metadata": {},
   "source": [
    "We then update the hidden state using our 'first' observation from t-WINDOW SIZE. More specifically, we first process the input according to: <br><br>$ \\textrm{processed input} = W_{in} \\vec{x_{t}}+\\vec{b_{in}} $"
   ]
  },
  {
   "cell_type": "code",
   "execution_count": 27,
   "metadata": {},
   "outputs": [],
   "source": [
    "first_input = minibatch[:,0:1] # in case you stumble upon the second index and would rather use 0 instead of 0:1, compare the shape of the results to see why we do it this way"
   ]
  },
  {
   "cell_type": "code",
   "execution_count": 28,
   "metadata": {},
   "outputs": [
    {
     "data": {
      "text/plain": [
       "array([[0.27370381]])"
      ]
     },
     "execution_count": 28,
     "metadata": {},
     "output_type": "execute_result"
    }
   ],
   "source": [
    "first_input"
   ]
  },
  {
   "cell_type": "code",
   "execution_count": 29,
   "metadata": {},
   "outputs": [],
   "source": [
    "proc_input = np.dot(first_input, W_in) + b_in"
   ]
  },
  {
   "cell_type": "code",
   "execution_count": 30,
   "metadata": {},
   "outputs": [
    {
     "name": "stdout",
     "output_type": "stream",
     "text": [
      "Processed input: 1x5\n"
     ]
    },
    {
     "data": {
      "text/plain": [
       "array([[-1.52791327, -2.38268138, -0.19601401, -1.30971821,  1.76231548]])"
      ]
     },
     "execution_count": 30,
     "metadata": {},
     "output_type": "execute_result"
    }
   ],
   "source": [
    "print('Processed input:' , 'x'.join(map(str,proc_input.shape)))\n",
    "proc_input"
   ]
  },
  {
   "cell_type": "markdown",
   "metadata": {},
   "source": [
    "... and use the result to update the hidden state <br>\n",
    "\n",
    "$\\vec{h_t} = tanh \\left( W_{h} \\vec{h_{t-1}}  + \\textrm{processed input} + \\vec{b_{h}} \\right)$"
   ]
  },
  {
   "cell_type": "code",
   "execution_count": 31,
   "metadata": {},
   "outputs": [
    {
     "data": {
      "text/plain": [
       "array([[-0.99734001, -0.9939701 , -0.53099527, -0.9896604 ,  0.70617972]])"
      ]
     },
     "execution_count": 31,
     "metadata": {},
     "output_type": "execute_result"
    }
   ],
   "source": [
    "h_state_new = np.tanh( np.dot(h_state, W_h) + proc_input + b_h )\n",
    "h_state_new"
   ]
  },
  {
   "cell_type": "code",
   "execution_count": 32,
   "metadata": {},
   "outputs": [
    {
     "data": {
      "text/plain": [
       "array([[0., 0., 0., 0., 0.]])"
      ]
     },
     "execution_count": 32,
     "metadata": {},
     "output_type": "execute_result"
    }
   ],
   "source": [
    "h_state"
   ]
  },
  {
   "cell_type": "code",
   "execution_count": 33,
   "metadata": {},
   "outputs": [],
   "source": [
    "h_state = h_state_new"
   ]
  },
  {
   "cell_type": "markdown",
   "metadata": {},
   "source": [
    "The new values of the hidden state make up our memory of the first observation. "
   ]
  },
  {
   "cell_type": "markdown",
   "metadata": {},
   "source": [
    "### Second input"
   ]
  },
  {
   "cell_type": "markdown",
   "metadata": {},
   "source": [
    "We then update the hidden state given the next observation from t-21; re-using the input weights that we used for the first observation. Remember, in an RNN, the input to hidden matrix $W_{in}$ is shared across the inputs. "
   ]
  },
  {
   "cell_type": "code",
   "execution_count": 34,
   "metadata": {},
   "outputs": [],
   "source": [
    "second_input = minibatch[:,1:2]"
   ]
  },
  {
   "cell_type": "code",
   "execution_count": 35,
   "metadata": {},
   "outputs": [
    {
     "data": {
      "text/plain": [
       "array([[0.28942156]])"
      ]
     },
     "execution_count": 35,
     "metadata": {},
     "output_type": "execute_result"
    }
   ],
   "source": [
    "second_input"
   ]
  },
  {
   "cell_type": "markdown",
   "metadata": {},
   "source": [
    "The next steps are exactly as before."
   ]
  },
  {
   "cell_type": "code",
   "execution_count": 36,
   "metadata": {},
   "outputs": [],
   "source": [
    "proc_input = np.dot(second_input, W_in) + b_in # process the input\n",
    "h_state_new = np.tanh( np.dot(h_state, W_h) + proc_input + b_h ) # compute the new hidden state"
   ]
  },
  {
   "cell_type": "markdown",
   "metadata": {},
   "source": [
    "Note that in the above calculation, unlike in the first step, our hidden state was not zero! Rather it contains our memory of the first input and we literally add the new information to our memory. "
   ]
  },
  {
   "cell_type": "code",
   "execution_count": 37,
   "metadata": {},
   "outputs": [
    {
     "data": {
      "text/plain": [
       "array([[-0.99976962,  0.15415907, -0.07239233, -0.95737547,  0.98364658]])"
      ]
     },
     "execution_count": 37,
     "metadata": {},
     "output_type": "execute_result"
    }
   ],
   "source": [
    "h_state = h_state_new\n",
    "h_state"
   ]
  },
  {
   "cell_type": "markdown",
   "metadata": {},
   "source": [
    "Our new memory state now contains information from the first and second input. "
   ]
  },
  {
   "cell_type": "markdown",
   "metadata": {},
   "source": [
    "### Making a prediction"
   ]
  },
  {
   "cell_type": "markdown",
   "metadata": {},
   "source": [
    "We can make a prediction based on the hidden state at any time. <br>\n",
    "$\\vec{y_{t+1}} = I(W_{out}\\vec{h_t} + \\vec{b_{out}} )$"
   ]
  },
  {
   "cell_type": "code",
   "execution_count": 38,
   "metadata": {},
   "outputs": [],
   "source": [
    "output = np.dot(h_state, W_out) + b_out"
   ]
  },
  {
   "cell_type": "code",
   "execution_count": 39,
   "metadata": {},
   "outputs": [
    {
     "data": {
      "text/plain": [
       "array([[-0.86364139]])"
      ]
     },
     "execution_count": 39,
     "metadata": {},
     "output_type": "execute_result"
    }
   ],
   "source": [
    "output"
   ]
  },
  {
   "cell_type": "markdown",
   "metadata": {},
   "source": [
    "For comparison, here's the next value in the time series:"
   ]
  },
  {
   "cell_type": "code",
   "execution_count": 40,
   "metadata": {},
   "outputs": [
    {
     "data": {
      "text/plain": [
       "array([[0.28371118]])"
      ]
     },
     "execution_count": 40,
     "metadata": {},
     "output_type": "execute_result"
    }
   ],
   "source": [
    "minibatch[:,2:3]"
   ]
  },
  {
   "cell_type": "markdown",
   "metadata": {},
   "source": [
    "Pretty far off! Based on the prediction and true value, we could now apply our loss function, backpropagate the error and update the weights based on their negative gradient. "
   ]
  },
  {
   "cell_type": "markdown",
   "metadata": {},
   "source": [
    "## RNN as a loop "
   ]
  },
  {
   "cell_type": "markdown",
   "metadata": {},
   "source": [
    "Looking at the code above, we see that we are applying the same operations to each of the inputs iteratively. That is a process that we can simplify by expressing it as a loop. For each new input, the input is processed and the hidden state updated using the same matrices.\n",
    "\n",
    "<img src=\"RNN_Loop.png\" style=\"width: 500px;\"/>\n",
    "\n"
   ]
  },
  {
   "cell_type": "markdown",
   "metadata": {},
   "source": [
    "Reset the state to the initial zero state"
   ]
  },
  {
   "cell_type": "code",
   "execution_count": 41,
   "metadata": {},
   "outputs": [
    {
     "data": {
      "text/plain": [
       "array([[0., 0., 0., 0., 0.]])"
      ]
     },
     "execution_count": 41,
     "metadata": {},
     "output_type": "execute_result"
    }
   ],
   "source": [
    "h_state = np.zeros([BATCH_SIZE, NO_STATE_NODES])\n",
    "h_state"
   ]
  },
  {
   "cell_type": "markdown",
   "metadata": {},
   "source": [
    "Process the inputs iteratively, each time updating the hidden state"
   ]
  },
  {
   "cell_type": "code",
   "execution_count": 42,
   "metadata": {},
   "outputs": [
    {
     "data": {
      "text/plain": [
       "(1, 22)"
      ]
     },
     "execution_count": 42,
     "metadata": {},
     "output_type": "execute_result"
    },
    {
     "data": {
      "text/plain": [
       "array([[0.27370381, 0.28942156, 0.28371118, 0.27234689, 0.259343  ,\n",
       "        0.28167578, 0.28913885, 0.2686719 , 0.26363992, 0.25917335,\n",
       "        0.28772543, 0.2778877 , 0.27065071, 0.2799796 , 0.27596536,\n",
       "        0.28133657, 0.29513198, 0.26578842, 0.26929379, 0.25860797,\n",
       "        0.27749189, 0.26454456]])"
      ]
     },
     "execution_count": 42,
     "metadata": {},
     "output_type": "execute_result"
    }
   ],
   "source": [
    "# Recall how we extracted the minibatch from our training data\n",
    "minibatch = X_train[0:BATCH_SIZE,:,:].reshape([-1, WINDOW_SIZE])\n",
    "minibatch.shape\n",
    "minibatch"
   ]
  },
  {
   "cell_type": "code",
   "execution_count": 43,
   "metadata": {},
   "outputs": [
    {
     "name": "stdout",
     "output_type": "stream",
     "text": [
      "Processing input: 0\n",
      "Processing input: 1\n",
      "Processing input: 2\n",
      "Processing input: 3\n",
      "Processing input: 4\n",
      "Processing input: 5\n",
      "Processing input: 6\n",
      "Processing input: 7\n",
      "Processing input: 8\n",
      "Processing input: 9\n",
      "Processing input: 10\n",
      "Processing input: 11\n",
      "Processing input: 12\n",
      "Processing input: 13\n",
      "Processing input: 14\n",
      "Processing input: 15\n",
      "Processing input: 16\n",
      "Processing input: 17\n",
      "Processing input: 18\n",
      "Processing input: 19\n",
      "Processing input: 20\n",
      "Processing input: 21\n"
     ]
    }
   ],
   "source": [
    "for t in range(0, WINDOW_SIZE):\n",
    "    print(f\"Processing input: {t}\")\n",
    "    \n",
    "    iteration_input = minibatch[:,t:t+1] # Remember python indexing [a:b-1]\n",
    "\n",
    "    proc_input = np.dot(iteration_input, W_in) + b_in\n",
    "\n",
    "    h_state = np.tanh( np.dot(h_state, W_h) + proc_input + b_h )\n",
    "    "
   ]
  },
  {
   "cell_type": "markdown",
   "metadata": {},
   "source": [
    "Make a prediction using the final hidden state."
   ]
  },
  {
   "cell_type": "code",
   "execution_count": 44,
   "metadata": {},
   "outputs": [
    {
     "data": {
      "text/plain": [
       "array([[-0.99983138,  0.45224789,  0.16591855, -0.97484589,  0.97464643]])"
      ]
     },
     "execution_count": 44,
     "metadata": {},
     "output_type": "execute_result"
    }
   ],
   "source": [
    "h_state"
   ]
  },
  {
   "cell_type": "code",
   "execution_count": 45,
   "metadata": {},
   "outputs": [
    {
     "data": {
      "text/plain": [
       "array([[-0.86535847]])"
      ]
     },
     "execution_count": 45,
     "metadata": {},
     "output_type": "execute_result"
    }
   ],
   "source": [
    "output = np.dot(h_state, W_out) + b_out\n",
    "output"
   ]
  },
  {
   "cell_type": "code",
   "execution_count": 46,
   "metadata": {},
   "outputs": [
    {
     "data": {
      "text/plain": [
       "array([[0.27794421]])"
      ]
     },
     "execution_count": 46,
     "metadata": {},
     "output_type": "execute_result"
    }
   ],
   "source": [
    "# Compare the the target variable\n",
    "y_train[0:BATCH_SIZE]"
   ]
  },
  {
   "cell_type": "markdown",
   "metadata": {},
   "source": [
    "This completes our example of calculating the forward pass through an RNN 'by hand'. Of course, our network is still useless for prediction because we have not trained the parameters. But let's move on with revisting the forward pass in a more sophisticated network, the LSTM."
   ]
  },
  {
   "cell_type": "markdown",
   "metadata": {},
   "source": [
    "## Why Tanh activation?"
   ]
  },
  {
   "cell_type": "markdown",
   "metadata": {},
   "source": [
    "The original RNN uses tanh rather than the - at that time typical - sigmoid activation, because the tanh gradient lies in [0;1] rather than [0; .25]. Increasing the values of the activation function derivatives helps mitigate the vanishing gradient problem for lower layers and helps control the size of values in the hidden state. "
   ]
  },
  {
   "cell_type": "code",
   "execution_count": 47,
   "metadata": {},
   "outputs": [
    {
     "data": {
      "image/png": "[encoded data removed]",
      "text/plain": [
       "<Figure size 432x288 with 1 Axes>"
      ]
     },
     "metadata": {
      "needs_background": "light"
     },
     "output_type": "display_data"
    }
   ],
   "source": [
    "in_array = np.linspace(-np.pi, np.pi, 120) \n",
    "\n",
    "tan_h = np.tanh(in_array) \n",
    "sig = sigmoid(in_array)  \n",
    " \n",
    "plt.plot(in_array, tan_h, color = 'red', label='tanH')\n",
    "plt.plot(in_array, 1-tan_h**2, linestyle=':', color = 'red', label=\"tanH'\")\n",
    "plt.plot(in_array, sig, color = 'blue', label='sigmoid')\n",
    "plt.plot(in_array, sig*(1-sig), linestyle=':', color = 'blue',  label=\"sigmoid'\")\n",
    "plt.xlabel(\"X\") \n",
    "plt.ylabel(\"Y\") \n",
    "plt.legend(loc='best')\n",
    "plt.show();"
   ]
  },
  {
   "cell_type": "code",
   "execution_count": null,
   "metadata": {},
   "outputs": [],
   "source": []
  },
  {
   "cell_type": "code",
   "execution_count": null,
   "metadata": {},
   "outputs": [],
   "source": []
  }
 ],
 "metadata": {
  "kernelspec": {
   "display_name": "Python 3 (ipykernel)",
   "language": "python",
   "name": "python3"
  },
  "language_info": {
   "codemirror_mode": {
    "name": "ipython",
    "version": 3
   },
   "file_extension": ".py",
   "mimetype": "text/x-python",
   "name": "python",
   "nbconvert_exporter": "python",
   "pygments_lexer": "ipython3",
   "version": "3.9.11"
  },
  "pycharm": {
   "stem_cell": {
    "cell_type": "raw",
    "metadata": {
     "collapsed": false
    },
    "source": []
   }
  }
 },
 "nbformat": 4,
 "nbformat_minor": 4
}
