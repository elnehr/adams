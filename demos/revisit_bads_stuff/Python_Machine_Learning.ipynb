{
 "cells": [
  {
   "cell_type": "markdown",
   "metadata": {},
   "source": [
    "[![Open In Colab](https://colab.research.google.com/assets/colab-badge.svg)](https://colab.research.google.com/github/Humboldt-WI/adams/blob/master/exercises/Ex03-Python_Machine_Learning.ipynb) \n"
   ]
  },
  {
   "cell_type": "markdown",
   "metadata": {},
   "source": [
    "# ADAMS Tutorial #3: Machine Learning in Python\n",
    "\n",
    "The goal of the notebook is to revisit standard machine learning (ML) workflows as they were introduced in the Business Analytics and Data Science lecture. We will use the HMEQ credit scoring data sets from the last tutorial on [EDA using Pandas](https://github.com/Humboldt-WI/adams/blob/master/exercises/Ex02-Pandas-and-EDA.ipynb). As a quick reminder, the data is made available by [www.creditriskanalytics.net](http://www.creditriskanalytics.net/) and of 5960 observations and 13 variables. \n",
    "\n",
    "- BAD: 1=default; 0=non-default\n",
    "- LOAN: amount of the loan request\n",
    "- MORTDUE: amount due on existing mortgage\n",
    "- VALUE: value of current property\n",
    "- REASON: DebtCon=debt consolidation; HomeImp=home improvement\n",
    "- JOB: occupational categories\n",
    "- YOJ: years at present job\n",
    "- DEROG: number of major derogatory reports\n",
    "- DELINQ: number of delinquent credit lines\n",
    "- CLAGE: age of oldest credit line in months\n",
    "- NINQ: number of recent credit inquiries\n",
    "- CLNO: number of credit lines\n",
    "- DEBTINC: debt-to-income ratio\n",
    "\n",
    "The modeling task is to predict the status of the target variable BAD from the other (independent) variables. \n",
    "<br> \n",
    "The notebook will elaborate on the process of different machine learning techniques and their evaluation, including logistic regression, random forest and gradient boosting. More specifically, our modeling pipeline, and agenda, is as follows:\n",
    "1. Data integration\n",
    "2. Logistic regression model\n",
    "3. Evaluating predictive performance (resampling, confusion matrix, ROC)\n",
    "4. Regularized logistic regression and grid-search\n",
    "5. Ensemble learning using Random Forest and XGB\n",
    "6. Feature importance analysis and model diagnosis\n",
    "\n",
    "Quite a lot to do; let's get started."
   ]
  },
  {
   "cell_type": "code",
   "execution_count": 1,
   "metadata": {},
   "outputs": [],
   "source": [
    "# Import standard packages. We import modeling packages later when we first need them.\n",
    "import importlib\n",
    "import numpy as np\n",
    "import pandas as pd\n",
    "import matplotlib.pyplot as plt"
   ]
  },
  {
   "cell_type": "markdown",
   "metadata": {},
   "source": [
    "## 1. Data integration\n",
    "Details on getting and loading the data were covered in [Tutorial #2](https://github.com/Humboldt-WI/adams/blob/master/exercises/Ex02-Pandas-and-EDA.ipynb). Check it out if unsure. "
   ]
  },
  {
   "cell_type": "code",
   "execution_count": 7,
   "metadata": {},
   "outputs": [
    {
     "data": {
      "text/html": [
       "<div>\n",
       "<style scoped>\n",
       "    .dataframe tbody tr th:only-of-type {\n",
       "        vertical-align: middle;\n",
       "    }\n",
       "\n",
       "    .dataframe tbody tr th {\n",
       "        vertical-align: top;\n",
       "    }\n",
       "\n",
       "    .dataframe thead th {\n",
       "        text-align: right;\n",
       "    }\n",
       "</style>\n",
       "<table border=\"1\" class=\"dataframe\">\n",
       "  <thead>\n",
       "    <tr style=\"text-align: right;\">\n",
       "      <th></th>\n",
       "      <th>BAD</th>\n",
       "      <th>LOAN</th>\n",
       "      <th>MORTDUE</th>\n",
       "      <th>VALUE</th>\n",
       "      <th>REASON</th>\n",
       "      <th>JOB</th>\n",
       "      <th>YOJ</th>\n",
       "      <th>DEROG</th>\n",
       "      <th>DELINQ</th>\n",
       "      <th>CLAGE</th>\n",
       "      <th>NINQ</th>\n",
       "      <th>CLNO</th>\n",
       "      <th>DEBTINC</th>\n",
       "    </tr>\n",
       "  </thead>\n",
       "  <tbody>\n",
       "    <tr>\n",
       "      <th>0</th>\n",
       "      <td>True</td>\n",
       "      <td>1100.0</td>\n",
       "      <td>25860.0</td>\n",
       "      <td>39025.0</td>\n",
       "      <td>HomeImp</td>\n",
       "      <td>Other</td>\n",
       "      <td>10.5</td>\n",
       "      <td>0.0</td>\n",
       "      <td>0.0</td>\n",
       "      <td>94.366667</td>\n",
       "      <td>1.0</td>\n",
       "      <td>9.0</td>\n",
       "      <td>NaN</td>\n",
       "    </tr>\n",
       "    <tr>\n",
       "      <th>1</th>\n",
       "      <td>True</td>\n",
       "      <td>1300.0</td>\n",
       "      <td>70053.0</td>\n",
       "      <td>68400.0</td>\n",
       "      <td>HomeImp</td>\n",
       "      <td>Other</td>\n",
       "      <td>7.0</td>\n",
       "      <td>0.0</td>\n",
       "      <td>2.0</td>\n",
       "      <td>121.833333</td>\n",
       "      <td>0.0</td>\n",
       "      <td>14.0</td>\n",
       "      <td>NaN</td>\n",
       "    </tr>\n",
       "    <tr>\n",
       "      <th>2</th>\n",
       "      <td>True</td>\n",
       "      <td>1500.0</td>\n",
       "      <td>13500.0</td>\n",
       "      <td>16700.0</td>\n",
       "      <td>HomeImp</td>\n",
       "      <td>Other</td>\n",
       "      <td>4.0</td>\n",
       "      <td>0.0</td>\n",
       "      <td>0.0</td>\n",
       "      <td>149.466667</td>\n",
       "      <td>1.0</td>\n",
       "      <td>10.0</td>\n",
       "      <td>NaN</td>\n",
       "    </tr>\n",
       "    <tr>\n",
       "      <th>3</th>\n",
       "      <td>True</td>\n",
       "      <td>1500.0</td>\n",
       "      <td>NaN</td>\n",
       "      <td>NaN</td>\n",
       "      <td>NaN</td>\n",
       "      <td>NaN</td>\n",
       "      <td>NaN</td>\n",
       "      <td>NaN</td>\n",
       "      <td>NaN</td>\n",
       "      <td>NaN</td>\n",
       "      <td>NaN</td>\n",
       "      <td>NaN</td>\n",
       "      <td>NaN</td>\n",
       "    </tr>\n",
       "    <tr>\n",
       "      <th>4</th>\n",
       "      <td>False</td>\n",
       "      <td>1700.0</td>\n",
       "      <td>97800.0</td>\n",
       "      <td>112000.0</td>\n",
       "      <td>HomeImp</td>\n",
       "      <td>Office</td>\n",
       "      <td>3.0</td>\n",
       "      <td>0.0</td>\n",
       "      <td>0.0</td>\n",
       "      <td>93.333333</td>\n",
       "      <td>0.0</td>\n",
       "      <td>14.0</td>\n",
       "      <td>NaN</td>\n",
       "    </tr>\n",
       "  </tbody>\n",
       "</table>\n",
       "</div>"
      ],
      "text/plain": [
       "     BAD    LOAN  MORTDUE     VALUE   REASON     JOB   YOJ  DEROG  DELINQ  \\\n",
       "0   True  1100.0  25860.0   39025.0  HomeImp   Other  10.5    0.0     0.0   \n",
       "1   True  1300.0  70053.0   68400.0  HomeImp   Other   7.0    0.0     2.0   \n",
       "2   True  1500.0  13500.0   16700.0  HomeImp   Other   4.0    0.0     0.0   \n",
       "3   True  1500.0      NaN       NaN      NaN     NaN   NaN    NaN     NaN   \n",
       "4  False  1700.0  97800.0  112000.0  HomeImp  Office   3.0    0.0     0.0   \n",
       "\n",
       "        CLAGE  NINQ  CLNO  DEBTINC  \n",
       "0   94.366667   1.0   9.0      NaN  \n",
       "1  121.833333   0.0  14.0      NaN  \n",
       "2  149.466667   1.0  10.0      NaN  \n",
       "3         NaN   NaN   NaN      NaN  \n",
       "4   93.333333   0.0  14.0      NaN  "
      ]
     },
     "execution_count": 7,
     "metadata": {},
     "output_type": "execute_result"
    }
   ],
   "source": [
    "# Load data\n",
    "hmeq = pd.read_csv('hmeq.csv') # add your path here\n",
    "\n",
    "hmeq['BAD'] = hmeq['BAD'].astype('bool')\n",
    "hmeq['LOAN'] = hmeq['LOAN'].astype(np.float64)\n",
    "\n",
    "hmeq.head()\n",
    "#hmeq.dtypes"
   ]
  },
  {
   "cell_type": "markdown",
   "metadata": {},
   "source": [
    "To prepare the data for modeling, we will encode categories using dummy variables and scale the numeric variables afer same basic treatment of outliers and missing values (repetition).\n",
    "\n",
    "### Categorical variables\n",
    "Our two categories are REASON and JOB. We first specify them as categories, then handle missing values, and then apply dummy coding; the only new bit.\n",
    "\n",
    "A dummy variable is a binary vector that codes the values of one category level. For example, a vector for the variable 'JOB' and category level 'Office'. In this vector the value would  a 1 for every observation with an office job, and 0 for all others. \n",
    "\n",
    "We require dummy encoding because categorical data is common and carries valuable information but cannot be processed with some ML methods.\n",
    "\n",
    "This can be clarified through the example of logistic regression. Regression analysis is common practice for using a continuous variable (e.g. 'LOAN') to predict the independent variable ('BAD' in this example). As you cannot rank and/or calculate a meaningful distance between categories, this interpretation is not possible. However, if we split up these variable into the earlier described dummy variables, we create a numeric variable by only using the number 0 and 1. The new variables will then be used as input for the categorical variable. In our case, we would have 6 different dummy variables for the variable 'JOB' as it had 6 categories. \n",
    "\n",
    "However, regression settings also have problems with multicollinearity. This means that if we incorporate all six new dummy variables, we will encounter a problem. If we would, the sum of the 6 vectors would result in the value 1 for every observation. If this is too abstract for you, let's look at this by using an example. One observation's (all other variables excluded) dummy variables for the category 'JOB'.\n",
    "\n",
    "|  JOB_Mgr \t| JOB_Office  \t| JOB_Other  \t| JOB_ProfExe  \t| JOB_Sales  \t| JOB_Self  \t|\n",
    "|---\t|---\t|---\t|---\t|---\t|---\t|\n",
    "|   0\t|   0\t|   0\t|   0\t|   0\t|   1\t|\n",
    " \n",
    "    \n",
    "However, the value 0 for all other categories ('Mgr', 'Office', 'Other', 'ProxExe' and 'Sales') already indicates that the job must be the category 'Self'. Therefore, one vector is redundant. And that is what multicollinearity is about. Multicollinearity is the high correlations among independent variables in a regression setting. Therefore, we can escape the so called dummy trap by dropping one dummy variable for each category. "
   ]
  },
  {
   "cell_type": "code",
   "execution_count": 9,
   "metadata": {},
   "outputs": [
    {
     "data": {
      "text/html": [
       "<div>\n",
       "<style scoped>\n",
       "    .dataframe tbody tr th:only-of-type {\n",
       "        vertical-align: middle;\n",
       "    }\n",
       "\n",
       "    .dataframe tbody tr th {\n",
       "        vertical-align: top;\n",
       "    }\n",
       "\n",
       "    .dataframe thead th {\n",
       "        text-align: right;\n",
       "    }\n",
       "</style>\n",
       "<table border=\"1\" class=\"dataframe\">\n",
       "  <thead>\n",
       "    <tr style=\"text-align: right;\">\n",
       "      <th></th>\n",
       "      <th>BAD</th>\n",
       "      <th>LOAN</th>\n",
       "      <th>MORTDUE</th>\n",
       "      <th>VALUE</th>\n",
       "      <th>REASON</th>\n",
       "      <th>JOB</th>\n",
       "      <th>YOJ</th>\n",
       "      <th>DEROG</th>\n",
       "      <th>DELINQ</th>\n",
       "      <th>CLAGE</th>\n",
       "      <th>NINQ</th>\n",
       "      <th>CLNO</th>\n",
       "      <th>DEBTINC</th>\n",
       "    </tr>\n",
       "  </thead>\n",
       "  <tbody>\n",
       "    <tr>\n",
       "      <th>0</th>\n",
       "      <td>True</td>\n",
       "      <td>1100.0</td>\n",
       "      <td>25860.0</td>\n",
       "      <td>39025.0</td>\n",
       "      <td>HomeImp</td>\n",
       "      <td>Other</td>\n",
       "      <td>10.5</td>\n",
       "      <td>0.0</td>\n",
       "      <td>0.0</td>\n",
       "      <td>94.366667</td>\n",
       "      <td>1.0</td>\n",
       "      <td>9.0</td>\n",
       "      <td>NaN</td>\n",
       "    </tr>\n",
       "    <tr>\n",
       "      <th>1</th>\n",
       "      <td>True</td>\n",
       "      <td>1300.0</td>\n",
       "      <td>70053.0</td>\n",
       "      <td>68400.0</td>\n",
       "      <td>HomeImp</td>\n",
       "      <td>Other</td>\n",
       "      <td>7.0</td>\n",
       "      <td>0.0</td>\n",
       "      <td>2.0</td>\n",
       "      <td>121.833333</td>\n",
       "      <td>0.0</td>\n",
       "      <td>14.0</td>\n",
       "      <td>NaN</td>\n",
       "    </tr>\n",
       "    <tr>\n",
       "      <th>2</th>\n",
       "      <td>True</td>\n",
       "      <td>1500.0</td>\n",
       "      <td>13500.0</td>\n",
       "      <td>16700.0</td>\n",
       "      <td>HomeImp</td>\n",
       "      <td>Other</td>\n",
       "      <td>4.0</td>\n",
       "      <td>0.0</td>\n",
       "      <td>0.0</td>\n",
       "      <td>149.466667</td>\n",
       "      <td>1.0</td>\n",
       "      <td>10.0</td>\n",
       "      <td>NaN</td>\n",
       "    </tr>\n",
       "    <tr>\n",
       "      <th>3</th>\n",
       "      <td>True</td>\n",
       "      <td>1500.0</td>\n",
       "      <td>NaN</td>\n",
       "      <td>NaN</td>\n",
       "      <td>IsMissing</td>\n",
       "      <td>IsMissing</td>\n",
       "      <td>NaN</td>\n",
       "      <td>NaN</td>\n",
       "      <td>NaN</td>\n",
       "      <td>NaN</td>\n",
       "      <td>NaN</td>\n",
       "      <td>NaN</td>\n",
       "      <td>NaN</td>\n",
       "    </tr>\n",
       "    <tr>\n",
       "      <th>4</th>\n",
       "      <td>False</td>\n",
       "      <td>1700.0</td>\n",
       "      <td>97800.0</td>\n",
       "      <td>112000.0</td>\n",
       "      <td>HomeImp</td>\n",
       "      <td>Office</td>\n",
       "      <td>3.0</td>\n",
       "      <td>0.0</td>\n",
       "      <td>0.0</td>\n",
       "      <td>93.333333</td>\n",
       "      <td>0.0</td>\n",
       "      <td>14.0</td>\n",
       "      <td>NaN</td>\n",
       "    </tr>\n",
       "  </tbody>\n",
       "</table>\n",
       "</div>"
      ],
      "text/plain": [
       "     BAD    LOAN  MORTDUE     VALUE     REASON        JOB   YOJ  DEROG  \\\n",
       "0   True  1100.0  25860.0   39025.0    HomeImp      Other  10.5    0.0   \n",
       "1   True  1300.0  70053.0   68400.0    HomeImp      Other   7.0    0.0   \n",
       "2   True  1500.0  13500.0   16700.0    HomeImp      Other   4.0    0.0   \n",
       "3   True  1500.0      NaN       NaN  IsMissing  IsMissing   NaN    NaN   \n",
       "4  False  1700.0  97800.0  112000.0    HomeImp     Office   3.0    0.0   \n",
       "\n",
       "   DELINQ       CLAGE  NINQ  CLNO  DEBTINC  \n",
       "0     0.0   94.366667   1.0   9.0      NaN  \n",
       "1     2.0  121.833333   0.0  14.0      NaN  \n",
       "2     0.0  149.466667   1.0  10.0      NaN  \n",
       "3     NaN         NaN   NaN   NaN      NaN  \n",
       "4     0.0   93.333333   0.0  14.0      NaN  "
      ]
     },
     "execution_count": 9,
     "metadata": {},
     "output_type": "execute_result"
    }
   ],
   "source": [
    "# Details for these operations are available in the EDA tutorial\n",
    "cat_vars = ['REASON', 'JOB']\n",
    "df = hmeq.copy()\n",
    "# Convert from data type object to category\n",
    "df[cat_vars] = df[cat_vars].apply(lambda x: x.astype('category'), axis=0)\n",
    "\n",
    "# Add new category level for missing values\n",
    "df[cat_vars] = df[cat_vars].apply(lambda x: x.cat.add_categories('IsMissing'), axis=0)\n",
    "\n",
    "# Assing missing values to the new level\n",
    "for c in cat_vars:\n",
    "    df.loc[df[c].isna(),c] = \"IsMissing\"\n",
    "    \n",
    "df.head()"
   ]
  },
  {
   "cell_type": "code",
   "execution_count": 10,
   "metadata": {},
   "outputs": [
    {
     "name": "stdout",
     "output_type": "stream",
     "text": [
      "<class 'pandas.core.frame.DataFrame'>\n",
      "RangeIndex: 5960 entries, 0 to 5959\n",
      "Data columns (total 19 columns):\n",
      " #   Column            Non-Null Count  Dtype  \n",
      "---  ------            --------------  -----  \n",
      " 0   BAD               5960 non-null   bool   \n",
      " 1   LOAN              5960 non-null   float64\n",
      " 2   MORTDUE           5442 non-null   float64\n",
      " 3   VALUE             5848 non-null   float64\n",
      " 4   YOJ               5445 non-null   float64\n",
      " 5   DEROG             5252 non-null   float64\n",
      " 6   DELINQ            5380 non-null   float64\n",
      " 7   CLAGE             5652 non-null   float64\n",
      " 8   NINQ              5450 non-null   float64\n",
      " 9   CLNO              5738 non-null   float64\n",
      " 10  DEBTINC           4693 non-null   float64\n",
      " 11  REASON_HomeImp    5960 non-null   uint8  \n",
      " 12  REASON_IsMissing  5960 non-null   uint8  \n",
      " 13  JOB_Office        5960 non-null   uint8  \n",
      " 14  JOB_Other         5960 non-null   uint8  \n",
      " 15  JOB_ProfExe       5960 non-null   uint8  \n",
      " 16  JOB_Sales         5960 non-null   uint8  \n",
      " 17  JOB_Self          5960 non-null   uint8  \n",
      " 18  JOB_IsMissing     5960 non-null   uint8  \n",
      "dtypes: bool(1), float64(10), uint8(8)\n",
      "memory usage: 518.1 KB\n"
     ]
    }
   ],
   "source": [
    "# Dummy coding is easy to implement using Pandas or scikit-learn functions.\n",
    "# We use the Pandas implementation. Make sure to take a look at the documentation. \n",
    "# The function is quite powerful. Any ideas how we could have simplified the above part? \n",
    "df = pd.get_dummies(df, prefix_sep=\"_\", columns=cat_vars, drop_first=True)\n",
    "\n",
    "# Note the new dummy columns and their naming\n",
    "df.info()"
   ]
  },
  {
   "cell_type": "code",
   "execution_count": 11,
   "metadata": {},
   "outputs": [
    {
     "data": {
      "text/html": [
       "<div>\n",
       "<style scoped>\n",
       "    .dataframe tbody tr th:only-of-type {\n",
       "        vertical-align: middle;\n",
       "    }\n",
       "\n",
       "    .dataframe tbody tr th {\n",
       "        vertical-align: top;\n",
       "    }\n",
       "\n",
       "    .dataframe thead th {\n",
       "        text-align: right;\n",
       "    }\n",
       "</style>\n",
       "<table border=\"1\" class=\"dataframe\">\n",
       "  <thead>\n",
       "    <tr style=\"text-align: right;\">\n",
       "      <th></th>\n",
       "      <th>BAD</th>\n",
       "      <th>LOAN</th>\n",
       "      <th>MORTDUE</th>\n",
       "      <th>VALUE</th>\n",
       "      <th>YOJ</th>\n",
       "      <th>DEROG</th>\n",
       "      <th>DELINQ</th>\n",
       "      <th>CLAGE</th>\n",
       "      <th>NINQ</th>\n",
       "      <th>CLNO</th>\n",
       "      <th>DEBTINC</th>\n",
       "      <th>REASON_HomeImp</th>\n",
       "      <th>REASON_IsMissing</th>\n",
       "      <th>JOB_Office</th>\n",
       "      <th>JOB_Other</th>\n",
       "      <th>JOB_ProfExe</th>\n",
       "      <th>JOB_Sales</th>\n",
       "      <th>JOB_Self</th>\n",
       "      <th>JOB_IsMissing</th>\n",
       "    </tr>\n",
       "  </thead>\n",
       "  <tbody>\n",
       "    <tr>\n",
       "      <th>0</th>\n",
       "      <td>True</td>\n",
       "      <td>1100.0</td>\n",
       "      <td>25860.0</td>\n",
       "      <td>39025.0</td>\n",
       "      <td>10.5</td>\n",
       "      <td>0.0</td>\n",
       "      <td>0.0</td>\n",
       "      <td>94.366667</td>\n",
       "      <td>1.0</td>\n",
       "      <td>9.0</td>\n",
       "      <td>NaN</td>\n",
       "      <td>1</td>\n",
       "      <td>0</td>\n",
       "      <td>0</td>\n",
       "      <td>1</td>\n",
       "      <td>0</td>\n",
       "      <td>0</td>\n",
       "      <td>0</td>\n",
       "      <td>0</td>\n",
       "    </tr>\n",
       "    <tr>\n",
       "      <th>1</th>\n",
       "      <td>True</td>\n",
       "      <td>1300.0</td>\n",
       "      <td>70053.0</td>\n",
       "      <td>68400.0</td>\n",
       "      <td>7.0</td>\n",
       "      <td>0.0</td>\n",
       "      <td>2.0</td>\n",
       "      <td>121.833333</td>\n",
       "      <td>0.0</td>\n",
       "      <td>14.0</td>\n",
       "      <td>NaN</td>\n",
       "      <td>1</td>\n",
       "      <td>0</td>\n",
       "      <td>0</td>\n",
       "      <td>1</td>\n",
       "      <td>0</td>\n",
       "      <td>0</td>\n",
       "      <td>0</td>\n",
       "      <td>0</td>\n",
       "    </tr>\n",
       "    <tr>\n",
       "      <th>2</th>\n",
       "      <td>True</td>\n",
       "      <td>1500.0</td>\n",
       "      <td>13500.0</td>\n",
       "      <td>16700.0</td>\n",
       "      <td>4.0</td>\n",
       "      <td>0.0</td>\n",
       "      <td>0.0</td>\n",
       "      <td>149.466667</td>\n",
       "      <td>1.0</td>\n",
       "      <td>10.0</td>\n",
       "      <td>NaN</td>\n",
       "      <td>1</td>\n",
       "      <td>0</td>\n",
       "      <td>0</td>\n",
       "      <td>1</td>\n",
       "      <td>0</td>\n",
       "      <td>0</td>\n",
       "      <td>0</td>\n",
       "      <td>0</td>\n",
       "    </tr>\n",
       "    <tr>\n",
       "      <th>3</th>\n",
       "      <td>True</td>\n",
       "      <td>1500.0</td>\n",
       "      <td>NaN</td>\n",
       "      <td>NaN</td>\n",
       "      <td>NaN</td>\n",
       "      <td>NaN</td>\n",
       "      <td>NaN</td>\n",
       "      <td>NaN</td>\n",
       "      <td>NaN</td>\n",
       "      <td>NaN</td>\n",
       "      <td>NaN</td>\n",
       "      <td>0</td>\n",
       "      <td>1</td>\n",
       "      <td>0</td>\n",
       "      <td>0</td>\n",
       "      <td>0</td>\n",
       "      <td>0</td>\n",
       "      <td>0</td>\n",
       "      <td>1</td>\n",
       "    </tr>\n",
       "    <tr>\n",
       "      <th>4</th>\n",
       "      <td>False</td>\n",
       "      <td>1700.0</td>\n",
       "      <td>97800.0</td>\n",
       "      <td>112000.0</td>\n",
       "      <td>3.0</td>\n",
       "      <td>0.0</td>\n",
       "      <td>0.0</td>\n",
       "      <td>93.333333</td>\n",
       "      <td>0.0</td>\n",
       "      <td>14.0</td>\n",
       "      <td>NaN</td>\n",
       "      <td>1</td>\n",
       "      <td>0</td>\n",
       "      <td>1</td>\n",
       "      <td>0</td>\n",
       "      <td>0</td>\n",
       "      <td>0</td>\n",
       "      <td>0</td>\n",
       "      <td>0</td>\n",
       "    </tr>\n",
       "  </tbody>\n",
       "</table>\n",
       "</div>"
      ],
      "text/plain": [
       "     BAD    LOAN  MORTDUE     VALUE   YOJ  DEROG  DELINQ       CLAGE  NINQ  \\\n",
       "0   True  1100.0  25860.0   39025.0  10.5    0.0     0.0   94.366667   1.0   \n",
       "1   True  1300.0  70053.0   68400.0   7.0    0.0     2.0  121.833333   0.0   \n",
       "2   True  1500.0  13500.0   16700.0   4.0    0.0     0.0  149.466667   1.0   \n",
       "3   True  1500.0      NaN       NaN   NaN    NaN     NaN         NaN   NaN   \n",
       "4  False  1700.0  97800.0  112000.0   3.0    0.0     0.0   93.333333   0.0   \n",
       "\n",
       "   CLNO  DEBTINC  REASON_HomeImp  REASON_IsMissing  JOB_Office  JOB_Other  \\\n",
       "0   9.0      NaN               1                 0           0          1   \n",
       "1  14.0      NaN               1                 0           0          1   \n",
       "2  10.0      NaN               1                 0           0          1   \n",
       "3   NaN      NaN               0                 1           0          0   \n",
       "4  14.0      NaN               1                 0           1          0   \n",
       "\n",
       "   JOB_ProfExe  JOB_Sales  JOB_Self  JOB_IsMissing  \n",
       "0            0          0         0              0  \n",
       "1            0          0         0              0  \n",
       "2            0          0         0              0  \n",
       "3            0          0         0              1  \n",
       "4            0          0         0              0  "
      ]
     },
     "execution_count": 11,
     "metadata": {},
     "output_type": "execute_result"
    }
   ],
   "source": [
    "df.head()"
   ]
  },
  {
   "cell_type": "markdown",
   "metadata": {},
   "source": [
    "### Numeric variables\n",
    "For the numeric variables in the data, we will repeat the missing value and outlier treatment from the EDA tutorial. Thereafter, we use functionality of the scikit-learn library to scale numeric variables so that their value ranges are easier to compare."
   ]
  },
  {
   "cell_type": "markdown",
   "metadata": {},
   "source": [
    "#### Missing values"
   ]
  },
  {
   "cell_type": "code",
   "execution_count": 12,
   "metadata": {},
   "outputs": [],
   "source": [
    "# Replace missing values among numeric variables using the median\n",
    "for col in df.select_dtypes(include='float64').columns:\n",
    "    if df[col].isna().sum() > 0:\n",
    "        m = df[col].median()\n",
    "        df[col].fillna(m, inplace=True)\n",
    "\n"
   ]
  },
  {
   "cell_type": "markdown",
   "metadata": {},
   "source": [
    "#### Outliers"
   ]
  },
  {
   "cell_type": "code",
   "execution_count": 13,
   "metadata": {},
   "outputs": [
    {
     "data": {
      "text/html": [
       "<div>\n",
       "<style scoped>\n",
       "    .dataframe tbody tr th:only-of-type {\n",
       "        vertical-align: middle;\n",
       "    }\n",
       "\n",
       "    .dataframe tbody tr th {\n",
       "        vertical-align: top;\n",
       "    }\n",
       "\n",
       "    .dataframe thead th {\n",
       "        text-align: right;\n",
       "    }\n",
       "</style>\n",
       "<table border=\"1\" class=\"dataframe\">\n",
       "  <thead>\n",
       "    <tr style=\"text-align: right;\">\n",
       "      <th></th>\n",
       "      <th>LOAN</th>\n",
       "      <th>MORTDUE</th>\n",
       "      <th>VALUE</th>\n",
       "      <th>YOJ</th>\n",
       "      <th>CLAGE</th>\n",
       "      <th>NINQ</th>\n",
       "      <th>CLNO</th>\n",
       "      <th>DEBTINC</th>\n",
       "    </tr>\n",
       "  </thead>\n",
       "  <tbody>\n",
       "    <tr>\n",
       "      <th>0.25</th>\n",
       "      <td>11100.0</td>\n",
       "      <td>48139.00</td>\n",
       "      <td>66489.50</td>\n",
       "      <td>3.0</td>\n",
       "      <td>117.371430</td>\n",
       "      <td>0.0</td>\n",
       "      <td>15.0</td>\n",
       "      <td>30.763159</td>\n",
       "    </tr>\n",
       "    <tr>\n",
       "      <th>0.75</th>\n",
       "      <td>23300.0</td>\n",
       "      <td>88200.25</td>\n",
       "      <td>119004.75</td>\n",
       "      <td>12.0</td>\n",
       "      <td>227.143058</td>\n",
       "      <td>2.0</td>\n",
       "      <td>26.0</td>\n",
       "      <td>37.949892</td>\n",
       "    </tr>\n",
       "  </tbody>\n",
       "</table>\n",
       "</div>"
      ],
      "text/plain": [
       "         LOAN   MORTDUE      VALUE   YOJ       CLAGE  NINQ  CLNO    DEBTINC\n",
       "0.25  11100.0  48139.00   66489.50   3.0  117.371430   0.0  15.0  30.763159\n",
       "0.75  23300.0  88200.25  119004.75  12.0  227.143058   2.0  26.0  37.949892"
      ]
     },
     "execution_count": 13,
     "metadata": {},
     "output_type": "execute_result"
    }
   ],
   "source": [
    "# Variables to be treated\n",
    "num_cols = [x for x in df.columns if df[x].dtype in ['float64', 'float32', 'float16'] and x not in ['DEROG', 'DELINQ']]\n",
    "\n",
    "# Calc 1st and 3rd quartile\n",
    "q = df[num_cols].quantile([0.25, 0.75])\n",
    "q"
   ]
  },
  {
   "cell_type": "code",
   "execution_count": 16,
   "metadata": {},
   "outputs": [
    {
     "data": {
      "text/html": [
       "<div>\n",
       "<style scoped>\n",
       "    .dataframe tbody tr th:only-of-type {\n",
       "        vertical-align: middle;\n",
       "    }\n",
       "\n",
       "    .dataframe tbody tr th {\n",
       "        vertical-align: top;\n",
       "    }\n",
       "\n",
       "    .dataframe thead th {\n",
       "        text-align: right;\n",
       "    }\n",
       "</style>\n",
       "<table border=\"1\" class=\"dataframe\">\n",
       "  <thead>\n",
       "    <tr style=\"text-align: right;\">\n",
       "      <th></th>\n",
       "      <th>LOAN</th>\n",
       "      <th>MORTDUE</th>\n",
       "      <th>VALUE</th>\n",
       "      <th>YOJ</th>\n",
       "      <th>CLAGE</th>\n",
       "      <th>NINQ</th>\n",
       "      <th>CLNO</th>\n",
       "      <th>DEBTINC</th>\n",
       "    </tr>\n",
       "  </thead>\n",
       "  <tbody>\n",
       "    <tr>\n",
       "      <th>0</th>\n",
       "      <td>12200.0</td>\n",
       "      <td>40061.25</td>\n",
       "      <td>52515.25</td>\n",
       "      <td>9.0</td>\n",
       "      <td>109.771628</td>\n",
       "      <td>2.0</td>\n",
       "      <td>11.0</td>\n",
       "      <td>7.186733</td>\n",
       "    </tr>\n",
       "  </tbody>\n",
       "</table>\n",
       "</div>"
      ],
      "text/plain": [
       "      LOAN   MORTDUE     VALUE  YOJ       CLAGE  NINQ  CLNO   DEBTINC\n",
       "0  12200.0  40061.25  52515.25  9.0  109.771628   2.0  11.0  7.186733"
      ]
     },
     "execution_count": 16,
     "metadata": {},
     "output_type": "execute_result"
    }
   ],
   "source": [
    "# Calc IQR (key is the .diff() function, the rest is mainly cleaning up data types/structure)\n",
    "iqr = q.diff()\n",
    "iqr.drop(iqr.index[0], inplace=True)\n",
    "iqr = iqr.reset_index().iloc[:,1:len(num_cols)+1]\n",
    "iqr"
   ]
  },
  {
   "cell_type": "code",
   "execution_count": 198,
   "metadata": {},
   "outputs": [
    {
     "data": {
      "text/html": [
       "<div>\n",
       "<style scoped>\n",
       "    .dataframe tbody tr th:only-of-type {\n",
       "        vertical-align: middle;\n",
       "    }\n",
       "\n",
       "    .dataframe tbody tr th {\n",
       "        vertical-align: top;\n",
       "    }\n",
       "\n",
       "    .dataframe thead th {\n",
       "        text-align: right;\n",
       "    }\n",
       "</style>\n",
       "<table border=\"1\" class=\"dataframe\">\n",
       "  <thead>\n",
       "    <tr style=\"text-align: right;\">\n",
       "      <th></th>\n",
       "      <th>LOAN</th>\n",
       "      <th>MORTDUE</th>\n",
       "      <th>VALUE</th>\n",
       "      <th>YOJ</th>\n",
       "      <th>DEROG</th>\n",
       "      <th>DELINQ</th>\n",
       "      <th>CLAGE</th>\n",
       "      <th>NINQ</th>\n",
       "      <th>CLNO</th>\n",
       "      <th>DEBTINC</th>\n",
       "      <th>REASON_HomeImp</th>\n",
       "      <th>REASON_IsMissing</th>\n",
       "      <th>JOB_Office</th>\n",
       "      <th>JOB_Other</th>\n",
       "      <th>JOB_ProfExe</th>\n",
       "      <th>JOB_Sales</th>\n",
       "      <th>JOB_Self</th>\n",
       "      <th>JOB_IsMissing</th>\n",
       "    </tr>\n",
       "  </thead>\n",
       "  <tbody>\n",
       "    <tr>\n",
       "      <th>count</th>\n",
       "      <td>5960.000000</td>\n",
       "      <td>5960.000000</td>\n",
       "      <td>5960.000000</td>\n",
       "      <td>5960.000000</td>\n",
       "      <td>5960.000000</td>\n",
       "      <td>5960.000000</td>\n",
       "      <td>5960.000000</td>\n",
       "      <td>5960.000000</td>\n",
       "      <td>5960.000000</td>\n",
       "      <td>5960.000000</td>\n",
       "      <td>5960.000000</td>\n",
       "      <td>5960.000000</td>\n",
       "      <td>5960.000000</td>\n",
       "      <td>5960.000000</td>\n",
       "      <td>5960.000000</td>\n",
       "      <td>5960.000000</td>\n",
       "      <td>5960.000000</td>\n",
       "      <td>5960.000000</td>\n",
       "    </tr>\n",
       "    <tr>\n",
       "      <th>mean</th>\n",
       "      <td>18607.969799</td>\n",
       "      <td>73001.041812</td>\n",
       "      <td>101540.387423</td>\n",
       "      <td>8.756166</td>\n",
       "      <td>0.224329</td>\n",
       "      <td>0.405705</td>\n",
       "      <td>179.440725</td>\n",
       "      <td>1.170134</td>\n",
       "      <td>21.247819</td>\n",
       "      <td>34.000651</td>\n",
       "      <td>0.298658</td>\n",
       "      <td>0.042282</td>\n",
       "      <td>0.159060</td>\n",
       "      <td>0.400671</td>\n",
       "      <td>0.214094</td>\n",
       "      <td>0.018289</td>\n",
       "      <td>0.032383</td>\n",
       "      <td>0.046812</td>\n",
       "    </tr>\n",
       "    <tr>\n",
       "      <th>std</th>\n",
       "      <td>11207.480417</td>\n",
       "      <td>42552.726779</td>\n",
       "      <td>56869.436682</td>\n",
       "      <td>7.259424</td>\n",
       "      <td>0.798458</td>\n",
       "      <td>1.079256</td>\n",
       "      <td>83.574697</td>\n",
       "      <td>1.653866</td>\n",
       "      <td>9.951308</td>\n",
       "      <td>7.644528</td>\n",
       "      <td>0.457708</td>\n",
       "      <td>0.201248</td>\n",
       "      <td>0.365763</td>\n",
       "      <td>0.490076</td>\n",
       "      <td>0.410227</td>\n",
       "      <td>0.134004</td>\n",
       "      <td>0.177029</td>\n",
       "      <td>0.211254</td>\n",
       "    </tr>\n",
       "    <tr>\n",
       "      <th>min</th>\n",
       "      <td>1100.000000</td>\n",
       "      <td>2063.000000</td>\n",
       "      <td>8000.000000</td>\n",
       "      <td>0.000000</td>\n",
       "      <td>0.000000</td>\n",
       "      <td>0.000000</td>\n",
       "      <td>0.000000</td>\n",
       "      <td>0.000000</td>\n",
       "      <td>0.000000</td>\n",
       "      <td>0.524499</td>\n",
       "      <td>0.000000</td>\n",
       "      <td>0.000000</td>\n",
       "      <td>0.000000</td>\n",
       "      <td>0.000000</td>\n",
       "      <td>0.000000</td>\n",
       "      <td>0.000000</td>\n",
       "      <td>0.000000</td>\n",
       "      <td>0.000000</td>\n",
       "    </tr>\n",
       "    <tr>\n",
       "      <th>25%</th>\n",
       "      <td>11100.000000</td>\n",
       "      <td>48139.000000</td>\n",
       "      <td>66489.500000</td>\n",
       "      <td>3.000000</td>\n",
       "      <td>0.000000</td>\n",
       "      <td>0.000000</td>\n",
       "      <td>117.371430</td>\n",
       "      <td>0.000000</td>\n",
       "      <td>15.000000</td>\n",
       "      <td>30.763159</td>\n",
       "      <td>0.000000</td>\n",
       "      <td>0.000000</td>\n",
       "      <td>0.000000</td>\n",
       "      <td>0.000000</td>\n",
       "      <td>0.000000</td>\n",
       "      <td>0.000000</td>\n",
       "      <td>0.000000</td>\n",
       "      <td>0.000000</td>\n",
       "    </tr>\n",
       "    <tr>\n",
       "      <th>50%</th>\n",
       "      <td>16300.000000</td>\n",
       "      <td>65019.000000</td>\n",
       "      <td>89235.500000</td>\n",
       "      <td>7.000000</td>\n",
       "      <td>0.000000</td>\n",
       "      <td>0.000000</td>\n",
       "      <td>173.466667</td>\n",
       "      <td>1.000000</td>\n",
       "      <td>20.000000</td>\n",
       "      <td>34.818262</td>\n",
       "      <td>0.000000</td>\n",
       "      <td>0.000000</td>\n",
       "      <td>0.000000</td>\n",
       "      <td>0.000000</td>\n",
       "      <td>0.000000</td>\n",
       "      <td>0.000000</td>\n",
       "      <td>0.000000</td>\n",
       "      <td>0.000000</td>\n",
       "    </tr>\n",
       "    <tr>\n",
       "      <th>75%</th>\n",
       "      <td>23300.000000</td>\n",
       "      <td>88200.250000</td>\n",
       "      <td>119004.750000</td>\n",
       "      <td>12.000000</td>\n",
       "      <td>0.000000</td>\n",
       "      <td>0.000000</td>\n",
       "      <td>227.143058</td>\n",
       "      <td>2.000000</td>\n",
       "      <td>26.000000</td>\n",
       "      <td>37.949892</td>\n",
       "      <td>1.000000</td>\n",
       "      <td>0.000000</td>\n",
       "      <td>0.000000</td>\n",
       "      <td>1.000000</td>\n",
       "      <td>0.000000</td>\n",
       "      <td>0.000000</td>\n",
       "      <td>0.000000</td>\n",
       "      <td>0.000000</td>\n",
       "    </tr>\n",
       "    <tr>\n",
       "      <th>max</th>\n",
       "      <td>89900.000000</td>\n",
       "      <td>399550.000000</td>\n",
       "      <td>855909.000000</td>\n",
       "      <td>41.000000</td>\n",
       "      <td>10.000000</td>\n",
       "      <td>15.000000</td>\n",
       "      <td>1168.233561</td>\n",
       "      <td>17.000000</td>\n",
       "      <td>71.000000</td>\n",
       "      <td>203.312149</td>\n",
       "      <td>1.000000</td>\n",
       "      <td>1.000000</td>\n",
       "      <td>1.000000</td>\n",
       "      <td>1.000000</td>\n",
       "      <td>1.000000</td>\n",
       "      <td>1.000000</td>\n",
       "      <td>1.000000</td>\n",
       "      <td>1.000000</td>\n",
       "    </tr>\n",
       "  </tbody>\n",
       "</table>\n",
       "</div>"
      ],
      "text/plain": [
       "               LOAN        MORTDUE          VALUE          YOJ        DEROG  \\\n",
       "count   5960.000000    5960.000000    5960.000000  5960.000000  5960.000000   \n",
       "mean   18607.969799   73001.041812  101540.387423     8.756166     0.224329   \n",
       "std    11207.480417   42552.726779   56869.436682     7.259424     0.798458   \n",
       "min     1100.000000    2063.000000    8000.000000     0.000000     0.000000   \n",
       "25%    11100.000000   48139.000000   66489.500000     3.000000     0.000000   \n",
       "50%    16300.000000   65019.000000   89235.500000     7.000000     0.000000   \n",
       "75%    23300.000000   88200.250000  119004.750000    12.000000     0.000000   \n",
       "max    89900.000000  399550.000000  855909.000000    41.000000    10.000000   \n",
       "\n",
       "            DELINQ        CLAGE         NINQ         CLNO      DEBTINC  \\\n",
       "count  5960.000000  5960.000000  5960.000000  5960.000000  5960.000000   \n",
       "mean      0.405705   179.440725     1.170134    21.247819    34.000651   \n",
       "std       1.079256    83.574697     1.653866     9.951308     7.644528   \n",
       "min       0.000000     0.000000     0.000000     0.000000     0.524499   \n",
       "25%       0.000000   117.371430     0.000000    15.000000    30.763159   \n",
       "50%       0.000000   173.466667     1.000000    20.000000    34.818262   \n",
       "75%       0.000000   227.143058     2.000000    26.000000    37.949892   \n",
       "max      15.000000  1168.233561    17.000000    71.000000   203.312149   \n",
       "\n",
       "       REASON_HomeImp  REASON_IsMissing   JOB_Office    JOB_Other  \\\n",
       "count     5960.000000       5960.000000  5960.000000  5960.000000   \n",
       "mean         0.298658          0.042282     0.159060     0.400671   \n",
       "std          0.457708          0.201248     0.365763     0.490076   \n",
       "min          0.000000          0.000000     0.000000     0.000000   \n",
       "25%          0.000000          0.000000     0.000000     0.000000   \n",
       "50%          0.000000          0.000000     0.000000     0.000000   \n",
       "75%          1.000000          0.000000     0.000000     1.000000   \n",
       "max          1.000000          1.000000     1.000000     1.000000   \n",
       "\n",
       "       JOB_ProfExe    JOB_Sales     JOB_Self  JOB_IsMissing  \n",
       "count  5960.000000  5960.000000  5960.000000    5960.000000  \n",
       "mean      0.214094     0.018289     0.032383       0.046812  \n",
       "std       0.410227     0.134004     0.177029       0.211254  \n",
       "min       0.000000     0.000000     0.000000       0.000000  \n",
       "25%       0.000000     0.000000     0.000000       0.000000  \n",
       "50%       0.000000     0.000000     0.000000       0.000000  \n",
       "75%       0.000000     0.000000     0.000000       0.000000  \n",
       "max       1.000000     1.000000     1.000000       1.000000  "
      ]
     },
     "execution_count": 198,
     "metadata": {},
     "output_type": "execute_result"
    }
   ],
   "source": [
    "# Values before truncation\n",
    "df.describe()"
   ]
  },
  {
   "cell_type": "code",
   "execution_count": 17,
   "metadata": {},
   "outputs": [
    {
     "data": {
      "text/html": [
       "<div>\n",
       "<style scoped>\n",
       "    .dataframe tbody tr th:only-of-type {\n",
       "        vertical-align: middle;\n",
       "    }\n",
       "\n",
       "    .dataframe tbody tr th {\n",
       "        vertical-align: top;\n",
       "    }\n",
       "\n",
       "    .dataframe thead th {\n",
       "        text-align: right;\n",
       "    }\n",
       "</style>\n",
       "<table border=\"1\" class=\"dataframe\">\n",
       "  <thead>\n",
       "    <tr style=\"text-align: right;\">\n",
       "      <th></th>\n",
       "      <th>LOAN</th>\n",
       "      <th>MORTDUE</th>\n",
       "      <th>VALUE</th>\n",
       "      <th>YOJ</th>\n",
       "      <th>DEROG</th>\n",
       "      <th>DELINQ</th>\n",
       "      <th>CLAGE</th>\n",
       "      <th>NINQ</th>\n",
       "      <th>CLNO</th>\n",
       "      <th>DEBTINC</th>\n",
       "      <th>REASON_HomeImp</th>\n",
       "      <th>REASON_IsMissing</th>\n",
       "      <th>JOB_Office</th>\n",
       "      <th>JOB_Other</th>\n",
       "      <th>JOB_ProfExe</th>\n",
       "      <th>JOB_Sales</th>\n",
       "      <th>JOB_Self</th>\n",
       "      <th>JOB_IsMissing</th>\n",
       "    </tr>\n",
       "  </thead>\n",
       "  <tbody>\n",
       "    <tr>\n",
       "      <th>count</th>\n",
       "      <td>5960.000000</td>\n",
       "      <td>5960.000000</td>\n",
       "      <td>5960.000000</td>\n",
       "      <td>5960.000000</td>\n",
       "      <td>5960.000000</td>\n",
       "      <td>5960.000000</td>\n",
       "      <td>5960.000000</td>\n",
       "      <td>5960.000000</td>\n",
       "      <td>5960.000000</td>\n",
       "      <td>5960.000000</td>\n",
       "      <td>5960.000000</td>\n",
       "      <td>5960.000000</td>\n",
       "      <td>5960.000000</td>\n",
       "      <td>5960.000000</td>\n",
       "      <td>5960.000000</td>\n",
       "      <td>5960.000000</td>\n",
       "      <td>5960.000000</td>\n",
       "      <td>5960.000000</td>\n",
       "    </tr>\n",
       "    <tr>\n",
       "      <th>mean</th>\n",
       "      <td>18459.177852</td>\n",
       "      <td>72326.504060</td>\n",
       "      <td>100527.982473</td>\n",
       "      <td>8.755159</td>\n",
       "      <td>0.224329</td>\n",
       "      <td>0.405705</td>\n",
       "      <td>179.014539</td>\n",
       "      <td>1.148322</td>\n",
       "      <td>21.235906</td>\n",
       "      <td>33.919411</td>\n",
       "      <td>0.298658</td>\n",
       "      <td>0.042282</td>\n",
       "      <td>0.159060</td>\n",
       "      <td>0.400671</td>\n",
       "      <td>0.214094</td>\n",
       "      <td>0.018289</td>\n",
       "      <td>0.032383</td>\n",
       "      <td>0.046812</td>\n",
       "    </tr>\n",
       "    <tr>\n",
       "      <th>std</th>\n",
       "      <td>10500.744330</td>\n",
       "      <td>39437.327495</td>\n",
       "      <td>50639.354946</td>\n",
       "      <td>7.255089</td>\n",
       "      <td>0.798458</td>\n",
       "      <td>1.079256</td>\n",
       "      <td>80.768529</td>\n",
       "      <td>1.538720</td>\n",
       "      <td>9.901447</td>\n",
       "      <td>6.568137</td>\n",
       "      <td>0.457708</td>\n",
       "      <td>0.201248</td>\n",
       "      <td>0.365763</td>\n",
       "      <td>0.490076</td>\n",
       "      <td>0.410227</td>\n",
       "      <td>0.134004</td>\n",
       "      <td>0.177029</td>\n",
       "      <td>0.211254</td>\n",
       "    </tr>\n",
       "    <tr>\n",
       "      <th>min</th>\n",
       "      <td>1100.000000</td>\n",
       "      <td>2063.000000</td>\n",
       "      <td>8000.000000</td>\n",
       "      <td>0.000000</td>\n",
       "      <td>0.000000</td>\n",
       "      <td>0.000000</td>\n",
       "      <td>0.000000</td>\n",
       "      <td>0.000000</td>\n",
       "      <td>0.000000</td>\n",
       "      <td>9.202962</td>\n",
       "      <td>0.000000</td>\n",
       "      <td>0.000000</td>\n",
       "      <td>0.000000</td>\n",
       "      <td>0.000000</td>\n",
       "      <td>0.000000</td>\n",
       "      <td>0.000000</td>\n",
       "      <td>0.000000</td>\n",
       "      <td>0.000000</td>\n",
       "    </tr>\n",
       "    <tr>\n",
       "      <th>25%</th>\n",
       "      <td>11100.000000</td>\n",
       "      <td>48139.000000</td>\n",
       "      <td>66489.500000</td>\n",
       "      <td>3.000000</td>\n",
       "      <td>0.000000</td>\n",
       "      <td>0.000000</td>\n",
       "      <td>117.371430</td>\n",
       "      <td>0.000000</td>\n",
       "      <td>15.000000</td>\n",
       "      <td>30.763159</td>\n",
       "      <td>0.000000</td>\n",
       "      <td>0.000000</td>\n",
       "      <td>0.000000</td>\n",
       "      <td>0.000000</td>\n",
       "      <td>0.000000</td>\n",
       "      <td>0.000000</td>\n",
       "      <td>0.000000</td>\n",
       "      <td>0.000000</td>\n",
       "    </tr>\n",
       "    <tr>\n",
       "      <th>50%</th>\n",
       "      <td>16300.000000</td>\n",
       "      <td>65019.000000</td>\n",
       "      <td>89235.500000</td>\n",
       "      <td>7.000000</td>\n",
       "      <td>0.000000</td>\n",
       "      <td>0.000000</td>\n",
       "      <td>173.466667</td>\n",
       "      <td>1.000000</td>\n",
       "      <td>20.000000</td>\n",
       "      <td>34.818262</td>\n",
       "      <td>0.000000</td>\n",
       "      <td>0.000000</td>\n",
       "      <td>0.000000</td>\n",
       "      <td>0.000000</td>\n",
       "      <td>0.000000</td>\n",
       "      <td>0.000000</td>\n",
       "      <td>0.000000</td>\n",
       "      <td>0.000000</td>\n",
       "    </tr>\n",
       "    <tr>\n",
       "      <th>75%</th>\n",
       "      <td>23300.000000</td>\n",
       "      <td>88200.250000</td>\n",
       "      <td>119004.750000</td>\n",
       "      <td>12.000000</td>\n",
       "      <td>0.000000</td>\n",
       "      <td>0.000000</td>\n",
       "      <td>227.143058</td>\n",
       "      <td>2.000000</td>\n",
       "      <td>26.000000</td>\n",
       "      <td>37.949892</td>\n",
       "      <td>1.000000</td>\n",
       "      <td>0.000000</td>\n",
       "      <td>0.000000</td>\n",
       "      <td>1.000000</td>\n",
       "      <td>0.000000</td>\n",
       "      <td>0.000000</td>\n",
       "      <td>0.000000</td>\n",
       "      <td>0.000000</td>\n",
       "    </tr>\n",
       "    <tr>\n",
       "      <th>max</th>\n",
       "      <td>59900.000000</td>\n",
       "      <td>208384.000000</td>\n",
       "      <td>276550.500000</td>\n",
       "      <td>39.000000</td>\n",
       "      <td>10.000000</td>\n",
       "      <td>15.000000</td>\n",
       "      <td>556.457943</td>\n",
       "      <td>8.000000</td>\n",
       "      <td>59.000000</td>\n",
       "      <td>59.510090</td>\n",
       "      <td>1.000000</td>\n",
       "      <td>1.000000</td>\n",
       "      <td>1.000000</td>\n",
       "      <td>1.000000</td>\n",
       "      <td>1.000000</td>\n",
       "      <td>1.000000</td>\n",
       "      <td>1.000000</td>\n",
       "      <td>1.000000</td>\n",
       "    </tr>\n",
       "  </tbody>\n",
       "</table>\n",
       "</div>"
      ],
      "text/plain": [
       "               LOAN        MORTDUE          VALUE          YOJ        DEROG  \\\n",
       "count   5960.000000    5960.000000    5960.000000  5960.000000  5960.000000   \n",
       "mean   18459.177852   72326.504060  100527.982473     8.755159     0.224329   \n",
       "std    10500.744330   39437.327495   50639.354946     7.255089     0.798458   \n",
       "min     1100.000000    2063.000000    8000.000000     0.000000     0.000000   \n",
       "25%    11100.000000   48139.000000   66489.500000     3.000000     0.000000   \n",
       "50%    16300.000000   65019.000000   89235.500000     7.000000     0.000000   \n",
       "75%    23300.000000   88200.250000  119004.750000    12.000000     0.000000   \n",
       "max    59900.000000  208384.000000  276550.500000    39.000000    10.000000   \n",
       "\n",
       "            DELINQ        CLAGE         NINQ         CLNO      DEBTINC  \\\n",
       "count  5960.000000  5960.000000  5960.000000  5960.000000  5960.000000   \n",
       "mean      0.405705   179.014539     1.148322    21.235906    33.919411   \n",
       "std       1.079256    80.768529     1.538720     9.901447     6.568137   \n",
       "min       0.000000     0.000000     0.000000     0.000000     9.202962   \n",
       "25%       0.000000   117.371430     0.000000    15.000000    30.763159   \n",
       "50%       0.000000   173.466667     1.000000    20.000000    34.818262   \n",
       "75%       0.000000   227.143058     2.000000    26.000000    37.949892   \n",
       "max      15.000000   556.457943     8.000000    59.000000    59.510090   \n",
       "\n",
       "       REASON_HomeImp  REASON_IsMissing   JOB_Office    JOB_Other  \\\n",
       "count     5960.000000       5960.000000  5960.000000  5960.000000   \n",
       "mean         0.298658          0.042282     0.159060     0.400671   \n",
       "std          0.457708          0.201248     0.365763     0.490076   \n",
       "min          0.000000          0.000000     0.000000     0.000000   \n",
       "25%          0.000000          0.000000     0.000000     0.000000   \n",
       "50%          0.000000          0.000000     0.000000     0.000000   \n",
       "75%          1.000000          0.000000     0.000000     1.000000   \n",
       "max          1.000000          1.000000     1.000000     1.000000   \n",
       "\n",
       "       JOB_ProfExe    JOB_Sales     JOB_Self  JOB_IsMissing  \n",
       "count  5960.000000  5960.000000  5960.000000    5960.000000  \n",
       "mean      0.214094     0.018289     0.032383       0.046812  \n",
       "std       0.410227     0.134004     0.177029       0.211254  \n",
       "min       0.000000     0.000000     0.000000       0.000000  \n",
       "25%       0.000000     0.000000     0.000000       0.000000  \n",
       "50%       0.000000     0.000000     0.000000       0.000000  \n",
       "75%       0.000000     0.000000     0.000000       0.000000  \n",
       "max       1.000000     1.000000     1.000000       1.000000  "
      ]
     },
     "execution_count": 17,
     "metadata": {},
     "output_type": "execute_result"
    }
   ],
   "source": [
    "# Factor to determine outliers according to Tukey's rule\n",
    "factor = 3\n",
    "for c in num_cols:\n",
    "    # upper outlier\n",
    "    uo = (q.loc[0.75,c] + iqr[c]*factor)\n",
    "    # lower outliers\n",
    "    lo = (q.loc[0.25,c] - iqr[c]*factor)\n",
    "    # Truncation\n",
    "    df.loc[ df[c] > uo[0], c ] = uo[0]\n",
    "    df.loc[ df[c] < lo[0], c ] = lo[0]\n",
    "\n",
    "# Examines descriptives one more time\n",
    "df.describe()"
   ]
  },
  {
   "cell_type": "markdown",
   "metadata": {},
   "source": [
    "#### Scaling variable values\n",
    "Finally we can proceed with scaling variable values. Remeber that treating outliers before this step was important because the extreme values would otherwise impede the scaling. We will use the scaler class of scikit-learn to carry out the actual scaling. scikit-learn features multiple classes for different types of scaling. Their use is always the same and consistent with our example. \n"
   ]
  },
  {
   "cell_type": "code",
   "execution_count": 18,
   "metadata": {},
   "outputs": [
    {
     "data": {
      "text/html": [
       "<div>\n",
       "<style scoped>\n",
       "    .dataframe tbody tr th:only-of-type {\n",
       "        vertical-align: middle;\n",
       "    }\n",
       "\n",
       "    .dataframe tbody tr th {\n",
       "        vertical-align: top;\n",
       "    }\n",
       "\n",
       "    .dataframe thead th {\n",
       "        text-align: right;\n",
       "    }\n",
       "</style>\n",
       "<table border=\"1\" class=\"dataframe\">\n",
       "  <thead>\n",
       "    <tr style=\"text-align: right;\">\n",
       "      <th></th>\n",
       "      <th>BAD</th>\n",
       "      <th>LOAN</th>\n",
       "      <th>MORTDUE</th>\n",
       "      <th>VALUE</th>\n",
       "      <th>YOJ</th>\n",
       "      <th>DEROG</th>\n",
       "      <th>DELINQ</th>\n",
       "      <th>CLAGE</th>\n",
       "      <th>NINQ</th>\n",
       "      <th>CLNO</th>\n",
       "      <th>DEBTINC</th>\n",
       "      <th>REASON_HomeImp</th>\n",
       "      <th>REASON_IsMissing</th>\n",
       "      <th>JOB_Office</th>\n",
       "      <th>JOB_Other</th>\n",
       "      <th>JOB_ProfExe</th>\n",
       "      <th>JOB_Sales</th>\n",
       "      <th>JOB_Self</th>\n",
       "      <th>JOB_IsMissing</th>\n",
       "    </tr>\n",
       "  </thead>\n",
       "  <tbody>\n",
       "    <tr>\n",
       "      <th>0</th>\n",
       "      <td>True</td>\n",
       "      <td>-1.653277</td>\n",
       "      <td>-1.178335</td>\n",
       "      <td>-1.214631</td>\n",
       "      <td>0.240519</td>\n",
       "      <td>-0.280976</td>\n",
       "      <td>-0.375943</td>\n",
       "      <td>-1.048118</td>\n",
       "      <td>-0.096401</td>\n",
       "      <td>-1.235873</td>\n",
       "      <td>0.136862</td>\n",
       "      <td>1</td>\n",
       "      <td>0</td>\n",
       "      <td>0</td>\n",
       "      <td>1</td>\n",
       "      <td>0</td>\n",
       "      <td>0</td>\n",
       "      <td>0</td>\n",
       "      <td>0</td>\n",
       "    </tr>\n",
       "    <tr>\n",
       "      <th>1</th>\n",
       "      <td>True</td>\n",
       "      <td>-1.634229</td>\n",
       "      <td>-0.057653</td>\n",
       "      <td>-0.634500</td>\n",
       "      <td>-0.241941</td>\n",
       "      <td>-0.280976</td>\n",
       "      <td>1.477341</td>\n",
       "      <td>-0.708023</td>\n",
       "      <td>-0.746347</td>\n",
       "      <td>-0.730854</td>\n",
       "      <td>0.136862</td>\n",
       "      <td>1</td>\n",
       "      <td>0</td>\n",
       "      <td>0</td>\n",
       "      <td>1</td>\n",
       "      <td>0</td>\n",
       "      <td>0</td>\n",
       "      <td>0</td>\n",
       "      <td>0</td>\n",
       "    </tr>\n",
       "    <tr>\n",
       "      <th>2</th>\n",
       "      <td>True</td>\n",
       "      <td>-1.615181</td>\n",
       "      <td>-1.491770</td>\n",
       "      <td>-1.655531</td>\n",
       "      <td>-0.655479</td>\n",
       "      <td>-0.280976</td>\n",
       "      <td>-0.375943</td>\n",
       "      <td>-0.365865</td>\n",
       "      <td>-0.096401</td>\n",
       "      <td>-1.134869</td>\n",
       "      <td>0.136862</td>\n",
       "      <td>1</td>\n",
       "      <td>0</td>\n",
       "      <td>0</td>\n",
       "      <td>1</td>\n",
       "      <td>0</td>\n",
       "      <td>0</td>\n",
       "      <td>0</td>\n",
       "      <td>0</td>\n",
       "    </tr>\n",
       "    <tr>\n",
       "      <th>3</th>\n",
       "      <td>True</td>\n",
       "      <td>-1.615181</td>\n",
       "      <td>-0.185310</td>\n",
       "      <td>-0.223017</td>\n",
       "      <td>-0.241941</td>\n",
       "      <td>-0.280976</td>\n",
       "      <td>-0.375943</td>\n",
       "      <td>-0.068694</td>\n",
       "      <td>-0.096401</td>\n",
       "      <td>-0.124831</td>\n",
       "      <td>0.136862</td>\n",
       "      <td>0</td>\n",
       "      <td>1</td>\n",
       "      <td>0</td>\n",
       "      <td>0</td>\n",
       "      <td>0</td>\n",
       "      <td>0</td>\n",
       "      <td>0</td>\n",
       "      <td>1</td>\n",
       "    </tr>\n",
       "    <tr>\n",
       "      <th>4</th>\n",
       "      <td>False</td>\n",
       "      <td>-1.596133</td>\n",
       "      <td>0.645978</td>\n",
       "      <td>0.226563</td>\n",
       "      <td>-0.793325</td>\n",
       "      <td>-0.280976</td>\n",
       "      <td>-0.375943</td>\n",
       "      <td>-1.060913</td>\n",
       "      <td>-0.746347</td>\n",
       "      <td>-0.730854</td>\n",
       "      <td>0.136862</td>\n",
       "      <td>1</td>\n",
       "      <td>0</td>\n",
       "      <td>1</td>\n",
       "      <td>0</td>\n",
       "      <td>0</td>\n",
       "      <td>0</td>\n",
       "      <td>0</td>\n",
       "      <td>0</td>\n",
       "    </tr>\n",
       "    <tr>\n",
       "      <th>5</th>\n",
       "      <td>True</td>\n",
       "      <td>-1.596133</td>\n",
       "      <td>-1.059453</td>\n",
       "      <td>-1.189056</td>\n",
       "      <td>0.033750</td>\n",
       "      <td>-0.280976</td>\n",
       "      <td>-0.375943</td>\n",
       "      <td>-0.960214</td>\n",
       "      <td>-0.096401</td>\n",
       "      <td>-1.336877</td>\n",
       "      <td>0.486359</td>\n",
       "      <td>1</td>\n",
       "      <td>0</td>\n",
       "      <td>0</td>\n",
       "      <td>1</td>\n",
       "      <td>0</td>\n",
       "      <td>0</td>\n",
       "      <td>0</td>\n",
       "      <td>0</td>\n",
       "    </tr>\n",
       "    <tr>\n",
       "      <th>6</th>\n",
       "      <td>True</td>\n",
       "      <td>-1.586609</td>\n",
       "      <td>-0.600433</td>\n",
       "      <td>-0.858910</td>\n",
       "      <td>-0.517633</td>\n",
       "      <td>3.476581</td>\n",
       "      <td>1.477341</td>\n",
       "      <td>-1.261916</td>\n",
       "      <td>-0.096401</td>\n",
       "      <td>-0.427843</td>\n",
       "      <td>0.136862</td>\n",
       "      <td>1</td>\n",
       "      <td>0</td>\n",
       "      <td>0</td>\n",
       "      <td>1</td>\n",
       "      <td>0</td>\n",
       "      <td>0</td>\n",
       "      <td>0</td>\n",
       "      <td>0</td>\n",
       "    </tr>\n",
       "    <tr>\n",
       "      <th>7</th>\n",
       "      <td>True</td>\n",
       "      <td>-1.586609</td>\n",
       "      <td>-1.111338</td>\n",
       "      <td>-1.135457</td>\n",
       "      <td>0.309442</td>\n",
       "      <td>-0.280976</td>\n",
       "      <td>-0.375943</td>\n",
       "      <td>-1.117466</td>\n",
       "      <td>-0.746347</td>\n",
       "      <td>-1.336877</td>\n",
       "      <td>0.451533</td>\n",
       "      <td>1</td>\n",
       "      <td>0</td>\n",
       "      <td>0</td>\n",
       "      <td>1</td>\n",
       "      <td>0</td>\n",
       "      <td>0</td>\n",
       "      <td>0</td>\n",
       "      <td>0</td>\n",
       "    </tr>\n",
       "    <tr>\n",
       "      <th>8</th>\n",
       "      <td>True</td>\n",
       "      <td>-1.567561</td>\n",
       "      <td>-1.004881</td>\n",
       "      <td>-1.062267</td>\n",
       "      <td>-0.793325</td>\n",
       "      <td>-0.280976</td>\n",
       "      <td>1.477341</td>\n",
       "      <td>0.469514</td>\n",
       "      <td>-0.096401</td>\n",
       "      <td>-0.932862</td>\n",
       "      <td>0.136862</td>\n",
       "      <td>1</td>\n",
       "      <td>0</td>\n",
       "      <td>0</td>\n",
       "      <td>1</td>\n",
       "      <td>0</td>\n",
       "      <td>0</td>\n",
       "      <td>0</td>\n",
       "      <td>0</td>\n",
       "    </tr>\n",
       "    <tr>\n",
       "      <th>9</th>\n",
       "      <td>True</td>\n",
       "      <td>-1.567561</td>\n",
       "      <td>-0.185310</td>\n",
       "      <td>-0.755957</td>\n",
       "      <td>0.998671</td>\n",
       "      <td>-0.280976</td>\n",
       "      <td>-0.375943</td>\n",
       "      <td>-0.782729</td>\n",
       "      <td>-0.746347</td>\n",
       "      <td>-0.831858</td>\n",
       "      <td>0.136862</td>\n",
       "      <td>1</td>\n",
       "      <td>0</td>\n",
       "      <td>0</td>\n",
       "      <td>0</td>\n",
       "      <td>0</td>\n",
       "      <td>1</td>\n",
       "      <td>0</td>\n",
       "      <td>0</td>\n",
       "    </tr>\n",
       "  </tbody>\n",
       "</table>\n",
       "</div>"
      ],
      "text/plain": [
       "     BAD      LOAN   MORTDUE     VALUE       YOJ     DEROG    DELINQ  \\\n",
       "0   True -1.653277 -1.178335 -1.214631  0.240519 -0.280976 -0.375943   \n",
       "1   True -1.634229 -0.057653 -0.634500 -0.241941 -0.280976  1.477341   \n",
       "2   True -1.615181 -1.491770 -1.655531 -0.655479 -0.280976 -0.375943   \n",
       "3   True -1.615181 -0.185310 -0.223017 -0.241941 -0.280976 -0.375943   \n",
       "4  False -1.596133  0.645978  0.226563 -0.793325 -0.280976 -0.375943   \n",
       "5   True -1.596133 -1.059453 -1.189056  0.033750 -0.280976 -0.375943   \n",
       "6   True -1.586609 -0.600433 -0.858910 -0.517633  3.476581  1.477341   \n",
       "7   True -1.586609 -1.111338 -1.135457  0.309442 -0.280976 -0.375943   \n",
       "8   True -1.567561 -1.004881 -1.062267 -0.793325 -0.280976  1.477341   \n",
       "9   True -1.567561 -0.185310 -0.755957  0.998671 -0.280976 -0.375943   \n",
       "\n",
       "      CLAGE      NINQ      CLNO   DEBTINC  REASON_HomeImp  REASON_IsMissing  \\\n",
       "0 -1.048118 -0.096401 -1.235873  0.136862               1                 0   \n",
       "1 -0.708023 -0.746347 -0.730854  0.136862               1                 0   \n",
       "2 -0.365865 -0.096401 -1.134869  0.136862               1                 0   \n",
       "3 -0.068694 -0.096401 -0.124831  0.136862               0                 1   \n",
       "4 -1.060913 -0.746347 -0.730854  0.136862               1                 0   \n",
       "5 -0.960214 -0.096401 -1.336877  0.486359               1                 0   \n",
       "6 -1.261916 -0.096401 -0.427843  0.136862               1                 0   \n",
       "7 -1.117466 -0.746347 -1.336877  0.451533               1                 0   \n",
       "8  0.469514 -0.096401 -0.932862  0.136862               1                 0   \n",
       "9 -0.782729 -0.746347 -0.831858  0.136862               1                 0   \n",
       "\n",
       "   JOB_Office  JOB_Other  JOB_ProfExe  JOB_Sales  JOB_Self  JOB_IsMissing  \n",
       "0           0          1            0          0         0              0  \n",
       "1           0          1            0          0         0              0  \n",
       "2           0          1            0          0         0              0  \n",
       "3           0          0            0          0         0              1  \n",
       "4           1          0            0          0         0              0  \n",
       "5           0          1            0          0         0              0  \n",
       "6           0          1            0          0         0              0  \n",
       "7           0          1            0          0         0              0  \n",
       "8           0          1            0          0         0              0  \n",
       "9           0          0            0          1         0              0  "
      ]
     },
     "execution_count": 18,
     "metadata": {},
     "output_type": "execute_result"
    }
   ],
   "source": [
    "from sklearn.preprocessing import StandardScaler\n",
    "scaler = StandardScaler()  # this class standardizes the data\n",
    "\n",
    "X = df.select_dtypes(include='float64')  # extract numeric variables\n",
    "X_new = scaler.fit_transform(X)  # perform the scaling\n",
    "X_new = pd.DataFrame(X_new, columns = X.columns)  # convert result into a data frame\n",
    "df[X.columns] = X_new\n",
    "\n",
    "df.head(10)"
   ]
  },
  {
   "cell_type": "code",
   "execution_count": 19,
   "metadata": {},
   "outputs": [
    {
     "data": {
      "image/png": "[encoded data removed]",
      "text/plain": [
       "<Figure size 1440x720 with 20 Axes>"
      ]
     },
     "metadata": {
      "needs_background": "light"
     },
     "output_type": "display_data"
    }
   ],
   "source": [
    "# Verify that our data set looks fine\n",
    "plt.rcParams[\"figure.figsize\"] = (20,10)\n",
    "df.select_dtypes(exclude='bool').hist(bins=20);\n",
    "# ok, we can easily spot a couple of remaining issue but let's start the actual modeling"
   ]
  },
  {
   "cell_type": "markdown",
   "metadata": {},
   "source": [
    "We will now move on with some modeling. Many relevant modeling functions expect an input in the form $(y, X)$, where $y$ denotes the target variable and $X$ the covariates. We build these items from our prepared data frame and use them in the reminder.   "
   ]
  },
  {
   "cell_type": "code",
   "execution_count": 20,
   "metadata": {},
   "outputs": [],
   "source": [
    "y = df.BAD\n",
    "X = df.drop('BAD', axis=1)"
   ]
  },
  {
   "cell_type": "markdown",
   "metadata": {},
   "source": [
    "## 2. Logistic regression model\n",
    "The first model that we will consider is the logistic regression or logit model. \n",
    "\n",
    "Since we face a classification problem, we are looking for a probability of a certain outcome, that is $p \\left( y=BAD|x \\right)$, where *p* stands for probability. Remember the well-known logistic regression formula:\n",
    "\n",
    "$$y=ln(\\frac{p}{1-p})=\\beta_{0}+\\beta_{1}X_{1}+\\beta_{2}X_{2}+...+\\beta_{k}X_{k},$$\n",
    "\n",
    "which we could also represent in matrix form as follows:\n",
    "\n",
    "$$Y=g \\left( WX+b \\right) $$\n",
    "\n",
    "where the W stands for the **weight** matrix, containing coefficients/betas for respective explanatory \n",
    "variables, and b is an error term or a **bias**. In the case of the logit model, the nonlinear function $g(\\cdot)$ is chosen to be the logistic function: $ g(z) = \\frac{1}{1+e^{-z}}$.\n",
    "\n",
    "Logistic regression is a popular model for both, explanatory and predictive modeling. If you have an explanatory use case, you should use the implementation in the *statsmodels* library. This libraray provides standard functionality like statistical hypothesis testing and gives us the well-known regression table as output. "
   ]
  },
  {
   "cell_type": "code",
   "execution_count": 21,
   "metadata": {},
   "outputs": [
    {
     "name": "stdout",
     "output_type": "stream",
     "text": [
      "Optimization terminated successfully.\n",
      "         Current function value: 0.412766\n",
      "         Iterations 7\n",
      "                           Logit Regression Results                           \n",
      "==============================================================================\n",
      "Dep. Variable:                    BAD   No. Observations:                 5960\n",
      "Model:                          Logit   Df Residuals:                     5942\n",
      "Method:                           MLE   Df Model:                           17\n",
      "Date:                Thu, 30 Apr 2020   Pseudo R-squ.:                  0.1740\n",
      "Time:                        21:10:22   Log-Likelihood:                -2460.1\n",
      "converged:                       True   LL-Null:                       -2978.2\n",
      "Covariance Type:            nonrobust   LLR p-value:                1.539e-209\n",
      "====================================================================================\n",
      "                       coef    std err          z      P>|z|      [0.025      0.975]\n",
      "------------------------------------------------------------------------------------\n",
      "LOAN                -0.2315      0.043     -5.329      0.000      -0.317      -0.146\n",
      "MORTDUE             -0.2230      0.066     -3.393      0.001      -0.352      -0.094\n",
      "VALUE                0.1393      0.068      2.046      0.041       0.006       0.273\n",
      "YOJ                 -0.0924      0.040     -2.307      0.021      -0.171      -0.014\n",
      "DEROG                0.4710      0.039     11.944      0.000       0.394       0.548\n",
      "DELINQ               0.8116      0.043     18.851      0.000       0.727       0.896\n",
      "CLAGE               -0.3963      0.042     -9.472      0.000      -0.478      -0.314\n",
      "NINQ                 0.2101      0.033      6.287      0.000       0.145       0.276\n",
      "CLNO                -0.1974      0.042     -4.710      0.000      -0.280      -0.115\n",
      "DEBTINC              0.3966      0.042      9.408      0.000       0.314       0.479\n",
      "REASON_HomeImp      -0.1367      0.082     -1.665      0.096      -0.298       0.024\n",
      "REASON_IsMissing     0.0647      0.226      0.286      0.775      -0.379       0.508\n",
      "JOB_Office          -2.2337      0.116    -19.288      0.000      -2.461      -2.007\n",
      "JOB_Other           -1.5347      0.065    -23.506      0.000      -1.663      -1.407\n",
      "JOB_ProfExe         -1.5405      0.091    -16.964      0.000      -1.718      -1.362\n",
      "JOB_Sales           -0.7008      0.234     -2.990      0.003      -1.160      -0.241\n",
      "JOB_Self            -0.8307      0.196     -4.244      0.000      -1.214      -0.447\n",
      "JOB_IsMissing       -2.4285      0.254     -9.552      0.000      -2.927      -1.930\n",
      "====================================================================================\n"
     ]
    }
   ],
   "source": [
    "import statsmodels.api as sm\n",
    "logit_model = sm.Logit(y,X)\n",
    "result=logit_model.fit()\n",
    "print(result.summary())"
   ]
  },
  {
   "cell_type": "markdown",
   "metadata": {},
   "source": [
    "Later we will revisit the logit model and use the implementation in *scikit-learn*. It is more geared toward predictive modeling, which is the topic of the reminder of the notebook."
   ]
  },
  {
   "cell_type": "markdown",
   "metadata": {},
   "source": [
    "## 3. Evaluating predictive performance (resampling, confusion matrix, ROC)\n",
    "Performance evaluation involves practices to simulate an application of a model and accuracy indicators to capture how well it predicts. \n",
    "\n",
    "We build a model on our data. But how do we ensure, that our model finds generalizable patterns in the data as opposed to just describing this particular sample. \n",
    "\n",
    "### Data organization\n",
    "\n",
    "The most simple approach is to build a model on the whole data set. This is what we did above. We could use the same data to make predictions and assess their accuracy. However, this would greatly overestimate model formance. Rather, we split the data into training and test set. This means, we train a model on a random subset of our data set, the training set. Then we use the remaining instances, the test set, also called hold out data, for model assessment. In order to evaluate the performance, we compute predictions of the test set with the model built on the training set. We compare these predictions to the actuals in the test set. Let's see how scikit-learn supports this workflow."
   ]
  },
  {
   "cell_type": "code",
   "execution_count": 29,
   "metadata": {},
   "outputs": [
    {
     "data": {
      "text/plain": [
       "((4768,), (1192,), (4768, 18), (1192, 18))"
      ]
     },
     "execution_count": 29,
     "metadata": {},
     "output_type": "execute_result"
    }
   ],
   "source": [
    "# Data partitioning\n",
    "from sklearn.model_selection import train_test_split\n",
    "\n",
    "# create training and test set\n",
    "# x_train = all columns but 'BAD' of training set (needed to build supervised learning model)\n",
    "# y_train = outcome variable of training observations (needed to build supervised learning model)\n",
    "# x_test = all columns but 'BAD' of test set (needed to predict outcome of test set with training set model)\n",
    "# y_test = outcome variable of test observations (needed for model assessment)\n",
    "x_train, x_test, y_train, y_test = train_test_split(X, y, test_size=0.2 )  # 20% of the data as hold-out\n",
    "\n",
    "#make yourself familiar with these vectors\n",
    "y_train.shape, y_test.shape, x_train.shape, x_test.shape"
   ]
  },
  {
   "cell_type": "markdown",
   "metadata": {},
   "source": [
    "We will now re-estimate the logit model. However, we use the scikit-learn version this time (for illustration) and make sure to not touch the test set. "
   ]
  },
  {
   "cell_type": "code",
   "execution_count": 30,
   "metadata": {},
   "outputs": [
    {
     "name": "stdout",
     "output_type": "stream",
     "text": [
      "LogisticRegression(C=1.0, class_weight=None, dual=False, fit_intercept=True,\n",
      "                   intercept_scaling=1, l1_ratio=None, max_iter=500,\n",
      "                   multi_class='auto', n_jobs=None, penalty='none',\n",
      "                   random_state=None, solver='lbfgs', tol=0.0001, verbose=0,\n",
      "                   warm_start=False)\n",
      "Accuracy on train data: 0.8375\n",
      "Accuracy on test data: 0.8431\n"
     ]
    }
   ],
   "source": [
    "from sklearn.linear_model import LogisticRegression\n",
    "\n",
    "sk_logit = LogisticRegression(penalty='none', fit_intercept=True, max_iter=500)\n",
    "log = sk_logit.fit(x_train, y_train)\n",
    "print(log)\n",
    "\n",
    "# Calculate classification accuracy on the training and the test set\n",
    "print('Accuracy on train data: {:.4f}'.format(sk_logit.score(x_train, y_train)))\n",
    "print('Accuracy on test data: {:.4f}'.format(sk_logit.score(x_test, y_test)));"
   ]
  },
  {
   "cell_type": "markdown",
   "metadata": {},
   "source": [
    "### Performance assessment\n",
    "\n",
    "Accuracy indicators help us evaluate how well our model predicts the target. We compute them by comparing actuals to  predictions. This is also what the function *.score* has done in the above print statement. \n",
    "\n",
    "\n",
    "#### Classification accuracy and its shortcomings\n",
    "Classification accuracy is a threshold metric. It calculates model performance for one threshold or classification cut-off. If not specified, this threshold is usually set to 0.5. Changing the threshold can change the accuracy a lot, eventhough the model stays the same. This is particularly true in imbalanced data sets like this one. Let me give you an examplary scenario: We have 100 observations. 5 observations are of the class 'BAD' and 95 of the class 'GOOD'. So even without finding any generalizable patterns, classifying all observations as good would still result in an accuracy of 95%. To ensure robustness of our model, we want to avoid this. \n",
    "\n",
    "In our case, the accuracy is just under the accuracy of the training data. We've included both for comparison and as it can be a first indicator for overfitting (high score on training data, low on test). In our case however, it looks acceptable, which makes sense because logit is not prone to overfitting.\n",
    "\n",
    "A preferable approach to assess classification performance is to consider all possible thresholds. This is what receiver-operating-characteristics (ROC) analysis does. We looking into ROC, let's have a look at the full confusion table first, which will also remind us of the role of the threshold.\n",
    "\n",
    "\n",
    "#### Confusion matrix"
   ]
  },
  {
   "cell_type": "code",
   "execution_count": 32,
   "metadata": {},
   "outputs": [
    {
     "name": "stdout",
     "output_type": "stream",
     "text": [
      "[[921  32]\n",
      " [155  84]]\n"
     ]
    }
   ],
   "source": [
    "from sklearn import metrics  # Important lib where we find various performance measures\n",
    "\n",
    "# 1. Quick and dirty way to get a confusion table\n",
    "cmat = metrics.confusion_matrix(y_test, sk_logit.predict(x_test))\n",
    "print(cmat)"
   ]
  },
  {
   "cell_type": "code",
   "execution_count": 33,
   "metadata": {},
   "outputs": [
    {
     "data": {
      "image/png": "[encoded data removed]",
      "text/plain": [
       "<Figure size 360x360 with 2 Axes>"
      ]
     },
     "metadata": {
      "needs_background": "light"
     },
     "output_type": "display_data"
    }
   ],
   "source": [
    "# 2. Pretty-print confusion matrix\n",
    "plt.rcParams[\"figure.figsize\"] = (5,5)\n",
    "metrics.plot_confusion_matrix(sk_logit, x_test, y_test, labels=[0, 1], display_labels=['Goods(0)', 'Bads(1)'], cmap='Blues',values_format='n')\n",
    "plt.show()"
   ]
  },
  {
   "cell_type": "markdown",
   "metadata": {},
   "source": [
    "Classification accuracy simply calculates the number of correct class predictions (main diagonal) over all cases. Here, what class a model predicts depends on the classification threshold. You classify cases as BAD if $p(y=BAD|x) \\gt \\tau$, where $\\tau$ denotes the threshold. \n",
    "\n",
    "Hence, the above confusion table is based on one threshold, and might look rather different for another. A ROC curve consideres all cut-offs $\\tau \\in [0,1]$ plotting the True Positive Rate and False Positive Rate for each threshold. "
   ]
  },
  {
   "cell_type": "markdown",
   "metadata": {},
   "source": [
    "#### ROC Curve and AUC\n",
    "\n",
    "This is one of the most important evaluation metrics in classification analysis. Have a look at the graph below. The curve tells us how well the model differntiates the two classes, in regards to their predicted probabilities.\n",
    "A ROC curve has the FPR on the X-axis and FPR on the Y-axis.\n",
    "The curve is made up out of all the different combinations of TPR and FPR across all thresholds.\n",
    "\n",
    "The AUC stand for the Area under the Curvea and is a ranking indicator. The AUC estimates the probability that a randomly chosen positive instance is correctly ranked higher than a randomly chosen negative (Hanley and McNeil, 1983) . We calculate this area, as our goal is to have a FPR of 0 and a TPR of 1. This would be the perfect model. This point is in the top right corner of a ROC Curve. So the closer we get to that point, the better the model and the bigger the area under it. It is common practice to add a horizontal line to the plot. You can show that this line corresponds to a random classifier. So any serious model should give a ROC curve (much) above the horizontal line. This also implies that a classifier should display AUC (much) bigger than 0.5.\n",
    "\n",
    "\n",
    "Below we show different way to plot the ROC curve."
   ]
  },
  {
   "cell_type": "code",
   "execution_count": 223,
   "metadata": {},
   "outputs": [
    {
     "data": {
      "image/png": "[encoded data removed]",
      "text/plain": [
       "<Figure size 360x360 with 1 Axes>"
      ]
     },
     "metadata": {
      "needs_background": "light"
     },
     "output_type": "display_data"
    }
   ],
   "source": [
    "# Scikit-learn offers an easy-to-use function to produce a ROC curve. \n",
    "metrics.plot_roc_curve(log, x_test, y_test)\n",
    "plt.title('ROC curve of logit model on train')\n",
    "plt.plot([0, 1], [0, 1], \"r--\");  # the random benchmark we need to add manually"
   ]
  },
  {
   "cell_type": "markdown",
   "metadata": {},
   "source": [
    "If you want a little more control, for example to depict the training and test set results in one chart, you can proceed as follows: "
   ]
  },
  {
   "cell_type": "code",
   "execution_count": 36,
   "metadata": {},
   "outputs": [],
   "source": [
    "# Example how to 'manually' plot the ROC curve\n",
    "yhat_logit = log.predict_proba(x_test)[:, 1]"
   ]
  },
  {
   "cell_type": "code",
   "execution_count": 37,
   "metadata": {},
   "outputs": [
    {
     "data": {
      "image/png": "[encoded data removed]",
      "text/plain": [
       "<Figure size 360x360 with 1 Axes>"
      ]
     },
     "metadata": {
      "needs_background": "light"
     },
     "output_type": "display_data"
    }
   ],
   "source": [
    "fpr, tpr, _ = metrics.roc_curve(y_test, yhat_logit)  # extracting FPR and TPR for the test set\n",
    "fpr_tr, tpr_tr, _ = metrics.roc_curve(y_train, log.predict_proba(x_train)[:, 1])  # same for the training set\n",
    "\n",
    "# Compute AUC\n",
    "auc = metrics.auc(fpr, tpr) \n",
    "auc_tr = metrics.auc(fpr_tr, tpr_tr)\n",
    "\n",
    "# ROC curve:\n",
    "# Test data\n",
    "plt.plot(fpr, tpr, \"b\", label=\"Test Set = %0.4f\" % auc)\n",
    "# Training data\n",
    "plt.plot(fpr_tr, tpr_tr, \"b\", label=\"Train Set= %0.4f\" % auc_tr, color='green')\n",
    "# Random benchmark\n",
    "plt.legend(loc=\"lower right\")\n",
    "# Plot configuration\n",
    "plt.title('ROC curve of logit model on training and test Set')\n",
    "plt.ylabel(\"True Positive Rate\")\n",
    "plt.xlabel(\"False Positive Rate\")\n",
    "plt.show()"
   ]
  },
  {
   "cell_type": "code",
   "execution_count": 38,
   "metadata": {},
   "outputs": [
    {
     "data": {
      "text/plain": [
       "{'logit': 0.8226520962211382}"
      ]
     },
     "execution_count": 38,
     "metadata": {},
     "output_type": "execute_result"
    }
   ],
   "source": [
    "# Since we are about to compute many models, let's keep track of auc results using a dictionary\n",
    "auc_trace = {'logit':auc}\n",
    "auc_trace"
   ]
  },
  {
   "cell_type": "markdown",
   "metadata": {},
   "source": [
    "#### Cross-validation (model simulation)\n",
    "\n",
    "Cross validation is an extendend approach of the split sample method. It consists of repeating the split sample method multiple times.\n",
    "\n",
    "Step by step:\n",
    "- Randomly split data in N disjoint folds (E.g., N=5) \n",
    "- Build model on N-1 folds and validate that model on thw remaining fold \n",
    "- Apply trained model to predict cases in the validation sample (hold-out data) \n",
    "- Measure model performance \n",
    "- Repeat N times and average \n",
    "- Average model performance over validation folds gives performance estimate \n",
    "- Can also estimate standard deviation (e.g., for statistical hypothesis testing)\n",
    "\n",
    "The following example is rather detailed and meant to show you the intermediate steps in a cross-validation process. Later, we will simplify cross-validation using convenience functions of sklearn."
   ]
  },
  {
   "cell_type": "code",
   "execution_count": 39,
   "metadata": {},
   "outputs": [
    {
     "name": "stdout",
     "output_type": "stream",
     "text": [
      "Cross-validating the logit model:\n",
      "\tCV iter: 0 with AUC=0.8464315238357675\n",
      "Average AUC on test set during cross-validation: 0.8464\n",
      "\tCV iter: 1 with AUC=0.8151832460732985\n",
      "Average AUC on test set during cross-validation: 0.8308\n",
      "\tCV iter: 2 with AUC=0.8208597409754754\n",
      "Average AUC on test set during cross-validation: 0.8275\n",
      "\tCV iter: 3 with AUC=0.7904932488288784\n",
      "Average AUC on test set during cross-validation: 0.8182\n",
      "\tCV iter: 4 with AUC=0.792835491871039\n",
      "Average AUC on test set during cross-validation: 0.8132\n",
      "\tCV iter: 5 with AUC=0.7609809864976577\n",
      "Average AUC on test set during cross-validation: 0.8045\n",
      "\tCV iter: 6 with AUC=0.7884541195921742\n",
      "Average AUC on test set during cross-validation: 0.8022\n",
      "\tCV iter: 7 with AUC=0.7647010195646183\n",
      "Average AUC on test set during cross-validation: 0.7975\n",
      "\tCV iter: 8 with AUC=0.7909103467329741\n",
      "Average AUC on test set during cross-validation: 0.7968\n",
      "\tCV iter: 9 with AUC=0.8168807846387622\n",
      "Average AUC on test set during cross-validation: 0.7988\n"
     ]
    },
    {
     "data": {
      "image/png": "[encoded data removed]",
      "text/plain": [
       "<Figure size 864x864 with 1 Axes>"
      ]
     },
     "metadata": {
      "needs_background": "light"
     },
     "output_type": "display_data"
    }
   ],
   "source": [
    "from sklearn.model_selection import StratifiedKFold\n",
    "\n",
    "# Setup cross-validation and data structures to store results\n",
    "nfold = 10\n",
    "resultscv = list()\n",
    "cv = StratifiedKFold(n_splits=nfold)\n",
    "cv_auc_test = np.zeros(nfold)\n",
    "cv_auc_test[cv_auc_test == 0] = 'nan' #for now, to avoid 0 values to be taken into account for, help ? average\n",
    "cv_auc_train = np.zeros(nfold)\n",
    "fpr_cv = {}\n",
    "tpr_cv= {}\n",
    "thresholds = {}\n",
    "\n",
    "# Configure the plot we are about to create \n",
    "plt.figure(figsize=[12,12])\n",
    "plt.xlim([0.0, 1])\n",
    "plt.ylim([0.0, 1])\n",
    "\n",
    "print('Cross-validating the logit model:')\n",
    "for i, (tr_idx, vl_idx) in enumerate(cv.split(x_train, y_train)):\n",
    "    xtr, xvl = x_train.iloc[tr_idx], x_train.iloc[vl_idx]\n",
    "    ytr, yvl = y_train.iloc[tr_idx], y_train.iloc[vl_idx]\n",
    "    sk_logit.fit(xtr, ytr)\n",
    "    temp = sk_logit.predict_proba(xvl)[:, 1]\n",
    "    fp_rate_cv, tp_rate_cv, threshold = metrics.roc_curve(yvl, temp.astype('float'))\n",
    "    thresholds[i] = threshold\n",
    "    fpr_cv[i] = fp_rate_cv\n",
    "    tpr_cv[i] = tp_rate_cv\n",
    "    cv_auc_test[i] = metrics.auc(fp_rate_cv, tp_rate_cv)\n",
    "    print('\\tCV iter: {} with AUC={}'.format(i, cv_auc_test[i]))\n",
    "    print('Average AUC on test set during cross-validation: {:.4f}'.format(np.nanmean(cv_auc_test)))\n",
    "    \n",
    "    # Print ROC curve\n",
    "    plt.plot(fp_rate_cv,tp_rate_cv)\n",
    "    plt.plot([0, 1], [0, 1], \"r--\")\n",
    "    \n",
    "    #save training performance for evaluation\n",
    "    temp=sk_logit.predict_proba(xtr)[:, 1]\n",
    "    fp_rate, tp_rate, _ = metrics.roc_curve(ytr, temp.astype('float'))\n",
    "    cv_auc_train[i] = metrics.auc(fp_rate, tp_rate)\n",
    "\n",
    "\n",
    "mean_fp_rate_cv = pd.DataFrame(np.vstack(fp_rate_cv))\n",
    "mean_tp_rate_cv = pd.DataFrame(np.vstack(tp_rate_cv))\n",
    "\n",
    "plt.plot(mean_fp_rate_cv, mean_tp_rate_cv, color='black')    \n",
    "plt.show()"
   ]
  },
  {
   "cell_type": "code",
   "execution_count": 40,
   "metadata": {},
   "outputs": [
    {
     "name": "stdout",
     "output_type": "stream",
     "text": [
      "Avg. auc = 0.798773(0.024935)\n"
     ]
    }
   ],
   "source": [
    "auc_trace.update( {'logit_cv' : np.mean(cv_auc_test)})\n",
    "print('Avg. auc = {:f}({:f})'.format(np.mean(cv_auc_test), np.std(cv_auc_test)))"
   ]
  },
  {
   "cell_type": "markdown",
   "metadata": {},
   "source": [
    "## 4. Regularized logistic regression and grid-search\n",
    "\n",
    "Regularization is a method that aims to avoid overfitting. Complex models tend to show a high variance. Model complexity and bias are closely connected (low complexity -> high bias and vice versa). Introducing bias can help prevent overfitting, as it reduced variance. This is done by adding a complexity penatly. \n",
    "\n",
    "In a regression setting, large coefficients are indicators of complex, unstable models. Possible causes include high dimensionality and multicollinearity. The aim of the model is to minimize the magnitude the coefficients have on the model. Therefore, it is included in the loss function. \n",
    "\n",
    "$$ 𝜷←min⁡ℒ(𝜷)+𝜆||(𝜷)||{_1} $$\n",
    "\n",
    "This penatly produces sparser models, as it forces the coefficients to zero. Furthermore, we also have a new metaparameter $𝜆$ (equivalent to as 'C' in the code below), which requires tuning. Therefore, we use a grid search to identify its best setting. The higher $𝜆$ , the higher the penalty for complexity."
   ]
  },
  {
   "cell_type": "code",
   "execution_count": 41,
   "metadata": {},
   "outputs": [
    {
     "name": "stdout",
     "output_type": "stream",
     "text": [
      "Lasso test set AUC: 0.8232\n"
     ]
    }
   ],
   "source": [
    "# Trying to improve performance using regularized logit\n",
    "lasso = LogisticRegression(penalty='l1', C=0.1, fit_intercept=True, max_iter=200, solver='liblinear')\n",
    "lasso.fit(x_train, y_train)\n",
    "fp_rate, tp_rate, _ = metrics.roc_curve(y_test, lasso.predict_proba(x_test)[:, 1])\n",
    "auc_trace.update( {'lasso' : metrics.auc(fp_rate, tp_rate)} )\n",
    "print('Lasso test set AUC: {:.4f}'.format(auc_trace['lasso'] ))"
   ]
  },
  {
   "cell_type": "markdown",
   "metadata": {},
   "source": [
    "#### Meta-parameter tuning\n",
    "\n",
    "Meta-paramters are those that we have to choose before building a model, just as the complexity meta-parameter in the regularized logistic regression. Different learners exhibit different meta-parameters. Tuning (some of) these is often beneficial and grid-search is a versatile approach to do so. Grid-search specifies different values for each meta-parameter and evaluating all possible combinations of meta-parameters in the search grid.\n",
    "Let's try to improve the LASSO model by tuning its meta-parameter."
   ]
  },
  {
   "cell_type": "code",
   "execution_count": 42,
   "metadata": {},
   "outputs": [
    {
     "name": "stdout",
     "output_type": "stream",
     "text": [
      "Grid-searching regularization parameter\n",
      "Lasso test set AUC with best paramter: 0.8242\n"
     ]
    }
   ],
   "source": [
    "# Try finding a better setting for penalty parameter C using grid search\n",
    "from sklearn.model_selection import GridSearchCV\n",
    "\n",
    "penalty_settings = {'C': [0.001, 0.003, 0.005, 0.01, 0.03, 0.05, 0.1, 0.3, 0.5, 1, 2, 3, 3, 4, 5, 10, 20, 22, 24, 26, 28, 30, 32, 34, 36]}\n",
    "print('Grid-searching regularization parameter')\n",
    "gs_lasso = GridSearchCV(lasso, penalty_settings, scoring='roc_auc', refit=True, cv=nfold)\n",
    "gs_lasso.fit(x_train, y_train)\n",
    "\n",
    "# Find test set auc of the best lasso model\n",
    "fp_rate, tp_rate, _ = metrics.roc_curve(y_test, gs_lasso.predict_proba(x_test)[:, 1])\n",
    "auc_trace.update( {'lasso_gs' : metrics.auc(fp_rate, tp_rate)} )\n",
    "print('Lasso test set AUC with best paramter: {:.4f}'.format(auc_trace['lasso_gs']))"
   ]
  },
  {
   "cell_type": "code",
   "execution_count": 250,
   "metadata": {},
   "outputs": [
    {
     "data": {
      "text/plain": [
       "{'C': 3}"
      ]
     },
     "execution_count": 250,
     "metadata": {},
     "output_type": "execute_result"
    }
   ],
   "source": [
    "# Which was the best penalty?\n",
    "gs_lasso.best_params_"
   ]
  },
  {
   "cell_type": "markdown",
   "metadata": {},
   "source": [
    "## 5. Ensemble learning using Random Forest and XGB\n",
    "Both regularized regression show a slight improvement in our predictions. But can we do more?\n",
    "\n",
    "\n",
    "\n",
    "### Random Forest\n",
    "\n",
    "The random forest algorithm is an ensemble algorithm. It uses many base models (decision trees) and predicts the target variable by averaging their predictions. The base model trees are grown from bootstrap samples of the training set(random samples with replacement) and different random sample of attributes (random subspace). This means instead of using all observations and features in our data, we build a variety of models on smaller subsets of both the data AND the attributes. This allows the algorithms to pick up on more rules, as it forces models to find rules only based on the given subset of attributes. This way we might discover rules that a normal model would overshadow. This happens when one attribute has a high impact on the outcome variable.\n",
    "\n",
    "<br>\n",
    "\n",
    "#### Meta-parameters in our grid search\n",
    "Random forest is often considered robust toward meta-parameter settings. Still, some tuning may be beneficial. We consider the following meta-parameters. \n",
    "<br>\n",
    "n_estimators: number of trees(models) in forest (ensemble)<br>\n",
    "max_features : maximum features in random subspace<br>\n",
    "\n",
    "There are a couple of more meta-parameters. Normally, you would not need to tune them but for the sake of completeness, here are some more meta-parameters:<br> <br>\n",
    "min_samples_split: minimum number of samples required in leaf node before another split is made. If it is less, this node wont split.<br>\n",
    "min_samples_leaf: minimum number of samples required to be at a leaf node.<br>\n",
    "max_leaf_nodes: maximum number of leaf nodes in a tree<br>\n",
    "criterion: splitting function to use, e.g. gini coefficient<br>\n",
    "max_depth: pruning parameter, maximum depth of decision tree<br>\n",
    "n_jobs: parallelization of model building<br>\n",
    "random_state:\n",
    "This parameter is used to define the random selection.\n",
    "It is used for comparison between various models.<br><br>\n",
    "\n",
    "If meta-parameters are not specified, they will be set to their default. \n",
    "\n",
    "**Remark**: Tuning RF might take a while. If you want to speed things up, consider setting the meta-parameter *max_samples*. It allows you to control the size of the bootstrap sample from which each tree is grown. Read the documentation for more information. Smaller sample sizes accelerate the training."
   ]
  },
  {
   "cell_type": "code",
   "execution_count": 43,
   "metadata": {},
   "outputs": [
    {
     "name": "stdout",
     "output_type": "stream",
     "text": [
      "Tuning random forest classifier\n",
      "Fitting 5 folds for each of 9 candidates, totalling 45 fits\n"
     ]
    },
    {
     "name": "stderr",
     "output_type": "stream",
     "text": [
      "[Parallel(n_jobs=1)]: Using backend SequentialBackend with 1 concurrent workers.\n",
      "[Parallel(n_jobs=1)]: Done  45 out of  45 | elapsed:  1.0min finished\n"
     ]
    },
    {
     "name": "stdout",
     "output_type": "stream",
     "text": [
      "Best CV AUC: 0.9780\n",
      "Optimal RF meta-parameters:\n",
      "{'max_features': 1, 'n_estimators': 500}\n",
      "RF test set AUC: 0.9850\n"
     ]
    }
   ],
   "source": [
    "from sklearn.ensemble import RandomForestClassifier\n",
    "# Performance of tree-based ensemble algorithms in the form of random forest\n",
    "\n",
    "print('Tuning random forest classifier')\n",
    "rf = RandomForestClassifier(random_state=123, max_samples = 0.5)  # This way, bootstrap sample size will be 50% of the training set\n",
    "\n",
    "# Define meta-parameter grid of candidate settings\n",
    "# The following settings are just for illustration\n",
    "param_grid = {'n_estimators': [100, 200, 500],\n",
    "              'max_features': [1, 2, 4]\n",
    "              }\n",
    "\n",
    "# Set up the grid object specifying the tuning options\n",
    "gs_rf = GridSearchCV(rf, param_grid, cv=5, scoring='roc_auc', verbose=1)\n",
    "gs_rf.fit(x_train, y_train)\n",
    "print(\"Best CV AUC: %0.4f\" % gs_rf.best_score_)\n",
    "print(\"Optimal RF meta-parameters:\")\n",
    "print(gs_rf.best_params_)\n",
    "\n",
    "# Find test set auc of the best random forest classifier\n",
    "fp_rate, tp_rate, _ = metrics.roc_curve(y_test, gs_rf.predict_proba(x_test)[:, 1])\n",
    "auc_trace.update( {'rf' : metrics.auc(fp_rate, tp_rate)}) \n",
    "print('RF test set AUC: {:.4f}'.format(auc_trace['rf']))\n"
   ]
  },
  {
   "cell_type": "markdown",
   "metadata": {},
   "source": [
    "You should see some quite impressive AUC value. Let's plot the ROC curve to appreciate the power of our RF. This also shows how to access the final model from the grid-search results."
   ]
  },
  {
   "cell_type": "code",
   "execution_count": 44,
   "metadata": {},
   "outputs": [
    {
     "data": {
      "image/png": "[encoded data removed]",
      "text/plain": [
       "<Figure size 360x360 with 1 Axes>"
      ]
     },
     "metadata": {
      "needs_background": "light"
     },
     "output_type": "display_data"
    }
   ],
   "source": [
    "# The plot is not new but note the use of gs_rf.best_estimator_ \n",
    "metrics.plot_roc_curve(gs_rf.best_estimator_, x_test, y_test)\n",
    "plt.plot([0, 1], [0, 1], \"r--\");"
   ]
  },
  {
   "cell_type": "markdown",
   "metadata": {},
   "source": [
    "# XGBoost\n",
    "\n",
    "\n",
    "XGBoost (Extreme Gradient Boosting) is a state-of-the-art algorithm. It builds an ensemble iteratively by fitting weak learners (typically shallow trees) to correct the errors of the current models. Error correction is implemented via gradient descent. As such, the learning rate is one out of several meta-parameters we need to consider when building an XGB classifier.\n",
    "\n",
    "Note that different implementations of XGB are available in Python. We demonstrate XGB using the *xgboost* library, which is very popular. Using the scikit-learn version is simpler but might not incorporate all the features of XGB. "
   ]
  },
  {
   "cell_type": "code",
   "execution_count": 46,
   "metadata": {},
   "outputs": [
    {
     "name": "stdout",
     "output_type": "stream",
     "text": [
      "Fitting 5 folds for each of 40 candidates, totalling 200 fits\n"
     ]
    },
    {
     "name": "stderr",
     "output_type": "stream",
     "text": [
      "[Parallel(n_jobs=1)]: Using backend SequentialBackend with 1 concurrent workers.\n",
      "[Parallel(n_jobs=1)]: Done 200 out of 200 | elapsed:  3.1min finished\n"
     ]
    },
    {
     "name": "stdout",
     "output_type": "stream",
     "text": [
      "Best CV AUC: 0.9610\n",
      "Optimal XGB meta-parameters:\n",
      "{'colsample_bytree': 0.5, 'early_stopping_rounds': 10, 'learning_rate': 0.1, 'max_depth': 10, 'n_estimators': 100}\n",
      "XGB test set AUC with optimal meta-parameters: 0.9652\n"
     ]
    }
   ],
   "source": [
    "import xgboost as xgb\n",
    "    \n",
    "# XGBoost module recommends storing data in a different manner\n",
    "#DM_train = xgb.DMatrix(data=x_train, label=y_train)\n",
    "#DM_test = xgb.DMatrix(data=x_test, label=y_test)\n",
    "\n",
    "# Setting up the grid of meta-parameters\n",
    "xgb_param_grid = {\n",
    "    'colsample_bytree': np.linspace(0.5, 0.9, 5),  # random subspace\n",
    "    'n_estimators': [100, 200],  # ensemble size or number of gradient steps\n",
    "    'max_depth': [5, 10],   # max depth of decision trees\n",
    "    'learning_rate': [0.1, 0.01],  # learning rate\n",
    "    'early_stopping_rounds': [10]}  # early stopping if no improvement after that many iterations\n",
    "\n",
    "gs_xgb = GridSearchCV(estimator=xgb.XGBClassifier(), param_grid=xgb_param_grid, scoring='roc_auc', cv=5, verbose=1)\n",
    "gs_xgb.fit(x_train, y_train)\n",
    "print(\"Best CV AUC: %0.4f\" % gs_xgb.best_score_)\n",
    "print(\"Optimal XGB meta-parameters:\")\n",
    "print(gs_xgb.best_params_)\n",
    "\n",
    "# Find test set auc of the best random forest classifier\n",
    "fp_rate, tp_rate, _ = metrics.roc_curve(y_test, gs_xgb.predict_proba(x_test)[:, 1])\n",
    "auc_trace.update( {'xgb' : metrics.auc(fp_rate, tp_rate)})\n",
    "print('XGB test set AUC with optimal meta-parameters: {:.4f}'.format( auc_trace['xgb'] ))"
   ]
  },
  {
   "cell_type": "markdown",
   "metadata": {},
   "source": [
    "The XGB models completes our journey through the space of learning algorithms. We have covered the maybe most important learners; of course albeit neural networks, which will be our focus in many subsequent tutorials. Let's have a final look at the AUC results we obtained:"
   ]
  },
  {
   "cell_type": "code",
   "execution_count": 47,
   "metadata": {},
   "outputs": [
    {
     "data": {
      "text/plain": [
       "{'logit': 0.8226520962211382,\n",
       " 'logit_cv': 0.7987730508610645,\n",
       " 'lasso': 0.8231965122252127,\n",
       " 'lasso_gs': 0.8241755829422173,\n",
       " 'rf': 0.9850307551137785,\n",
       " 'xgb': 0.9652451847721575}"
      ]
     },
     "execution_count": 47,
     "metadata": {},
     "output_type": "execute_result"
    }
   ],
   "source": [
    "auc_trace"
   ]
  },
  {
   "cell_type": "markdown",
   "metadata": {},
   "source": [
    "The AUC results justify two conclusions. First, the data exhibits a strong signal. This follows from the overall high level of AUC performance. The remarkable differences between linear and nonlinear classifiers further suggests that the feature-response relationship is nonlinear. To shed some light on this relationship, the last part of the tutorial revisits two popular approaches in the scope of interpretable machine learning, permutation-based feature importance and partial dependence.  "
   ]
  },
  {
   "cell_type": "markdown",
   "metadata": {},
   "source": [
    "## 6. Feature importance analysis and model diagnosis\n",
    "\n",
    "Interpretability of machine learning models is a big topic, because usually, the more complicated the model, the harder it will be to understand how our final predictions are computed. Especially for so called black-box models, methods have been develop to understand the importance of specific features in these models. \n",
    "\n",
    "### Permutation-based feature importance\n",
    "\n",
    "Permuation-based feature importance is a learner-agnostic way to judge the relevance of features. It produces an ordinal feature ranking. In order to do this, we permute one variable by shuffling its values across all observations. This means, each observation will receive a new value. This permutation breaks the relationship to the target variable. Then we make an assumption: the higher the increase of the error due to the permutation, the more important this variable was in building the model. This way we can compute a ranking. \n",
    "\n",
    "Let's give it a try using our Random Forest model."
   ]
  },
  {
   "cell_type": "code",
   "execution_count": 257,
   "metadata": {},
   "outputs": [
    {
     "name": "stdout",
     "output_type": "stream",
     "text": [
      "Computing permutation-based feature importance...\n"
     ]
    },
    {
     "data": {
      "image/png": "[encoded data removed]",
      "text/plain": [
       "<Figure size 1440x720 with 1 Axes>"
      ]
     },
     "metadata": {
      "needs_background": "light"
     },
     "output_type": "display_data"
    }
   ],
   "source": [
    "plt.rcParams['figure.figsize'] = 20, 10\n",
    "\n",
    "# Permutation-based feature importance\n",
    "print('Computing permutation-based feature importance...')\n",
    "from sklearn.inspection import permutation_importance\n",
    "\n",
    "classifier = gs_rf.best_estimator_\n",
    "\n",
    "perm_imp = permutation_importance(classifier, x_test, y_test, scoring='roc_auc', random_state=123)\n",
    "sorted_idx = perm_imp.importances_mean.argsort()\n",
    "\n",
    "fig, ax = plt.subplots()\n",
    "ax.boxplot(perm_imp.importances[sorted_idx].T,\n",
    "           vert=False, labels=x_test.columns[sorted_idx])\n",
    "ax.set_title(\"Permutation importance (test set) of {}\".format(str(classifier)[0:str(classifier).find('(')]))\n",
    "fig.tight_layout()\n",
    "plt.show()\n"
   ]
  },
  {
   "cell_type": "markdown",
   "metadata": {},
   "source": [
    "The result agrees with domain knowledge. The debt-to-income ration proves very important. RF devotes much attention to this feature so that permuting it increases the prediction error. High importance of the number of delinquent credit lines (DELINQ) also makes sense. For CLAGE, the age of the oldest credit line in months it is maybe less obvious how it affects the target. Specifically, it would be useful to check whether high/lower values in this feature are associated with higher/lower default probability. We do not get such insight from permutation-based feature importance analysis. But partial-dependence should give as an answer.\n",
    "\n",
    "### Partial dependence plot (PDP)\n",
    "A PDP shows what type of effect a feature has on predicted probabilities. A PDP plots the values of a chosen variable (on the x-axis) against model-estimated probabilities (on the y-axis) whilst acconding for the combined effect of all other features. "
   ]
  },
  {
   "cell_type": "code",
   "execution_count": 49,
   "metadata": {},
   "outputs": [
    {
     "name": "stdout",
     "output_type": "stream",
     "text": [
      "Computing partial dependence plots...\n"
     ]
    },
    {
     "data": {
      "image/png": "[encoded data removed]",
      "text/plain": [
       "<Figure size 1440x2880 with 19 Axes>"
      ]
     },
     "metadata": {
      "needs_background": "light"
     },
     "output_type": "display_data"
    }
   ],
   "source": [
    "plt.rcParams['figure.figsize'] = 20,40\n",
    "# Partial dependence\n",
    "from sklearn.inspection import plot_partial_dependence\n",
    "classifier = gs_rf.best_estimator_\n",
    "print('Computing partial dependence plots...')\n",
    "features = x_train.columns\n",
    "plot_partial_dependence(classifier, x_train, features, n_jobs=3, grid_resolution=20)\n",
    "\n",
    "fig = plt.gcf()\n",
    "fig.suptitle('Partial dependence')\n",
    "fig.subplots_adjust(wspace=0.4, hspace=0.3)\n",
    "plt.show()\n"
   ]
  },
  {
   "cell_type": "markdown",
   "metadata": {},
   "source": [
    "Coming back to the question how CLAGE affects the PD estimates, we now have a clear answer. Higher values decrease PDs. That makes sense because high values indicate that a client has been with the bank for a longer time. We would expect such customers to be less likely to default compared to newer customers. \n",
    "\n",
    "As a cautionary remark, always make sure to know what exactely the y-axis is showing, the probability of being a good or a bad customer. In a binary classification setting, scikit-learn considers the class with the higher value the positive class. Here, BAD is a boolean variable. The class labels are stored as either true or false, which, when converted to an integer translates into 1 or zero."
   ]
  },
  {
   "cell_type": "code",
   "execution_count": 265,
   "metadata": {},
   "outputs": [
    {
     "data": {
      "text/plain": [
       "0     True\n",
       "1     True\n",
       "2     True\n",
       "3     True\n",
       "4    False\n",
       "Name: BAD, dtype: bool"
      ]
     },
     "execution_count": 265,
     "metadata": {},
     "output_type": "execute_result"
    }
   ],
   "source": [
    "y.head(5)"
   ]
  },
  {
   "cell_type": "code",
   "execution_count": 266,
   "metadata": {},
   "outputs": [
    {
     "data": {
      "text/plain": [
       "0    1\n",
       "1    1\n",
       "2    1\n",
       "3    1\n",
       "4    0\n",
       "Name: BAD, dtype: int32"
      ]
     },
     "execution_count": 266,
     "metadata": {},
     "output_type": "execute_result"
    }
   ],
   "source": [
    "y.astype(int).head(5)"
   ]
  },
  {
   "cell_type": "markdown",
   "metadata": {},
   "source": [
    "So the class encoded by True, that is the bad risks, or considered the positive class and their estimated probability is shown on the y-axis of the above PDP."
   ]
  }
 ],
 "metadata": {
  "kernelspec": {
   "display_name": "Python 3",
   "language": "python",
   "name": "python3"
  },
  "language_info": {
   "codemirror_mode": {
    "name": "ipython",
    "version": 3
   },
   "file_extension": ".py",
   "mimetype": "text/x-python",
   "name": "python",
   "nbconvert_exporter": "python",
   "pygments_lexer": "ipython3",
   "version": "3.9.4"
  }
 },
 "nbformat": 4,
 "nbformat_minor": 4
}
