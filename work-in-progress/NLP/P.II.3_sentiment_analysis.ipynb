{
 "cells": [
  {
   "cell_type": "markdown",
   "metadata": {
    "id": "hp-501zfUwqz"
   },
   "source": [
    "# VHB ProDok Course on Machine Learning"
   ]
  },
  {
   "cell_type": "markdown",
   "metadata": {
    "id": "6XEKlH8WUwq2"
   },
   "source": [
    "## P.II.3 Prediction of online review sentiment\n",
    "\n",
    "Sentiment analysis is one of the most popular applications for text classification. It is also interesting from a business perspective. For example, many companies have an interest in analyzing text data emerging in social media to understand how consumers value their products, service, brands, etc.\n",
    "\n",
    "The goal of sentiment analysis is to model the polarity of a piece of text, whether it is rather positive or rather negative. We can frame this task as a binary classification problem, with labels of one and zero indicating positive or negative sentiment, respectively. That is the approach we will take today. Other options  could involve modeling a three-level target (positive, neutral, negative) or a numeric target variable the values of which represent different strengths of polarity (e.g., between +5 and -5). Whenever approaching the sentiment analysis task by supervised learning, we depend on having some data with sentiment labels. That is often the real challenge in practice — where do the labels come from? — and explains why many labeled data sets re-occur in papers.\n",
    "\n",
    "We will look at the preprocessed movie review data set, that we used in the last coding session P.II.2. Originally gathered and studied by Maas et al. (https://www.aclweb.org/anthology/P11-1015), the data set is used in numerous papers on sentiment analysis. In fact, it is so popular that it is part of the [`Keras` data set collection](https://keras.io/api/datasets/) and also used in official demo codes available in the `Keras` documentation. While we could use the [`Keras` version of the data](https://keras.io/examples/nlp/bidirectional_lstm_imdb/), which is the easiest approach to start working with it, we have already invested a lot of time into cleaning and preparing the IMDB reviews in the last session. Therefore, we will stick to our own version of the data. \n",
    "\n",
    "We will apply different modeling approaches to predict review sentiment, from a simple dictionary-based approach over conventional supervised machine learning to several deep learning techniques. Here is the outline of the session.\n",
    " \n",
    " \n",
    " 1. [Preliminaries](#prelim)<br>\n",
    " 2. [Dictionary-based sentiment analysis](#lexi)<br>\n",
    " 3. [Text data representation](#rep)<br>\n",
    " 4. [Sentiment classifiers](#senti)<br>\n",
    "    4.1 [Linear model](#lasso)<br>\n",
    "    4.2 [Deep learning-based models](#pB) \n",
    "        4.2.1 Feed-forward neural network \n",
    "        4.2.2 Recurrent neural network based on GRU \n",
    "        4.2.3 GRU with pre-trained IMDB embedding \n",
    "        4.2.4 GRU with pre-trained GloVe embedding \n",
    "        4.2.5 Bidirectional GRU with pre-trained GloVe embedding \n",
    "\n",
    "Let's get started."
   ]
  },
  {
   "cell_type": "markdown",
   "metadata": {
    "id": "XcYRQjQBUwq4"
   },
   "source": [
    "<a id=\"prelim\"></a>"
   ]
  },
  {
   "cell_type": "markdown",
   "metadata": {
    "id": "EIszWmp_Uwq6"
   },
   "source": [
    "## 1. Preliminaries\n",
    "\n",
    "We reuse the data set from the [last tutorial](https://github.com/Humboldt-WI/adams/blob/master/exercises/Ex10_word2vec/Ex10_word2vec.ipynb). To set up our environment we load the IMDB 50K review data set and also the list of cleaned reviews. We then add the cleaned reviews to the data set to have everything in one place. It is a good idea to examine a few reviews and make sure that the original version and the cleaned version match. Ones this is confirmed, you can safely discard the raw review text to save memory. Finally, we update the coding of our target variable and encode positive and negative reviews as one and zero, respectively.  \n",
    "\n",
    "The notebook sets a new milestone in terms of demand for computational resources. We recommend running the notebook  in **Colab or another cloud-based platform of your choice**.  "
   ]
  },
  {
   "cell_type": "code",
   "execution_count": 1,
   "metadata": {
    "executionInfo": {
     "elapsed": 955,
     "status": "ok",
     "timestamp": 1649248764498,
     "user": {
      "displayName": "Georg B",
      "userId": "16990759077565939430"
     },
     "user_tz": -120
    },
    "id": "CQhKjNXCUwq7"
   },
   "outputs": [],
   "source": [
    "# Import standard libraries\n",
    "import pandas as pd\n",
    "import numpy as np\n",
    "import time\n",
    "import matplotlib.pyplot as plt"
   ]
  },
  {
   "cell_type": "code",
   "execution_count": 143,
   "metadata": {
    "colab": {
     "base_uri": "https://localhost:8080/"
    },
    "executionInfo": {
     "elapsed": 2030,
     "status": "ok",
     "timestamp": 1649252392694,
     "user": {
      "displayName": "Georg B",
      "userId": "16990759077565939430"
     },
     "user_tz": -120
    },
    "id": "60p3_IyJXfnZ",
    "outputId": "5a96fca4-95b5-43c8-f4a8-a8f3925a50b7"
   },
   "outputs": [
    {
     "name": "stdout",
     "output_type": "stream",
     "text": [
      "Drive already mounted at /content/drive; to attempt to forcibly remount, call drive.mount(\"/content/drive\", force_remount=True).\n"
     ]
    }
   ],
   "source": [
    "# Create a global variable to idicate whether the notebook is run in Colab\n",
    "import sys\n",
    "IN_COLAB = 'google.colab' in sys.modules\n",
    "\n",
    "# Configure variables pointing to directories and stored files \n",
    "if IN_COLAB:\n",
    "    # Mount Google-Drive\n",
    "    from google.colab import drive\n",
    "    drive.mount('/content/drive')\n",
    "    DATA_DIR = '/content/drive/My Drive/ProDok/'  # adjust to Google drive folder with the data if applicable\n",
    "else:\n",
    "    DATA_DIR = './' # adjust to the directory where data is stored on your machine (if running the notebook locally)\n",
    "\n",
    "sys.path.append(DATA_DIR)\n",
    "\n",
    "CLEAN_REVIEW = DATA_DIR + 'imdb_clean_full_v2.pkl'   # List with tokenized reviews after standard NLP preparation\n",
    "IMBD_EMBEDDINGS = DATA_DIR + 'w2v_imdb_dim50_embeddings.model'\n",
    "GLOVE_EMBEDDINGS = DATA_DIR + 'glove.6B.50d.txt'"
   ]
  },
  {
   "cell_type": "markdown",
   "metadata": {
    "id": "4rmnnwM3UwrE"
   },
   "source": [
    "### Loading the data\n",
    "We load the data frame with the original and cleaned reviews. The original version does not matter for this session. We will delete them to save memory. "
   ]
  },
  {
   "cell_type": "code",
   "execution_count": 102,
   "metadata": {
    "colab": {
     "base_uri": "https://localhost:8080/"
    },
    "executionInfo": {
     "elapsed": 581,
     "status": "ok",
     "timestamp": 1649251541851,
     "user": {
      "displayName": "Georg B",
      "userId": "16990759077565939430"
     },
     "user_tz": -120
    },
    "id": "eP6mlAonUwrF",
    "outputId": "e8d45569-5eb4-4c76-b88c-8bc2a1641f85"
   },
   "outputs": [
    {
     "name": "stdout",
     "output_type": "stream",
     "text": [
      "<class 'pandas.core.frame.DataFrame'>\n",
      "RangeIndex: 50000 entries, 0 to 49999\n",
      "Data columns (total 3 columns):\n",
      " #   Column        Non-Null Count  Dtype \n",
      "---  ------        --------------  ----- \n",
      " 0   review        50000 non-null  object\n",
      " 1   sentiment     50000 non-null  object\n",
      " 2   review_clean  50000 non-null  object\n",
      "dtypes: object(3)\n",
      "memory usage: 1.1+ MB\n"
     ]
    }
   ],
   "source": [
    "import pickle\n",
    "with open(CLEAN_REVIEW,'rb') as path_name:\n",
    "    df = pickle.load(path_name)\n",
    "df.info()"
   ]
  },
  {
   "cell_type": "code",
   "execution_count": 103,
   "metadata": {
    "colab": {
     "base_uri": "https://localhost:8080/",
     "height": 206
    },
    "executionInfo": {
     "elapsed": 231,
     "status": "ok",
     "timestamp": 1649251543101,
     "user": {
      "displayName": "Georg B",
      "userId": "16990759077565939430"
     },
     "user_tz": -120
    },
    "id": "r0FiXQGCUwrL",
    "outputId": "0be4e472-f42a-4999-cc9c-b41648d98a6f",
    "tags": []
   },
   "outputs": [
    {
     "data": {
      "text/html": [
       "\n",
       "  <div id=\"df-950a39de-dc62-49dd-a871-f03a16304cba\">\n",
       "    <div class=\"colab-df-container\">\n",
       "      <div>\n",
       "<style scoped>\n",
       "    .dataframe tbody tr th:only-of-type {\n",
       "        vertical-align: middle;\n",
       "    }\n",
       "\n",
       "    .dataframe tbody tr th {\n",
       "        vertical-align: top;\n",
       "    }\n",
       "\n",
       "    .dataframe thead th {\n",
       "        text-align: right;\n",
       "    }\n",
       "</style>\n",
       "<table border=\"1\" class=\"dataframe\">\n",
       "  <thead>\n",
       "    <tr style=\"text-align: right;\">\n",
       "      <th></th>\n",
       "      <th>review</th>\n",
       "      <th>sentiment</th>\n",
       "      <th>review_clean</th>\n",
       "    </tr>\n",
       "  </thead>\n",
       "  <tbody>\n",
       "    <tr>\n",
       "      <th>0</th>\n",
       "      <td>One of the other reviewers has mentioned that ...</td>\n",
       "      <td>positive</td>\n",
       "      <td>one reviewer mention watch oz episode hooked r...</td>\n",
       "    </tr>\n",
       "    <tr>\n",
       "      <th>1</th>\n",
       "      <td>A wonderful little production. &lt;br /&gt;&lt;br /&gt;The...</td>\n",
       "      <td>positive</td>\n",
       "      <td>wonderful little production film technique una...</td>\n",
       "    </tr>\n",
       "    <tr>\n",
       "      <th>2</th>\n",
       "      <td>I thought this was a wonderful way to spend ti...</td>\n",
       "      <td>positive</td>\n",
       "      <td>thought wonderful way spend time hot summer we...</td>\n",
       "    </tr>\n",
       "    <tr>\n",
       "      <th>3</th>\n",
       "      <td>Basically there's a family where a little boy ...</td>\n",
       "      <td>negative</td>\n",
       "      <td>basically family little boy jake think zombie ...</td>\n",
       "    </tr>\n",
       "    <tr>\n",
       "      <th>4</th>\n",
       "      <td>Petter Mattei's \"Love in the Time of Money\" is...</td>\n",
       "      <td>positive</td>\n",
       "      <td>petter love time money visually stun film watc...</td>\n",
       "    </tr>\n",
       "  </tbody>\n",
       "</table>\n",
       "</div>\n",
       "      <button class=\"colab-df-convert\" onclick=\"convertToInteractive('df-950a39de-dc62-49dd-a871-f03a16304cba')\"\n",
       "              title=\"Convert this dataframe to an interactive table.\"\n",
       "              style=\"display:none;\">\n",
       "        \n",
       "  <svg xmlns=\"http://www.w3.org/2000/svg\" height=\"24px\"viewBox=\"0 0 24 24\"\n",
       "       width=\"24px\">\n",
       "    <path d=\"M0 0h24v24H0V0z\" fill=\"none\"/>\n",
       "    <path d=\"M18.56 5.44l.94 2.06.94-2.06 2.06-.94-2.06-.94-.94-2.06-.94 2.06-2.06.94zm-11 1L8.5 8.5l.94-2.06 2.06-.94-2.06-.94L8.5 2.5l-.94 2.06-2.06.94zm10 10l.94 2.06.94-2.06 2.06-.94-2.06-.94-.94-2.06-.94 2.06-2.06.94z\"/><path d=\"M17.41 7.96l-1.37-1.37c-.4-.4-.92-.59-1.43-.59-.52 0-1.04.2-1.43.59L10.3 9.45l-7.72 7.72c-.78.78-.78 2.05 0 2.83L4 21.41c.39.39.9.59 1.41.59.51 0 1.02-.2 1.41-.59l7.78-7.78 2.81-2.81c.8-.78.8-2.07 0-2.86zM5.41 20L4 18.59l7.72-7.72 1.47 1.35L5.41 20z\"/>\n",
       "  </svg>\n",
       "      </button>\n",
       "      \n",
       "  <style>\n",
       "    .colab-df-container {\n",
       "      display:flex;\n",
       "      flex-wrap:wrap;\n",
       "      gap: 12px;\n",
       "    }\n",
       "\n",
       "    .colab-df-convert {\n",
       "      background-color: #E8F0FE;\n",
       "      border: none;\n",
       "      border-radius: 50%;\n",
       "      cursor: pointer;\n",
       "      display: none;\n",
       "      fill: #1967D2;\n",
       "      height: 32px;\n",
       "      padding: 0 0 0 0;\n",
       "      width: 32px;\n",
       "    }\n",
       "\n",
       "    .colab-df-convert:hover {\n",
       "      background-color: #E2EBFA;\n",
       "      box-shadow: 0px 1px 2px rgba(60, 64, 67, 0.3), 0px 1px 3px 1px rgba(60, 64, 67, 0.15);\n",
       "      fill: #174EA6;\n",
       "    }\n",
       "\n",
       "    [theme=dark] .colab-df-convert {\n",
       "      background-color: #3B4455;\n",
       "      fill: #D2E3FC;\n",
       "    }\n",
       "\n",
       "    [theme=dark] .colab-df-convert:hover {\n",
       "      background-color: #434B5C;\n",
       "      box-shadow: 0px 1px 3px 1px rgba(0, 0, 0, 0.15);\n",
       "      filter: drop-shadow(0px 1px 2px rgba(0, 0, 0, 0.3));\n",
       "      fill: #FFFFFF;\n",
       "    }\n",
       "  </style>\n",
       "\n",
       "      <script>\n",
       "        const buttonEl =\n",
       "          document.querySelector('#df-950a39de-dc62-49dd-a871-f03a16304cba button.colab-df-convert');\n",
       "        buttonEl.style.display =\n",
       "          google.colab.kernel.accessAllowed ? 'block' : 'none';\n",
       "\n",
       "        async function convertToInteractive(key) {\n",
       "          const element = document.querySelector('#df-950a39de-dc62-49dd-a871-f03a16304cba');\n",
       "          const dataTable =\n",
       "            await google.colab.kernel.invokeFunction('convertToInteractive',\n",
       "                                                     [key], {});\n",
       "          if (!dataTable) return;\n",
       "\n",
       "          const docLinkHtml = 'Like what you see? Visit the ' +\n",
       "            '<a target=\"_blank\" href=https://colab.research.google.com/notebooks/data_table.ipynb>data table notebook</a>'\n",
       "            + ' to learn more about interactive tables.';\n",
       "          element.innerHTML = '';\n",
       "          dataTable['output_type'] = 'display_data';\n",
       "          await google.colab.output.renderOutput(dataTable, element);\n",
       "          const docLink = document.createElement('div');\n",
       "          docLink.innerHTML = docLinkHtml;\n",
       "          element.appendChild(docLink);\n",
       "        }\n",
       "      </script>\n",
       "    </div>\n",
       "  </div>\n",
       "  "
      ],
      "text/plain": [
       "                                              review sentiment  \\\n",
       "0  One of the other reviewers has mentioned that ...  positive   \n",
       "1  A wonderful little production. <br /><br />The...  positive   \n",
       "2  I thought this was a wonderful way to spend ti...  positive   \n",
       "3  Basically there's a family where a little boy ...  negative   \n",
       "4  Petter Mattei's \"Love in the Time of Money\" is...  positive   \n",
       "\n",
       "                                        review_clean  \n",
       "0  one reviewer mention watch oz episode hooked r...  \n",
       "1  wonderful little production film technique una...  \n",
       "2  thought wonderful way spend time hot summer we...  \n",
       "3  basically family little boy jake think zombie ...  \n",
       "4  petter love time money visually stun film watc...  "
      ]
     },
     "execution_count": 103,
     "metadata": {},
     "output_type": "execute_result"
    }
   ],
   "source": [
    "df.head()"
   ]
  },
  {
   "cell_type": "code",
   "execution_count": 104,
   "metadata": {
    "colab": {
     "base_uri": "https://localhost:8080/"
    },
    "executionInfo": {
     "elapsed": 13,
     "status": "ok",
     "timestamp": 1649251543569,
     "user": {
      "displayName": "Georg B",
      "userId": "16990759077565939430"
     },
     "user_tz": -120
    },
    "id": "R6NjQdDKUwrR",
    "outputId": "e6ed13d0-6b52-4b24-f150-86dd42351483"
   },
   "outputs": [
    {
     "data": {
      "text/plain": [
       "1    25000\n",
       "0    25000\n",
       "Name: sentiment, dtype: int64"
      ]
     },
     "execution_count": 104,
     "metadata": {},
     "output_type": "execute_result"
    }
   ],
   "source": [
    "# Drop original review text\n",
    "df.drop('review', axis=1, inplace=True)\n",
    "\n",
    "# Binary-encode the target variable\n",
    "df['sentiment'] = df['sentiment'].map({'positive' : 1, 'negative': 0})\n",
    "df['sentiment'].value_counts()"
   ]
  },
  {
   "cell_type": "markdown",
   "metadata": {
    "id": "bnTIpq0XUwrV"
   },
   "source": [
    "### Downsampling the data to increase speed\n",
    "One more thing before moving on. You should decide whether you want to proceed with the full data frame (i.e., 50K reviews) or draw a random sample to decrease the runtime of the following examples. Using all the data is feasible on any descent computer but prepare for a bit of waiting when training our neural networks. Here is a little bit of code to reduce the amount of data."
   ]
  },
  {
   "cell_type": "code",
   "execution_count": 105,
   "metadata": {
    "colab": {
     "base_uri": "https://localhost:8080/",
     "height": 424
    },
    "executionInfo": {
     "elapsed": 10,
     "status": "ok",
     "timestamp": 1649251545198,
     "user": {
      "displayName": "Georg B",
      "userId": "16990759077565939430"
     },
     "user_tz": -120
    },
    "id": "k8SNWatfUwrX",
    "outputId": "4ed9af3f-b245-4fd4-fb9c-e890866cdc73"
   },
   "outputs": [
    {
     "data": {
      "text/html": [
       "\n",
       "  <div id=\"df-defb0558-4219-409f-a1b1-5922828d6c61\">\n",
       "    <div class=\"colab-df-container\">\n",
       "      <div>\n",
       "<style scoped>\n",
       "    .dataframe tbody tr th:only-of-type {\n",
       "        vertical-align: middle;\n",
       "    }\n",
       "\n",
       "    .dataframe tbody tr th {\n",
       "        vertical-align: top;\n",
       "    }\n",
       "\n",
       "    .dataframe thead th {\n",
       "        text-align: right;\n",
       "    }\n",
       "</style>\n",
       "<table border=\"1\" class=\"dataframe\">\n",
       "  <thead>\n",
       "    <tr style=\"text-align: right;\">\n",
       "      <th></th>\n",
       "      <th>sentiment</th>\n",
       "      <th>review_clean</th>\n",
       "    </tr>\n",
       "  </thead>\n",
       "  <tbody>\n",
       "    <tr>\n",
       "      <th>0</th>\n",
       "      <td>0</td>\n",
       "      <td>start watch believe character particular relat...</td>\n",
       "    </tr>\n",
       "    <tr>\n",
       "      <th>1</th>\n",
       "      <td>0</td>\n",
       "      <td>totally unfunny movie top pathetic unrealistic...</td>\n",
       "    </tr>\n",
       "    <tr>\n",
       "      <th>2</th>\n",
       "      <td>0</td>\n",
       "      <td>absolutely nothing redeem movie take sleazy st...</td>\n",
       "    </tr>\n",
       "    <tr>\n",
       "      <th>3</th>\n",
       "      <td>0</td>\n",
       "      <td>warn may contain spoiler huge problem movie to...</td>\n",
       "    </tr>\n",
       "    <tr>\n",
       "      <th>4</th>\n",
       "      <td>1</td>\n",
       "      <td>surprising majority high rat vote submit femal...</td>\n",
       "    </tr>\n",
       "    <tr>\n",
       "      <th>...</th>\n",
       "      <td>...</td>\n",
       "      <td>...</td>\n",
       "    </tr>\n",
       "    <tr>\n",
       "      <th>4995</th>\n",
       "      <td>1</td>\n",
       "      <td>ladislas curiosity insect cinema meld short fi...</td>\n",
       "    </tr>\n",
       "    <tr>\n",
       "      <th>4996</th>\n",
       "      <td>0</td>\n",
       "      <td>movie even save grace bad good truly appal clo...</td>\n",
       "    </tr>\n",
       "    <tr>\n",
       "      <th>4997</th>\n",
       "      <td>0</td>\n",
       "      <td>documentary nomadic persian make treacherous t...</td>\n",
       "    </tr>\n",
       "    <tr>\n",
       "      <th>4998</th>\n",
       "      <td>1</td>\n",
       "      <td>film move cinderella story forward early make ...</td>\n",
       "    </tr>\n",
       "    <tr>\n",
       "      <th>4999</th>\n",
       "      <td>0</td>\n",
       "      <td>imagination must slip jim wynorski mind write ...</td>\n",
       "    </tr>\n",
       "  </tbody>\n",
       "</table>\n",
       "<p>5000 rows × 2 columns</p>\n",
       "</div>\n",
       "      <button class=\"colab-df-convert\" onclick=\"convertToInteractive('df-defb0558-4219-409f-a1b1-5922828d6c61')\"\n",
       "              title=\"Convert this dataframe to an interactive table.\"\n",
       "              style=\"display:none;\">\n",
       "        \n",
       "  <svg xmlns=\"http://www.w3.org/2000/svg\" height=\"24px\"viewBox=\"0 0 24 24\"\n",
       "       width=\"24px\">\n",
       "    <path d=\"M0 0h24v24H0V0z\" fill=\"none\"/>\n",
       "    <path d=\"M18.56 5.44l.94 2.06.94-2.06 2.06-.94-2.06-.94-.94-2.06-.94 2.06-2.06.94zm-11 1L8.5 8.5l.94-2.06 2.06-.94-2.06-.94L8.5 2.5l-.94 2.06-2.06.94zm10 10l.94 2.06.94-2.06 2.06-.94-2.06-.94-.94-2.06-.94 2.06-2.06.94z\"/><path d=\"M17.41 7.96l-1.37-1.37c-.4-.4-.92-.59-1.43-.59-.52 0-1.04.2-1.43.59L10.3 9.45l-7.72 7.72c-.78.78-.78 2.05 0 2.83L4 21.41c.39.39.9.59 1.41.59.51 0 1.02-.2 1.41-.59l7.78-7.78 2.81-2.81c.8-.78.8-2.07 0-2.86zM5.41 20L4 18.59l7.72-7.72 1.47 1.35L5.41 20z\"/>\n",
       "  </svg>\n",
       "      </button>\n",
       "      \n",
       "  <style>\n",
       "    .colab-df-container {\n",
       "      display:flex;\n",
       "      flex-wrap:wrap;\n",
       "      gap: 12px;\n",
       "    }\n",
       "\n",
       "    .colab-df-convert {\n",
       "      background-color: #E8F0FE;\n",
       "      border: none;\n",
       "      border-radius: 50%;\n",
       "      cursor: pointer;\n",
       "      display: none;\n",
       "      fill: #1967D2;\n",
       "      height: 32px;\n",
       "      padding: 0 0 0 0;\n",
       "      width: 32px;\n",
       "    }\n",
       "\n",
       "    .colab-df-convert:hover {\n",
       "      background-color: #E2EBFA;\n",
       "      box-shadow: 0px 1px 2px rgba(60, 64, 67, 0.3), 0px 1px 3px 1px rgba(60, 64, 67, 0.15);\n",
       "      fill: #174EA6;\n",
       "    }\n",
       "\n",
       "    [theme=dark] .colab-df-convert {\n",
       "      background-color: #3B4455;\n",
       "      fill: #D2E3FC;\n",
       "    }\n",
       "\n",
       "    [theme=dark] .colab-df-convert:hover {\n",
       "      background-color: #434B5C;\n",
       "      box-shadow: 0px 1px 3px 1px rgba(0, 0, 0, 0.15);\n",
       "      filter: drop-shadow(0px 1px 2px rgba(0, 0, 0, 0.3));\n",
       "      fill: #FFFFFF;\n",
       "    }\n",
       "  </style>\n",
       "\n",
       "      <script>\n",
       "        const buttonEl =\n",
       "          document.querySelector('#df-defb0558-4219-409f-a1b1-5922828d6c61 button.colab-df-convert');\n",
       "        buttonEl.style.display =\n",
       "          google.colab.kernel.accessAllowed ? 'block' : 'none';\n",
       "\n",
       "        async function convertToInteractive(key) {\n",
       "          const element = document.querySelector('#df-defb0558-4219-409f-a1b1-5922828d6c61');\n",
       "          const dataTable =\n",
       "            await google.colab.kernel.invokeFunction('convertToInteractive',\n",
       "                                                     [key], {});\n",
       "          if (!dataTable) return;\n",
       "\n",
       "          const docLinkHtml = 'Like what you see? Visit the ' +\n",
       "            '<a target=\"_blank\" href=https://colab.research.google.com/notebooks/data_table.ipynb>data table notebook</a>'\n",
       "            + ' to learn more about interactive tables.';\n",
       "          element.innerHTML = '';\n",
       "          dataTable['output_type'] = 'display_data';\n",
       "          await google.colab.output.renderOutput(dataTable, element);\n",
       "          const docLink = document.createElement('div');\n",
       "          docLink.innerHTML = docLinkHtml;\n",
       "          element.appendChild(docLink);\n",
       "        }\n",
       "      </script>\n",
       "    </div>\n",
       "  </div>\n",
       "  "
      ],
      "text/plain": [
       "      sentiment                                       review_clean\n",
       "0             0  start watch believe character particular relat...\n",
       "1             0  totally unfunny movie top pathetic unrealistic...\n",
       "2             0  absolutely nothing redeem movie take sleazy st...\n",
       "3             0  warn may contain spoiler huge problem movie to...\n",
       "4             1  surprising majority high rat vote submit femal...\n",
       "...         ...                                                ...\n",
       "4995          1  ladislas curiosity insect cinema meld short fi...\n",
       "4996          0  movie even save grace bad good truly appal clo...\n",
       "4997          0  documentary nomadic persian make treacherous t...\n",
       "4998          1  film move cinderella story forward early make ...\n",
       "4999          0  imagination must slip jim wynorski mind write ...\n",
       "\n",
       "[5000 rows x 2 columns]"
      ]
     },
     "execution_count": 105,
     "metadata": {},
     "output_type": "execute_result"
    }
   ],
   "source": [
    "# Draw a random sample of n reviews to increase the speed of the following steps\n",
    "n = 5000\n",
    "np.random.seed(111)\n",
    "ix = np.random.randint(0, high=df.shape[0]-1, size=n)\n",
    "df = df.loc[ix, :]\n",
    "df.reset_index(drop=True, inplace=True)\n",
    "df"
   ]
  },
  {
   "cell_type": "markdown",
   "metadata": {
    "id": "ottj5fqVUwrd"
   },
   "source": [
    "Before moving on with developing sentiment classification models, we partition our data into a training and a hold-out test set."
   ]
  },
  {
   "cell_type": "code",
   "execution_count": 106,
   "metadata": {
    "executionInfo": {
     "elapsed": 4,
     "status": "ok",
     "timestamp": 1649251546359,
     "user": {
      "displayName": "Georg B",
      "userId": "16990759077565939430"
     },
     "user_tz": -120
    },
    "id": "snYTnFiHUwrd"
   },
   "outputs": [],
   "source": [
    "from sklearn.model_selection import train_test_split\n",
    "\n",
    "X_train, X_test, y_train, y_test = train_test_split(df['review_clean'], df['sentiment'], test_size=0.25, random_state=111)"
   ]
  },
  {
   "cell_type": "markdown",
   "metadata": {
    "id": "8ZhzxgBbUwri"
   },
   "source": [
    "<a id=\"lexi\"></a>"
   ]
  },
  {
   "cell_type": "markdown",
   "metadata": {
    "id": "vMmydneZUwrj"
   },
   "source": [
    "## 2. Dictionary-based sentiment analysis"
   ]
  },
  {
   "cell_type": "markdown",
   "metadata": {
    "id": "CqRs_FFMUwrk"
   },
   "source": [
    "A simple approach to rate the sentiment of a text is to literally model it as the sum of its parts through the sentiment of each word. `pysentiment2` is a package containing several English word sentiment dictionaries. Word scores are either negative (-1), neutral (0) or positive (1). On a sentence level the polarity score is the average of positive and negative words (neutral words are ignored). The Harvard IV-4 dictionary, which we will use, consists of 3,642 coded words. Note that you will need to install the library before being able to run the following code."
   ]
  },
  {
   "cell_type": "code",
   "execution_count": 107,
   "metadata": {
    "executionInfo": {
     "elapsed": 2387,
     "status": "ok",
     "timestamp": 1649251551040,
     "user": {
      "displayName": "Georg B",
      "userId": "16990759077565939430"
     },
     "user_tz": -120
    },
    "id": "hPoVcy31Uwrk"
   },
   "outputs": [],
   "source": [
    "import pysentiment2 as ps\n",
    "dc = ps.HIV4() # import Harvard IV-4 dictionary\n",
    "\n",
    "def get_sentiment_score(text):\n",
    "    score = round(dc.get_score(dc.tokenize(text))['Polarity'], 2)\n",
    "    return score"
   ]
  },
  {
   "cell_type": "markdown",
   "metadata": {
    "id": "IlkT-oMUUwro"
   },
   "source": [
    "We look up the sentiment score for each word in turn and sum up the sentiment values over words. Here are a few examples. Quite easy, isn't it?"
   ]
  },
  {
   "cell_type": "code",
   "execution_count": 108,
   "metadata": {
    "colab": {
     "base_uri": "https://localhost:8080/"
    },
    "executionInfo": {
     "elapsed": 23,
     "status": "ok",
     "timestamp": 1649251551041,
     "user": {
      "displayName": "Georg B",
      "userId": "16990759077565939430"
     },
     "user_tz": -120
    },
    "id": "c9X4uxgI7WZh",
    "outputId": "c0872e9b-b29b-4579-9a81-6245ab6bf76d"
   },
   "outputs": [
    {
     "name": "stdout",
     "output_type": "stream",
     "text": [
      "What a marvelous evening, the weather is simply delightful. Wonderful! \t -> Sentiment score: 1.0\n",
      "I am devastated, the donuts are not what they once were – disgusting. \t -> Sentiment score: -1.0\n",
      "To be or not to be? \t -> Sentiment score: 0.0\n"
     ]
    }
   ],
   "source": [
    "#* Some examples how to rate texts. Larger values indicate stronger positive feelings\n",
    "examples = [\"What a marvelous evening, the weather is simply delightful. Wonderful!\", \n",
    "            \"I am devastated, the donuts are not what they once were – disgusting.\",\n",
    "            \"To be or not to be?\"\n",
    "           ]\n",
    "for txt in examples:\n",
    "    print(txt, \"\\t -> Sentiment score:\", get_sentiment_score(txt))"
   ]
  },
  {
   "cell_type": "code",
   "execution_count": 109,
   "metadata": {
    "colab": {
     "base_uri": "https://localhost:8080/"
    },
    "executionInfo": {
     "elapsed": 22,
     "status": "ok",
     "timestamp": 1649251551043,
     "user": {
      "displayName": "Georg B",
      "userId": "16990759077565939430"
     },
     "user_tz": -120
    },
    "id": "vBan03aCdCFn",
    "outputId": "108f0de4-16c1-4627-97dd-f8e4631cba6b"
   },
   "outputs": [
    {
     "data": {
      "text/plain": [
       "-1.0"
      ]
     },
     "execution_count": 109,
     "metadata": {},
     "output_type": "execute_result"
    }
   ],
   "source": [
    "get_sentiment_score('bad')"
   ]
  },
  {
   "cell_type": "markdown",
   "metadata": {
    "id": "hJhhh0RNUwrt"
   },
   "source": [
    "### Sentiment score calculation  \n",
    "Since we already have a data frame, why not add the sentiment score of every review as a new column. This is a nice use case for the `.apply()` function that Pandas data frames support. We score the cleaned version of the review. If you fancy a little exercise, consider to also score the original review text and compare the differences between the two scores. You could then identify reviews where the sentiment scores differ substantially between the original and cleaned text. That might point to some issues in our data cleaning. "
   ]
  },
  {
   "cell_type": "code",
   "execution_count": 110,
   "metadata": {
    "colab": {
     "base_uri": "https://localhost:8080/"
    },
    "executionInfo": {
     "elapsed": 20798,
     "status": "ok",
     "timestamp": 1649251572119,
     "user": {
      "displayName": "Georg B",
      "userId": "16990759077565939430"
     },
     "user_tz": -120
    },
    "id": "944jJwQYUwru",
    "outputId": "cb86c952-fe50-48c3-8049-3fa903908d9a"
   },
   "outputs": [
    {
     "name": "stdout",
     "output_type": "stream",
     "text": [
      "Processed 5000 reviews in 21 sec.\n"
     ]
    }
   ],
   "source": [
    "# Add the Afinn scores to our data frame \n",
    "# Caution: if you use the full data set of 50K reviews, the scoring will take a while.\n",
    "start = time.time()\n",
    "df['sentiment_score'] = df['review_clean'].apply(get_sentiment_score)\n",
    "end = time.time()\n",
    "\n",
    "print('Processed {} reviews in {:.0f} sec.'.format(df.shape[0], end-start))"
   ]
  },
  {
   "cell_type": "code",
   "execution_count": 111,
   "metadata": {
    "colab": {
     "base_uri": "https://localhost:8080/",
     "height": 431
    },
    "executionInfo": {
     "elapsed": 16,
     "status": "ok",
     "timestamp": 1649251572121,
     "user": {
      "displayName": "Georg B",
      "userId": "16990759077565939430"
     },
     "user_tz": -120
    },
    "id": "Mld2ZI2LUwry",
    "outputId": "7ac97e92-142e-45ef-b8d9-a683562d3a62"
   },
   "outputs": [
    {
     "data": {
      "text/plain": [
       "count    5000.000000\n",
       "mean        0.159724\n",
       "std         0.317145\n",
       "min        -1.000000\n",
       "25%        -0.050000\n",
       "50%         0.150000\n",
       "75%         0.370000\n",
       "max         1.000000\n",
       "Name: sentiment_score, dtype: float64"
      ]
     },
     "execution_count": 111,
     "metadata": {},
     "output_type": "execute_result"
    },
    {
     "data": {
      "image/png": "[encoded data removed]",
      "text/plain": [
       "<Figure size 432x288 with 1 Axes>"
      ]
     },
     "metadata": {
      "needs_background": "light"
     },
     "output_type": "display_data"
    }
   ],
   "source": [
    "df['sentiment_score'].hist(); \n",
    "df['sentiment_score'].describe() # overall rather positive"
   ]
  },
  {
   "cell_type": "markdown",
   "metadata": {
    "id": "8rJvB2CsUwr3"
   },
   "source": [
    "### Sentiment classifier assessment\n",
    "We can treat the sentiment scores as class predictions. Applying a classification cut-off of zero, we posit that every review with a positive score is classified as positive, and negative otherwise. We can then examine the predictive accuracy of the dictionary-based classifier using standard performance measures for binary classification. Since we will do so a couple of times, we put the code in a function."
   ]
  },
  {
   "cell_type": "code",
   "execution_count": 206,
   "metadata": {
    "executionInfo": {
     "elapsed": 316,
     "status": "ok",
     "timestamp": 1649254312112,
     "user": {
      "displayName": "Georg B",
      "userId": "16990759077565939430"
     },
     "user_tz": -120
    },
    "id": "pZxPYRd9Uwr5"
   },
   "outputs": [],
   "source": [
    "# Assess sentiment classification models \n",
    "from sklearn.metrics import accuracy_score, confusion_matrix, roc_auc_score, roc_curve\n",
    "\n",
    "def assess_sentiment_classifier(ytest, yhat, cut_off=0.5, plot_roc=True):\n",
    "    \"\"\"\n",
    "        Helper function to assess a classification model in terms of the AUC\n",
    "        and classification accuracy. We calculate the latter by comapring\n",
    "        continuous (e.g., probabilistic) classifier predictions to a cut_off.\n",
    "        Cases where the prediction exceeds the cut-off are classified as \n",
    "        positive.\n",
    "    \"\"\"\n",
    "    # Calculate discrete class predictions\n",
    "    yhat_c = np.where(yhat>cut_off, 1, 0)\n",
    "    \n",
    "    # Calculate classification accuracy and AUC\n",
    "    acc = accuracy_score(ytest, yhat_c)\n",
    "    auc = roc_auc_score(ytest, yhat)\n",
    "    \n",
    "    # Confusion matrix \n",
    "    cmat = confusion_matrix(ytest, yhat_c)\n",
    "    \n",
    "    # ROC analysis\n",
    "    if plot_roc==True:\n",
    "        fpr, tpr, _ = roc_curve(ytest, yhat)\n",
    "        plt.plot(fpr,tpr, label=\"AUC={:.4}\".format(auc));\n",
    "        plt.plot([0, 1], [0, 1], \"r--\")\n",
    "        plt.ylabel('True positive rate')    \n",
    "        plt.xlabel('False positive rate')    \n",
    "        plt.legend(loc='lower right')\n",
    "        plt.show();\n",
    "    \n",
    "    return(auc, acc, cmat)"
   ]
  },
  {
   "cell_type": "code",
   "execution_count": 207,
   "metadata": {
    "colab": {
     "base_uri": "https://localhost:8080/",
     "height": 297
    },
    "executionInfo": {
     "elapsed": 602,
     "status": "ok",
     "timestamp": 1649254313195,
     "user": {
      "displayName": "Georg B",
      "userId": "16990759077565939430"
     },
     "user_tz": -120
    },
    "id": "a_WtmhRAUwr8",
    "outputId": "1a626566-a097-47ea-b9a5-837e5f6dac31"
   },
   "outputs": [
    {
     "data": {
      "image/png": "[encoded data removed]",
      "text/plain": [
       "<Figure size 432x288 with 1 Axes>"
      ]
     },
     "metadata": {
      "needs_background": "light"
     },
     "output_type": "display_data"
    },
    {
     "name": "stdout",
     "output_type": "stream",
     "text": [
      "Lexicon-based sentiment classifier:\tAUC=0.7352\tAccuracy=0.6528\n"
     ]
    }
   ],
   "source": [
    "# Assess lexicon-based sentiment classifier\n",
    "auc, acc, cmat = assess_sentiment_classifier(ytest=df['sentiment'], yhat=df['sentiment_score'], cut_off=0)\n",
    "print(\"Lexicon-based sentiment classifier:\\tAUC={:.4f}\\tAccuracy={:.4f}\".format(auc, acc))"
   ]
  },
  {
   "cell_type": "code",
   "execution_count": 115,
   "metadata": {
    "colab": {
     "base_uri": "https://localhost:8080/"
    },
    "executionInfo": {
     "elapsed": 340,
     "status": "ok",
     "timestamp": 1649251640062,
     "user": {
      "displayName": "Georg B",
      "userId": "16990759077565939430"
     },
     "user_tz": -120
    },
    "id": "7FzJ-pQtUwsA",
    "outputId": "d9721d27-877b-4e6a-83f3-28b27c5d1a68"
   },
   "outputs": [
    {
     "data": {
      "text/plain": [
       "array([[1231, 1257],\n",
       "       [ 479, 2033]])"
      ]
     },
     "execution_count": 115,
     "metadata": {},
     "output_type": "execute_result"
    }
   ],
   "source": [
    "# Confusion matrix \n",
    "cmat"
   ]
  },
  {
   "cell_type": "markdown",
   "metadata": {
    "id": "3VYm2BYwUwsE"
   },
   "source": [
    "The ROC curve looks good, whereas the confusion matrix suggests that our dictionary-based classifier is biased towards positive reviews. Note that your result might differ depending on which data you are using (all reviews, random sample). Finally, note that our performance estimates come from the whole data. That is ok since the lexicon-based approach does not involve training. Therefore, there is no risk of overfitting and no need for data partitioning.\n",
    "<br>Since we are about to create more models, it makes sense to create a container in which we store the results of different models. Good options are either a dictionary or a data set. In this notebook, we use the latter approach. To ensure comparability across different approaches, we will re-calculate the performance of the lexicon-based model for the observations of the test set."
   ]
  },
  {
   "cell_type": "code",
   "execution_count": 117,
   "metadata": {
    "colab": {
     "base_uri": "https://localhost:8080/",
     "height": 112
    },
    "executionInfo": {
     "elapsed": 225,
     "status": "ok",
     "timestamp": 1649251667070,
     "user": {
      "displayName": "Georg B",
      "userId": "16990759077565939430"
     },
     "user_tz": -120
    },
    "id": "x3wXVWFCUwsF",
    "outputId": "675393bf-86a5-4fd5-dda6-68ddd7f03d8e"
   },
   "outputs": [
    {
     "data": {
      "text/html": [
       "\n",
       "  <div id=\"df-930d1c3d-7046-4c4f-8329-8692e446e42c\">\n",
       "    <div class=\"colab-df-container\">\n",
       "      <div>\n",
       "<style scoped>\n",
       "    .dataframe tbody tr th:only-of-type {\n",
       "        vertical-align: middle;\n",
       "    }\n",
       "\n",
       "    .dataframe tbody tr th {\n",
       "        vertical-align: top;\n",
       "    }\n",
       "\n",
       "    .dataframe thead th {\n",
       "        text-align: right;\n",
       "    }\n",
       "</style>\n",
       "<table border=\"1\" class=\"dataframe\">\n",
       "  <thead>\n",
       "    <tr style=\"text-align: right;\">\n",
       "      <th></th>\n",
       "      <th>Lexicon</th>\n",
       "    </tr>\n",
       "  </thead>\n",
       "  <tbody>\n",
       "    <tr>\n",
       "      <th>Acc</th>\n",
       "      <td>0.651200</td>\n",
       "    </tr>\n",
       "    <tr>\n",
       "      <th>AUC</th>\n",
       "      <td>0.736553</td>\n",
       "    </tr>\n",
       "  </tbody>\n",
       "</table>\n",
       "</div>\n",
       "      <button class=\"colab-df-convert\" onclick=\"convertToInteractive('df-930d1c3d-7046-4c4f-8329-8692e446e42c')\"\n",
       "              title=\"Convert this dataframe to an interactive table.\"\n",
       "              style=\"display:none;\">\n",
       "        \n",
       "  <svg xmlns=\"http://www.w3.org/2000/svg\" height=\"24px\"viewBox=\"0 0 24 24\"\n",
       "       width=\"24px\">\n",
       "    <path d=\"M0 0h24v24H0V0z\" fill=\"none\"/>\n",
       "    <path d=\"M18.56 5.44l.94 2.06.94-2.06 2.06-.94-2.06-.94-.94-2.06-.94 2.06-2.06.94zm-11 1L8.5 8.5l.94-2.06 2.06-.94-2.06-.94L8.5 2.5l-.94 2.06-2.06.94zm10 10l.94 2.06.94-2.06 2.06-.94-2.06-.94-.94-2.06-.94 2.06-2.06.94z\"/><path d=\"M17.41 7.96l-1.37-1.37c-.4-.4-.92-.59-1.43-.59-.52 0-1.04.2-1.43.59L10.3 9.45l-7.72 7.72c-.78.78-.78 2.05 0 2.83L4 21.41c.39.39.9.59 1.41.59.51 0 1.02-.2 1.41-.59l7.78-7.78 2.81-2.81c.8-.78.8-2.07 0-2.86zM5.41 20L4 18.59l7.72-7.72 1.47 1.35L5.41 20z\"/>\n",
       "  </svg>\n",
       "      </button>\n",
       "      \n",
       "  <style>\n",
       "    .colab-df-container {\n",
       "      display:flex;\n",
       "      flex-wrap:wrap;\n",
       "      gap: 12px;\n",
       "    }\n",
       "\n",
       "    .colab-df-convert {\n",
       "      background-color: #E8F0FE;\n",
       "      border: none;\n",
       "      border-radius: 50%;\n",
       "      cursor: pointer;\n",
       "      display: none;\n",
       "      fill: #1967D2;\n",
       "      height: 32px;\n",
       "      padding: 0 0 0 0;\n",
       "      width: 32px;\n",
       "    }\n",
       "\n",
       "    .colab-df-convert:hover {\n",
       "      background-color: #E2EBFA;\n",
       "      box-shadow: 0px 1px 2px rgba(60, 64, 67, 0.3), 0px 1px 3px 1px rgba(60, 64, 67, 0.15);\n",
       "      fill: #174EA6;\n",
       "    }\n",
       "\n",
       "    [theme=dark] .colab-df-convert {\n",
       "      background-color: #3B4455;\n",
       "      fill: #D2E3FC;\n",
       "    }\n",
       "\n",
       "    [theme=dark] .colab-df-convert:hover {\n",
       "      background-color: #434B5C;\n",
       "      box-shadow: 0px 1px 3px 1px rgba(0, 0, 0, 0.15);\n",
       "      filter: drop-shadow(0px 1px 2px rgba(0, 0, 0, 0.3));\n",
       "      fill: #FFFFFF;\n",
       "    }\n",
       "  </style>\n",
       "\n",
       "      <script>\n",
       "        const buttonEl =\n",
       "          document.querySelector('#df-930d1c3d-7046-4c4f-8329-8692e446e42c button.colab-df-convert');\n",
       "        buttonEl.style.display =\n",
       "          google.colab.kernel.accessAllowed ? 'block' : 'none';\n",
       "\n",
       "        async function convertToInteractive(key) {\n",
       "          const element = document.querySelector('#df-930d1c3d-7046-4c4f-8329-8692e446e42c');\n",
       "          const dataTable =\n",
       "            await google.colab.kernel.invokeFunction('convertToInteractive',\n",
       "                                                     [key], {});\n",
       "          if (!dataTable) return;\n",
       "\n",
       "          const docLinkHtml = 'Like what you see? Visit the ' +\n",
       "            '<a target=\"_blank\" href=https://colab.research.google.com/notebooks/data_table.ipynb>data table notebook</a>'\n",
       "            + ' to learn more about interactive tables.';\n",
       "          element.innerHTML = '';\n",
       "          dataTable['output_type'] = 'display_data';\n",
       "          await google.colab.output.renderOutput(dataTable, element);\n",
       "          const docLink = document.createElement('div');\n",
       "          docLink.innerHTML = docLinkHtml;\n",
       "          element.appendChild(docLink);\n",
       "        }\n",
       "      </script>\n",
       "    </div>\n",
       "  </div>\n",
       "  "
      ],
      "text/plain": [
       "      Lexicon\n",
       "Acc  0.651200\n",
       "AUC  0.736553"
      ]
     },
     "execution_count": 117,
     "metadata": {},
     "output_type": "execute_result"
    }
   ],
   "source": [
    "# Extract test set cases \n",
    "yhat = df.loc[X_test.index, 'sentiment_score']\n",
    "\n",
    "# Compute test set performance\n",
    "auc, acc, _ = assess_sentiment_classifier(y_test, yhat, cut_off=0, plot_roc=False)\n",
    "\n",
    "# We will create many more models. Let's put every model's score into a data frame\n",
    "df_scores = pd.DataFrame(index=['Acc', 'AUC'], columns=['Lexicon'], data=[acc, auc])\n",
    "df_scores"
   ]
  },
  {
   "cell_type": "markdown",
   "metadata": {
    "id": "Lcz6PTsBUwsI"
   },
   "source": [
    "<a id=\"rep\"></a>"
   ]
  },
  {
   "cell_type": "markdown",
   "metadata": {
    "id": "0IfysfLqUwsK"
   },
   "source": [
    "## 3. Text data representation\n",
    "For the next models, we need to represent the text data in a numeric format, which the learning algorithms can process. The specific form of the data depends on the type of learning algorithm. Traditional machine learning algorithms use some form of count vectorization, meaning that the words in a text are replaced by their number of occurrence in that text. This format is also called the **document-term matrix (DTM)**. A tabular data structure in which rows are documents (e.g., reviews in our case) and the columns are the unique words in the vocabulary. Given that a document is seen as a **bag of words**, BoW is just another popular name to refer to corresponding text representations. You can find many sources on the Internet such as [this one](https://www.analyticsvidhya.com/blog/2020/02/quick-introduction-bag-of-words-bow-tf-idf/) to obtain a more comprehensive explanation of the BoW model if interested. Since our focus is deep learning, we will not go there.  However, let's note one important caveat of the BoW approach. The size of the vocabulary is typically very large. For example, according this [Wikipedia page](https://en.wikipedia.org/wiki/List_of_dictionaries_by_number_of_words), there are about 470K unique words in the English language. Making every unique word a feature in the DTM, our matrix will be high dimensional. Stemming can help a bit but **high-dimensionality** is one key disadvantage of representing data in form of a DTM. We will address this issue by developing a LASSO classifier that is robust toward dimensionality.\n",
    "<br>\n",
    "One advantage of word vectors over the BoW approach is that they avoid high dimensionality by embedding words in a lower dimensional space. Using word vectors, a document is represented as a **sequence of words** in which each word is represented by its embedding. This is the data structure that we use for our deep learning-based models. \n",
    "<br>\n",
    "In order to create the two text representations for traditional machine learning classifiers and deep learning classifiers, we use the class `Tokenizer` from the `Keras` text processing API. Libraries like `scikit-learn` and others provide similar functionality (see, e.g., [here](https://scikit-learn.org/stable/tutorial/text_analytics/working_with_text_data.html)). When using `Keras`, our first task is to create a tokenizer object and 'train' it, a bit like with models, on our text data. To that end, we use the function `fit_on_texts`. Afterwards, we can use two functions for converting our text into a BoW or a sequence of words for machine and deep learning models, respectively. These functions go by the telling names `texts_to_matrix()` and `texts_to_sequences()`, respectively. We illustrate both of them in the following. But let's first build the vocabulary. We will need to decide how large our vocabulary should be. In practice, that can be a tough decision, the pros and cons being potentially higher accuracy when using many/all words in the text corpus versus faster computations when dropping some infrequent words. We just make a somewhat arbitrary choice in this notebook but remember that the **vocabulary size** is a meta-parameter that you will want to examine when working on a serious case."
   ]
  },
  {
   "cell_type": "code",
   "execution_count": 118,
   "metadata": {
    "executionInfo": {
     "elapsed": 3032,
     "status": "ok",
     "timestamp": 1649251684392,
     "user": {
      "displayName": "Georg B",
      "userId": "16990759077565939430"
     },
     "user_tz": -120
    },
    "id": "6FBxBUfeUwsK"
   },
   "outputs": [],
   "source": [
    "# Build vocabulary using Keras\n",
    "from keras.preprocessing.text import Tokenizer\n",
    "NUM_WORDS = 2500  # 2.5K is a rather small vocabulary. This choice is only to increase speed. Increase the setting and check whether you can raise performance\n",
    "\n",
    "# Create tokenizer object and build vocab from the training set\n",
    "tok = Tokenizer(NUM_WORDS, oov_token=1)  # We fit the tokenizer to the training set reviews. The test set might include\n",
    "tok.fit_on_texts(X_train)  # words that are not part of the training data. The argument oov_token ensures that such new words are mapped to the specified index"
   ]
  },
  {
   "cell_type": "markdown",
   "metadata": {
    "id": "_ty3eMp5UwsO"
   },
   "source": [
    "The fitted tokenizer object exposes several methods that summarize what was learned and facilitates looking at the internal data from different perspectives. Here are a few examples:"
   ]
  },
  {
   "cell_type": "code",
   "execution_count": 119,
   "metadata": {
    "colab": {
     "base_uri": "https://localhost:8080/"
    },
    "executionInfo": {
     "elapsed": 17,
     "status": "ok",
     "timestamp": 1649251684393,
     "user": {
      "displayName": "Georg B",
      "userId": "16990759077565939430"
     },
     "user_tz": -120
    },
    "id": "sR4Hm4-XUwsP",
    "outputId": "355feaaf-6510-4a1c-a9aa-7aaf4f1d191c"
   },
   "outputs": [
    {
     "name": "stdout",
     "output_type": "stream",
     "text": [
      "3750\n"
     ]
    }
   ],
   "source": [
    "# On how many documents did we train?\n",
    "print(tok.document_count)"
   ]
  },
  {
   "cell_type": "code",
   "execution_count": 120,
   "metadata": {
    "colab": {
     "base_uri": "https://localhost:8080/"
    },
    "executionInfo": {
     "elapsed": 14,
     "status": "ok",
     "timestamp": 1649251684394,
     "user": {
      "displayName": "Georg B",
      "userId": "16990759077565939430"
     },
     "user_tz": -120
    },
    "id": "aZWeFGtYUwsV",
    "outputId": "9fcec5f3-f222-42a7-a344-9b118ccd1ea3"
   },
   "outputs": [
    {
     "data": {
      "text/plain": [
       "25658"
      ]
     },
     "execution_count": 120,
     "metadata": {},
     "output_type": "execute_result"
    }
   ],
   "source": [
    "# How many unique words?\n",
    "len(tok.word_counts)"
   ]
  },
  {
   "cell_type": "code",
   "execution_count": 121,
   "metadata": {
    "colab": {
     "base_uri": "https://localhost:8080/"
    },
    "executionInfo": {
     "elapsed": 330,
     "status": "ok",
     "timestamp": 1649251688751,
     "user": {
      "displayName": "Georg B",
      "userId": "16990759077565939430"
     },
     "user_tz": -120
    },
    "id": "H3o7-0saUwsY",
    "outputId": "3fcc0e10-9cea-4d9e-c735-98515c2a5380"
   },
   "outputs": [
    {
     "name": "stdout",
     "output_type": "stream",
     "text": [
      "The word <film> appeared in 2164 reviews.\n"
     ]
    }
   ],
   "source": [
    "# A dictionary of words storing in how many documents a word appeared\n",
    "word = 'film'  \n",
    "n = tok.word_docs[word]\n",
    "print('The word <{}> appeared in {} reviews.'.format(word, n))"
   ]
  },
  {
   "cell_type": "markdown",
   "metadata": {
    "id": "eej8WK8GUwsb"
   },
   "source": [
    "### BoW representation for machine learning models\n",
    "Time to create our input data for traditional machine learning. Let's first showcase the code and discuss it thereafter."
   ]
  },
  {
   "cell_type": "code",
   "execution_count": 122,
   "metadata": {
    "colab": {
     "base_uri": "https://localhost:8080/"
    },
    "executionInfo": {
     "elapsed": 662,
     "status": "ok",
     "timestamp": 1649251690548,
     "user": {
      "displayName": "Georg B",
      "userId": "16990759077565939430"
     },
     "user_tz": -120
    },
    "id": "Y6TSt8TOUwsc",
    "outputId": "972fef0e-1282-4f34-aa64-5527eba54274"
   },
   "outputs": [
    {
     "data": {
      "text/plain": [
       "(3750, 2500)"
      ]
     },
     "execution_count": 122,
     "metadata": {},
     "output_type": "execute_result"
    }
   ],
   "source": [
    "# Count-based vectorization of the data\n",
    "X_train_bow = tok.texts_to_matrix(X_train, mode='count')  # check the function documentation for other modes than count\n",
    "X_train_bow.shape  "
   ]
  },
  {
   "cell_type": "markdown",
   "metadata": {
    "id": "3u9GLnC8Uwse"
   },
   "source": [
    "Makes sense. We obtain a matrix with as many rows as there are reviews in the training set and as many columns as we have words in the vocabulary. Remember that we have set a cut-off above and consider only the top most frequent words. So what our ML model is going to see is this:"
   ]
  },
  {
   "cell_type": "code",
   "execution_count": 124,
   "metadata": {
    "colab": {
     "base_uri": "https://localhost:8080/"
    },
    "executionInfo": {
     "elapsed": 6,
     "status": "ok",
     "timestamp": 1649251844190,
     "user": {
      "displayName": "Georg B",
      "userId": "16990759077565939430"
     },
     "user_tz": -120
    },
    "id": "a6GdI4jsUwsf",
    "outputId": "aa11e864-7f08-49b1-b703-32894479d996"
   },
   "outputs": [
    {
     "data": {
      "text/plain": [
       "array([ 0., 36.,  2.,  1.,  0.,  0.,  1.,  0.,  7.])"
      ]
     },
     "execution_count": 124,
     "metadata": {},
     "output_type": "execute_result"
    }
   ],
   "source": [
    "# Snipped of the representation of the first training example\n",
    "X_train_bow[0, 0:9]"
   ]
  },
  {
   "cell_type": "markdown",
   "metadata": {
    "id": "Igwkp165Uwsj"
   },
   "source": [
    "The numbers are the counts how many times a word appeared in a review and the rows are the individual reviews. In addition to high dimensionality, another disadvantage of the BoW representation is that word order is ignored. Hence, it is irrelevant in which order the words appear in the columns. The tokenizer object has its internal dictionaries to keep track of which word appears at which position in the columns. You can access the corresponding dictionaries if you want. For example, to find the words by their index, you can use `index_word`, whereas `word_index` facilitates querying the index of a given word. Let's try to make sense out of the above counts by querying the words corresponding to the first ten columns."
   ]
  },
  {
   "cell_type": "code",
   "execution_count": 125,
   "metadata": {
    "colab": {
     "base_uri": "https://localhost:8080/"
    },
    "executionInfo": {
     "elapsed": 230,
     "status": "ok",
     "timestamp": 1649251856078,
     "user": {
      "displayName": "Georg B",
      "userId": "16990759077565939430"
     },
     "user_tz": -120
    },
    "id": "W1qHX1aXUwsj",
    "outputId": "ebf0bd1c-b5ec-4431-dd36-1cfa1645afb5"
   },
   "outputs": [
    {
     "data": {
      "text/plain": [
       "[1, 'movie', 'film', 'one', 'like', 'make', 'see', 'get', 'well', 'time']"
      ]
     },
     "execution_count": 125,
     "metadata": {},
     "output_type": "execute_result"
    }
   ],
   "source": [
    "# Revert the encoding to get the original text of the first training example \n",
    "features = []\n",
    "for i in range(1, 11):\n",
    "    features.append(tok.index_word[i])\n",
    "features"
   ]
  },
  {
   "cell_type": "markdown",
   "metadata": {
    "id": "N7pg3yqHUwso"
   },
   "source": [
    "So according to the above output, the count value of 21 that saw in the representation of the first review was the number of times the word '1' appeared. To clarify, the tokenizer uses the index one to represent unknown words. We restricted our vocabulary to the most frequent words. Every other word is considered an unknown word. If you go back to the fitting of the tokenzier, this 1 is the `oov token`. <br>\n",
    "Finally, note that the tokenizers shuffels the data during the fitting. Therefore, the first review that we have been examining above is not the same review as the first review in our variable `X_Train`. "
   ]
  },
  {
   "cell_type": "markdown",
   "metadata": {
    "id": "N4Inn8FaUwsq"
   },
   "source": [
    "Let's note two more things about the tokenization and then move on. First, we still have to tokenize our test data. Second, we used count-based vactorization in this example. The tokenizer class also supports other forms including a binary encoding whether a word occurred in a review or **TFxIDF** weights, that balance the corpus-wide occurrence of a word with its occurrences in a single review. Think about the word *movie*. We know it appears in pretty much every review. It's count (i.e., feature value) will be large. Does that mean that this word is characteristic for a single review? Do we learn anything about a review when knowing that the word *movie* was used in that review? Probably not and this is why TFxIDF weights account for the corpus-wide frequency of a word and downweight words like *movie* that occur a lot. [Wikipedia](https://en.wikipedia.org/wiki/Tf%E2%80%93idf) provides a descent introduction to TFxIDF. However, it is fair to say that corresponding weights essentially suffer the same limitations as all count-based word embeddings. Using the `Keras Tokenizer class` you can use the argument `mode`, which we set to *count* to obtain other types of weights including TFxIDF. Below is the code for preparing the test set, in which we certainly use the same mode, that is count-based vectorization."
   ]
  },
  {
   "cell_type": "code",
   "execution_count": 126,
   "metadata": {
    "executionInfo": {
     "elapsed": 244,
     "status": "ok",
     "timestamp": 1649251960628,
     "user": {
      "displayName": "Georg B",
      "userId": "16990759077565939430"
     },
     "user_tz": -120
    },
    "id": "hkBWkej2Uwsq"
   },
   "outputs": [],
   "source": [
    "X_test_bow = tok.texts_to_matrix(X_test, mode='count')"
   ]
  },
  {
   "cell_type": "markdown",
   "metadata": {
    "id": "h6jvNI1EUwst"
   },
   "source": [
    "### Representation for deep learning\n",
    "The representation of text in deep learning models is different from the BoW approach. We embed words in a lower dimensional vector space and represent text as a sequence of embedding vectors. More specifically, the input to a deep network is a sequence of one-hot encoded words. The mapping of words to embedding vectors happens within the first layer of the network, the **embedding layer**. You examples below. For now, the fact that the mapping is part of the network architecture means that our pre-processing consists of mapping the sequence of words in a review to one-hot-vectors. More precisely, we map the words to a **sequence of integer values**. That is more efficient. Knowing the size of our vocabulary, V, a one-hot-vector is a vector of V-1 zeros and a single value if one. We can encode that by an integer that tells us the index of the one in the one-hot vector. `Keras` provides this type of text preparation via the function `texts_to_sequences()`.  "
   ]
  },
  {
   "cell_type": "code",
   "execution_count": 127,
   "metadata": {
    "colab": {
     "base_uri": "https://localhost:8080/"
    },
    "executionInfo": {
     "elapsed": 699,
     "status": "ok",
     "timestamp": 1649251964958,
     "user": {
      "displayName": "Georg B",
      "userId": "16990759077565939430"
     },
     "user_tz": -120
    },
    "id": "sstydlScUwst",
    "outputId": "66dd4668-b99c-4ab0-b57f-7d59ac68ee6b"
   },
   "outputs": [
    {
     "name": "stdout",
     "output_type": "stream",
     "text": [
      "Type of result is:  <class 'list'>\n",
      "Length of our list:  3750\n"
     ]
    }
   ],
   "source": [
    "# Convert training set reviews to sequences of integer values\n",
    "X_tr_int = tok.texts_to_sequences(X_train)\n",
    "print('Type of result is: ', type(X_tr_int))\n",
    "print('Length of our list: ', len(X_tr_int))"
   ]
  },
  {
   "cell_type": "code",
   "execution_count": 128,
   "metadata": {
    "colab": {
     "base_uri": "https://localhost:8080/"
    },
    "executionInfo": {
     "elapsed": 425,
     "status": "ok",
     "timestamp": 1649251975361,
     "user": {
      "displayName": "Georg B",
      "userId": "16990759077565939430"
     },
     "user_tz": -120
    },
    "id": "l6J82UvnUwsw",
    "outputId": "fc329af6-0a67-440c-a8d1-80ff8e2cb335"
   },
   "outputs": [
    {
     "data": {
      "text/plain": [
       "[40, 223, 1473, 2202, 1, 326, 867, 2, 28]"
      ]
     },
     "execution_count": 128,
     "metadata": {},
     "output_type": "execute_result"
    }
   ],
   "source": [
    "X_tr_int[0][:9]"
   ]
  },
  {
   "cell_type": "markdown",
   "metadata": {
    "id": "u2vtdwJCUws0"
   },
   "source": [
    "We can convert-back the integers to words using the methods of the fitted tokenizer as follows:"
   ]
  },
  {
   "cell_type": "code",
   "execution_count": 129,
   "metadata": {
    "colab": {
     "base_uri": "https://localhost:8080/"
    },
    "executionInfo": {
     "elapsed": 212,
     "status": "ok",
     "timestamp": 1649251989960,
     "user": {
      "displayName": "Georg B",
      "userId": "16990759077565939430"
     },
     "user_tz": -120
    },
    "id": "_X0S7f2fUws1",
    "outputId": "af812263-4c68-4d00-d353-b17188c4fba5"
   },
   "outputs": [
    {
     "data": {
      "text/plain": [
       "['life',\n",
       " 'understand',\n",
       " 'blind',\n",
       " 'hype',\n",
       " 1,\n",
       " 'totally',\n",
       " 'unbelievable',\n",
       " 'movie',\n",
       " 'think']"
      ]
     },
     "execution_count": 129,
     "metadata": {},
     "output_type": "execute_result"
    }
   ],
   "source": [
    "demo = [tok.index_word[token] for token in X_tr_int[0][:9]]\n",
    "demo"
   ]
  },
  {
   "cell_type": "markdown",
   "metadata": {
    "id": "hQ0m-X_1Uws6"
   },
   "source": [
    "And again back to integers... "
   ]
  },
  {
   "cell_type": "code",
   "execution_count": 130,
   "metadata": {
    "colab": {
     "base_uri": "https://localhost:8080/"
    },
    "executionInfo": {
     "elapsed": 218,
     "status": "ok",
     "timestamp": 1649251993516,
     "user": {
      "displayName": "Georg B",
      "userId": "16990759077565939430"
     },
     "user_tz": -120
    },
    "id": "uoJ3CCMQUws6",
    "outputId": "7dd3a755-24a3-4078-b582-cac616e60f6a"
   },
   "outputs": [
    {
     "data": {
      "text/plain": [
       "[40, 223, 1473, 2202, 1, 326, 867, 2, 28]"
      ]
     },
     "execution_count": 130,
     "metadata": {},
     "output_type": "execute_result"
    }
   ],
   "source": [
    "[tok.word_index[token] for token in demo]"
   ]
  },
  {
   "cell_type": "markdown",
   "metadata": {
    "id": "8gaH4l2aUws8"
   },
   "source": [
    "Two remarks are appropriate at this point. First,  `text_to_sequences()` also randomizes the data. Therefore, when looking at the first training example, it is again a different example (review) compared to the one that was in the first position after calling `text_to_matrix()`. So don't be confused to see another text. Second, the mapping from words to integers in `Keras` uses a *hashing function* and this function does not guarantee that words get mapped to unique integers. Collisions are possible. You can check the `Keras` documentations for details; simply search for *hashing trick*. It is not dramatically important at this point but when you play with codes like the above, mapping words to integers and than back to words, and back to integer, you might realize some odd behavior of different words getting mapped to the same integer. Show you ever observe such behavior, now you know it's coming from the hashing trick. \n",
    "\n",
    "The data is almost ready. However, the `Keras` layers that we will use later expect the input data to have a fixed, pre-defined shape. Our reviews differ substantially in length. So, the next task on our todo list is to pad the reviews and ensure a consistent sequence length. We could consider artificially making every review as long as the longest one. This way, we would not lose any data.  "
   ]
  },
  {
   "cell_type": "code",
   "execution_count": 131,
   "metadata": {
    "colab": {
     "base_uri": "https://localhost:8080/"
    },
    "executionInfo": {
     "elapsed": 228,
     "status": "ok",
     "timestamp": 1649252096617,
     "user": {
      "displayName": "Georg B",
      "userId": "16990759077565939430"
     },
     "user_tz": -120
    },
    "id": "RIdIvUqmUws9",
    "outputId": "3160f5a2-9b63-4291-cce4-beae880eb564"
   },
   "outputs": [
    {
     "name": "stdout",
     "output_type": "stream",
     "text": [
      "The longest review of the training set has 544 words.\n"
     ]
    }
   ],
   "source": [
    "# Determine the maximum review length in the training set\n",
    "max_review_length = max([len(review) for review in X_tr_int])\n",
    "print('The longest review of the training set has {} words.'.format(max_review_length))"
   ]
  },
  {
   "cell_type": "markdown",
   "metadata": {
    "id": "tGoAqrYUUwtA"
   },
   "source": [
    "Standard practice in NLP is to embed words in a vector space. Considering an embedding dimension of, e.g., 100, each word in the input data (i.e., review) will be mapped to a 100 dim vector. Working with a large embedding dimension and long sequences will result in slow training. Since we care more about illustrating concepts than building the best possible sentiment classifier, we will set an upper bound on the text length and pad reviews accordingly. All reviews that are shorter than our upper bound will be padded with zeros. Longer reviews will be truncated. In practice, you would need to experiment carefully whether and how much truncating the data hurts performance. "
   ]
  },
  {
   "cell_type": "code",
   "execution_count": 133,
   "metadata": {
    "executionInfo": {
     "elapsed": 269,
     "status": "ok",
     "timestamp": 1649252147771,
     "user": {
      "displayName": "Georg B",
      "userId": "16990759077565939430"
     },
     "user_tz": -120
    },
    "id": "bErWbOF4UwtB"
   },
   "outputs": [],
   "source": [
    "# Upper bound of the review length for padding\n",
    "from keras.preprocessing.sequence import pad_sequences\n",
    "MAX_REVIEW_LENGTH = 400\n",
    "\n",
    "X_tr_int_pad = pad_sequences(X_tr_int, MAX_REVIEW_LENGTH)"
   ]
  },
  {
   "cell_type": "code",
   "execution_count": 134,
   "metadata": {
    "colab": {
     "base_uri": "https://localhost:8080/"
    },
    "executionInfo": {
     "elapsed": 7,
     "status": "ok",
     "timestamp": 1649252147998,
     "user": {
      "displayName": "Georg B",
      "userId": "16990759077565939430"
     },
     "user_tz": -120
    },
    "id": "PJ4cMkLWkckV",
    "outputId": "1c9d4e4e-4183-467d-c975-2c9a75de2fba"
   },
   "outputs": [
    {
     "data": {
      "text/plain": [
       "(3750, 400)"
      ]
     },
     "execution_count": 134,
     "metadata": {},
     "output_type": "execute_result"
    }
   ],
   "source": [
    "X_tr_int_pad.shape"
   ]
  },
  {
   "cell_type": "markdown",
   "metadata": {
    "id": "qjijLI9qUwtE"
   },
   "source": [
    "So far, we dealt only with the training data. So it is about time to also process the test data."
   ]
  },
  {
   "cell_type": "code",
   "execution_count": 135,
   "metadata": {
    "executionInfo": {
     "elapsed": 351,
     "status": "ok",
     "timestamp": 1649252158330,
     "user": {
      "displayName": "Georg B",
      "userId": "16990759077565939430"
     },
     "user_tz": -120
    },
    "id": "KSXpWcUDUwtF"
   },
   "outputs": [],
   "source": [
    "# Encode and pad the test data\n",
    "X_ts_int = tok.texts_to_sequences(X_test)  # Due to oov_token argument, new words will be mapped to 1\n",
    "X_ts_int_pad = pad_sequences(X_ts_int, MAX_REVIEW_LENGTH)"
   ]
  },
  {
   "cell_type": "code",
   "execution_count": 136,
   "metadata": {
    "colab": {
     "base_uri": "https://localhost:8080/"
    },
    "executionInfo": {
     "elapsed": 6,
     "status": "ok",
     "timestamp": 1649252159875,
     "user": {
      "displayName": "Georg B",
      "userId": "16990759077565939430"
     },
     "user_tz": -120
    },
    "id": "25ZHWmr-UwtH",
    "outputId": "9201b4f7-1737-4290-9e78-dde6ea2515c6"
   },
   "outputs": [
    {
     "data": {
      "text/plain": [
       "((3750, 400), (3750,), (1250, 400), (1250,))"
      ]
     },
     "execution_count": 136,
     "metadata": {},
     "output_type": "execute_result"
    }
   ],
   "source": [
    "# Structure of the prepared training and test data\n",
    "X_tr_int_pad.shape, y_train.shape, X_ts_int_pad.shape, y_test.shape"
   ]
  },
  {
   "cell_type": "markdown",
   "metadata": {
    "id": "xEMEgAr_UwtL"
   },
   "source": [
    "Well done. Time to build some models. We will save the data representations for future use.\n"
   ]
  },
  {
   "cell_type": "code",
   "execution_count": 146,
   "metadata": {
    "executionInfo": {
     "elapsed": 255,
     "status": "ok",
     "timestamp": 1649252453476,
     "user": {
      "displayName": "Georg B",
      "userId": "16990759077565939430"
     },
     "user_tz": -120
    },
    "id": "6RP9h1N1Gx8o"
   },
   "outputs": [],
   "source": [
    "import os\n",
    "os.chdir(DATA_DIR)"
   ]
  },
  {
   "cell_type": "code",
   "execution_count": 162,
   "metadata": {
    "executionInfo": {
     "elapsed": 601,
     "status": "ok",
     "timestamp": 1649252776653,
     "user": {
      "displayName": "Georg B",
      "userId": "16990759077565939430"
     },
     "user_tz": -120
    },
    "id": "cKn4w5OGFuhX"
   },
   "outputs": [],
   "source": [
    "with open('bow_representation.npy', 'wb') as f:\n",
    "    np.save(f, X_train_bow)\n",
    "    np.save(f, X_test_bow)"
   ]
  },
  {
   "cell_type": "code",
   "execution_count": 163,
   "metadata": {
    "executionInfo": {
     "elapsed": 249,
     "status": "ok",
     "timestamp": 1649252776898,
     "user": {
      "displayName": "Georg B",
      "userId": "16990759077565939430"
     },
     "user_tz": -120
    },
    "id": "xWiQIxVWHTCt"
   },
   "outputs": [],
   "source": [
    "with open('embedding_representation.npy', 'wb') as f:\n",
    "    np.save(f, X_tr_int_pad)\n",
    "    np.save(f, y_train)\n",
    "    np.save(f, X_ts_int_pad)\n",
    "    np.save(f, y_test)"
   ]
  },
  {
   "cell_type": "code",
   "execution_count": 164,
   "metadata": {
    "executionInfo": {
     "elapsed": 227,
     "status": "ok",
     "timestamp": 1649252777122,
     "user": {
      "displayName": "Georg B",
      "userId": "16990759077565939430"
     },
     "user_tz": -120
    },
    "id": "8UAIzaCsGs0R"
   },
   "outputs": [],
   "source": [
    "with open('bow_representation.npy', 'rb') as f:\n",
    "    X_train_bow = np.load(f)\n",
    "    X_test_bow = np.load(f)"
   ]
  },
  {
   "cell_type": "code",
   "execution_count": 170,
   "metadata": {
    "executionInfo": {
     "elapsed": 394,
     "status": "ok",
     "timestamp": 1649252856285,
     "user": {
      "displayName": "Georg B",
      "userId": "16990759077565939430"
     },
     "user_tz": -120
    },
    "id": "S1uRovTDH5-s"
   },
   "outputs": [],
   "source": [
    "with open('embedding_representation.npy', 'rb') as f:\n",
    "    X_tr_int_pad = np.load(f)\n",
    "    y_train = np.load(f)\n",
    "    X_ts_int_pad = np.load(f)\n",
    "    y_test = np.load(f)"
   ]
  },
  {
   "cell_type": "markdown",
   "metadata": {
    "id": "MJYJS4VUUwtM"
   },
   "source": [
    "<a id=\"senti\"></a>"
   ]
  },
  {
   "cell_type": "markdown",
   "metadata": {
    "id": "kR2EywWUUwtM"
   },
   "source": [
    "## 4. Sentiment classifiers\n",
    "Before building complex deep-learning based sentiment classifiers, we can estimate a simple linear model and use it as a benchmark. The code is basically the same as the one used in our second coding session on credit risk modeling the other day. This is because we have completed all necessary pre-processing steps. Form here on, the text data is just a matrix of numbers. Everything as usual."
   ]
  },
  {
   "cell_type": "markdown",
   "metadata": {
    "id": "vxQ5qMYjUwtM"
   },
   "source": [
    "<a id=\"lasso\"></a>"
   ]
  },
  {
   "cell_type": "markdown",
   "metadata": {
    "id": "WThUlZ3iUwtM"
   },
   "source": [
    "### 4.1 Linear model\n",
    "Given the high-dimensionality of the data set, which is characteristic for count-based word embeddings, we chose LASSO. We set the  argument solver of the linear model to `liblinear`, which is a highly efficient library for regularized linear models, which we can interface via scikit-learn. For simplicity, we do not bother with model selection. You could copy-paste code for grid-searching the regularization penalty from the notebook P.I.2 if you wish."
   ]
  },
  {
   "cell_type": "code",
   "execution_count": 171,
   "metadata": {
    "colab": {
     "base_uri": "https://localhost:8080/",
     "height": 297
    },
    "executionInfo": {
     "elapsed": 986,
     "status": "ok",
     "timestamp": 1649252974154,
     "user": {
      "displayName": "Georg B",
      "userId": "16990759077565939430"
     },
     "user_tz": -120
    },
    "id": "BXROccdgUwtN",
    "outputId": "facac100-5335-4c25-a21b-2cc80f6b2bcf"
   },
   "outputs": [
    {
     "data": {
      "image/png": "[encoded data removed]",
      "text/plain": [
       "<Figure size 432x288 with 1 Axes>"
      ]
     },
     "metadata": {
      "needs_background": "light"
     },
     "output_type": "display_data"
    },
    {
     "name": "stdout",
     "output_type": "stream",
     "text": [
      "LASSO sentiment classifier:\tAUC=0.9151\tAccuracy=0.8488\n"
     ]
    }
   ],
   "source": [
    "# Estimate LASSO model\n",
    "from sklearn.linear_model import LogisticRegression\n",
    "\n",
    "classifier = LogisticRegression(solver=\"liblinear\", penalty='l1', )\n",
    "classifier.fit(X_train_bow, y_train)\n",
    "yhat = classifier.predict_proba(X_test_bow)[:,1]  # output is probability of both classes\n",
    "\n",
    "# Compute performance\n",
    "auc, acc, cmat = assess_sentiment_classifier(y_test, yhat)\n",
    "print(\"LASSO sentiment classifier:\\tAUC={:.4f}\\tAccuracy={:.4f}\".format(auc, acc))\n",
    "\n",
    "# Add results to our data frame to keep track of results\n",
    "df_scores['LASSO'] = [acc, auc]"
   ]
  },
  {
   "cell_type": "code",
   "execution_count": 172,
   "metadata": {
    "colab": {
     "base_uri": "https://localhost:8080/",
     "height": 112
    },
    "executionInfo": {
     "elapsed": 320,
     "status": "ok",
     "timestamp": 1649252977896,
     "user": {
      "displayName": "Georg B",
      "userId": "16990759077565939430"
     },
     "user_tz": -120
    },
    "id": "AtbnjzkFlsCf",
    "outputId": "1a379ee6-cdec-4d3e-bf5b-9d3d6ecaee2a"
   },
   "outputs": [
    {
     "data": {
      "text/html": [
       "\n",
       "  <div id=\"df-ab5c7b1d-f66a-4399-bf89-217fbc2368c9\">\n",
       "    <div class=\"colab-df-container\">\n",
       "      <div>\n",
       "<style scoped>\n",
       "    .dataframe tbody tr th:only-of-type {\n",
       "        vertical-align: middle;\n",
       "    }\n",
       "\n",
       "    .dataframe tbody tr th {\n",
       "        vertical-align: top;\n",
       "    }\n",
       "\n",
       "    .dataframe thead th {\n",
       "        text-align: right;\n",
       "    }\n",
       "</style>\n",
       "<table border=\"1\" class=\"dataframe\">\n",
       "  <thead>\n",
       "    <tr style=\"text-align: right;\">\n",
       "      <th></th>\n",
       "      <th>Lexicon</th>\n",
       "      <th>LASSO</th>\n",
       "    </tr>\n",
       "  </thead>\n",
       "  <tbody>\n",
       "    <tr>\n",
       "      <th>Acc</th>\n",
       "      <td>0.651200</td>\n",
       "      <td>0.848800</td>\n",
       "    </tr>\n",
       "    <tr>\n",
       "      <th>AUC</th>\n",
       "      <td>0.736553</td>\n",
       "      <td>0.915056</td>\n",
       "    </tr>\n",
       "  </tbody>\n",
       "</table>\n",
       "</div>\n",
       "      <button class=\"colab-df-convert\" onclick=\"convertToInteractive('df-ab5c7b1d-f66a-4399-bf89-217fbc2368c9')\"\n",
       "              title=\"Convert this dataframe to an interactive table.\"\n",
       "              style=\"display:none;\">\n",
       "        \n",
       "  <svg xmlns=\"http://www.w3.org/2000/svg\" height=\"24px\"viewBox=\"0 0 24 24\"\n",
       "       width=\"24px\">\n",
       "    <path d=\"M0 0h24v24H0V0z\" fill=\"none\"/>\n",
       "    <path d=\"M18.56 5.44l.94 2.06.94-2.06 2.06-.94-2.06-.94-.94-2.06-.94 2.06-2.06.94zm-11 1L8.5 8.5l.94-2.06 2.06-.94-2.06-.94L8.5 2.5l-.94 2.06-2.06.94zm10 10l.94 2.06.94-2.06 2.06-.94-2.06-.94-.94-2.06-.94 2.06-2.06.94z\"/><path d=\"M17.41 7.96l-1.37-1.37c-.4-.4-.92-.59-1.43-.59-.52 0-1.04.2-1.43.59L10.3 9.45l-7.72 7.72c-.78.78-.78 2.05 0 2.83L4 21.41c.39.39.9.59 1.41.59.51 0 1.02-.2 1.41-.59l7.78-7.78 2.81-2.81c.8-.78.8-2.07 0-2.86zM5.41 20L4 18.59l7.72-7.72 1.47 1.35L5.41 20z\"/>\n",
       "  </svg>\n",
       "      </button>\n",
       "      \n",
       "  <style>\n",
       "    .colab-df-container {\n",
       "      display:flex;\n",
       "      flex-wrap:wrap;\n",
       "      gap: 12px;\n",
       "    }\n",
       "\n",
       "    .colab-df-convert {\n",
       "      background-color: #E8F0FE;\n",
       "      border: none;\n",
       "      border-radius: 50%;\n",
       "      cursor: pointer;\n",
       "      display: none;\n",
       "      fill: #1967D2;\n",
       "      height: 32px;\n",
       "      padding: 0 0 0 0;\n",
       "      width: 32px;\n",
       "    }\n",
       "\n",
       "    .colab-df-convert:hover {\n",
       "      background-color: #E2EBFA;\n",
       "      box-shadow: 0px 1px 2px rgba(60, 64, 67, 0.3), 0px 1px 3px 1px rgba(60, 64, 67, 0.15);\n",
       "      fill: #174EA6;\n",
       "    }\n",
       "\n",
       "    [theme=dark] .colab-df-convert {\n",
       "      background-color: #3B4455;\n",
       "      fill: #D2E3FC;\n",
       "    }\n",
       "\n",
       "    [theme=dark] .colab-df-convert:hover {\n",
       "      background-color: #434B5C;\n",
       "      box-shadow: 0px 1px 3px 1px rgba(0, 0, 0, 0.15);\n",
       "      filter: drop-shadow(0px 1px 2px rgba(0, 0, 0, 0.3));\n",
       "      fill: #FFFFFF;\n",
       "    }\n",
       "  </style>\n",
       "\n",
       "      <script>\n",
       "        const buttonEl =\n",
       "          document.querySelector('#df-ab5c7b1d-f66a-4399-bf89-217fbc2368c9 button.colab-df-convert');\n",
       "        buttonEl.style.display =\n",
       "          google.colab.kernel.accessAllowed ? 'block' : 'none';\n",
       "\n",
       "        async function convertToInteractive(key) {\n",
       "          const element = document.querySelector('#df-ab5c7b1d-f66a-4399-bf89-217fbc2368c9');\n",
       "          const dataTable =\n",
       "            await google.colab.kernel.invokeFunction('convertToInteractive',\n",
       "                                                     [key], {});\n",
       "          if (!dataTable) return;\n",
       "\n",
       "          const docLinkHtml = 'Like what you see? Visit the ' +\n",
       "            '<a target=\"_blank\" href=https://colab.research.google.com/notebooks/data_table.ipynb>data table notebook</a>'\n",
       "            + ' to learn more about interactive tables.';\n",
       "          element.innerHTML = '';\n",
       "          dataTable['output_type'] = 'display_data';\n",
       "          await google.colab.output.renderOutput(dataTable, element);\n",
       "          const docLink = document.createElement('div');\n",
       "          docLink.innerHTML = docLinkHtml;\n",
       "          element.appendChild(docLink);\n",
       "        }\n",
       "      </script>\n",
       "    </div>\n",
       "  </div>\n",
       "  "
      ],
      "text/plain": [
       "      Lexicon     LASSO\n",
       "Acc  0.651200  0.848800\n",
       "AUC  0.736553  0.915056"
      ]
     },
     "execution_count": 172,
     "metadata": {},
     "output_type": "execute_result"
    }
   ],
   "source": [
    "df_scores"
   ]
  },
  {
   "cell_type": "markdown",
   "metadata": {
    "id": "vXVEcr-mUwtP"
   },
   "source": [
    "Very strong performance. It will be hard (spoiler alert: impossible) to beat that benchmark with deep learning. It is a good exercise to think why the linear model performs so well. Critic is easy: no notion of word order, just using counts as feature values, only linear patterns... but AUC equal and above 0.9 speaks for itself. **Why do you think is the result so strong?**"
   ]
  },
  {
   "cell_type": "code",
   "execution_count": 173,
   "metadata": {
    "colab": {
     "base_uri": "https://localhost:8080/"
    },
    "executionInfo": {
     "elapsed": 211,
     "status": "ok",
     "timestamp": 1649252984045,
     "user": {
      "displayName": "Georg B",
      "userId": "16990759077565939430"
     },
     "user_tz": -120
    },
    "id": "yuaQzeVSdzSV",
    "outputId": "97419ada-6c8b-49ca-b964-7730449bbe9e"
   },
   "outputs": [
    {
     "data": {
      "text/plain": [
       "2968"
      ]
     },
     "execution_count": 173,
     "metadata": {},
     "output_type": "execute_result"
    }
   ],
   "source": [
    "# Clean up memory \n",
    "import gc\n",
    "\n",
    "X_train_bow = None\n",
    "X_test_bow = None\n",
    "\n",
    "gc.collect()"
   ]
  },
  {
   "cell_type": "markdown",
   "metadata": {
    "id": "IYvK9ysyUwtP"
   },
   "source": [
    "<a id=\"gru\"></a>"
   ]
  },
  {
   "cell_type": "markdown",
   "metadata": {
    "id": "0Gz7LizpUwtQ"
   },
   "source": [
    "### 4.2 Deep learning-based text classifiers\n",
    "If we can use LASSO, we can also use a neural network for sentiment prediction. Session P.II.1 provided us with some flavor developing deep networks in `Keras`. The following part will provide many more examples. They will also introduce us to using recurrent and bidirectional architectures. Luckily, `Keras` makes using these fairly sophisticated neural networks relatively easy. Since our data is already of the right form, that is a sequence of integer, we can start right away and without further preparation with building networks.  "
   ]
  },
  {
   "cell_type": "markdown",
   "metadata": {
    "id": "5JiLqEiqUwtR"
   },
   "source": [
    "#### Embedding layers\n",
    "When it comes to textual data, a crucial part of the architecture of a neural network is the **embedding layer**. `Keras` embedding layers support two use cases:\n",
    "* Learning an embedding as part of network training\n",
    "* Using pre-trained embeddings\n",
    "\n",
    "We will illustrate both use cases in the reminder. "
   ]
  },
  {
   "cell_type": "code",
   "execution_count": 174,
   "metadata": {
    "executionInfo": {
     "elapsed": 312,
     "status": "ok",
     "timestamp": 1649252993608,
     "user": {
      "displayName": "Georg B",
      "userId": "16990759077565939430"
     },
     "user_tz": -120
    },
    "id": "0NqvyJv-UwtR"
   },
   "outputs": [],
   "source": [
    "from keras.models import Sequential\n",
    "from keras.layers import Dense, Embedding, GRU, Flatten\n",
    "from keras.initializers import Constant"
   ]
  },
  {
   "cell_type": "markdown",
   "metadata": {
    "id": "1T8l3bfwUwtT"
   },
   "source": [
    "An Embedding is the entry point (i.e., first hidden layer) to a NN for text processing. When creating an embedding layer, you have to specify three arguments:\n",
    "\n",
    "* input_dim: This is the size of our vocabulary\n",
    "* output_dim: This is the embedding dimension, or, put differently the size of our word vectors\n",
    "* input_length: This is the length of our input sequences, i.e., the length of the reviews in words\n",
    "\n",
    "Knowing that these inputs are crucial further clarifies some previous steps, for example, why we had using padding to ensure a consistent length across all reviews."
   ]
  },
  {
   "cell_type": "code",
   "execution_count": 175,
   "metadata": {
    "executionInfo": {
     "elapsed": 4,
     "status": "ok",
     "timestamp": 1649252996396,
     "user": {
      "displayName": "Georg B",
      "userId": "16990759077565939430"
     },
     "user_tz": -120
    },
    "id": "NsKB4kx2UwtU"
   },
   "outputs": [],
   "source": [
    "# Some variables to centralize the configuration of deep learning models\n",
    "NB_HIDDEN = 16        # Hidden nodes / state in fedforward / recurrent NNs\n",
    "EPOCH = 5             # Passes through the entire data set \n",
    "BATCH_SIZE = 64 #128  # Batch size\n",
    "EMBEDDING_DIM = 50    # Embedding dimension\n",
    "VAL_SPLIT = 0.25      # fraction of the training set used for validation"
   ]
  },
  {
   "cell_type": "markdown",
   "metadata": {
    "id": "cDmP5S8GUwtV"
   },
   "source": [
    "With these settings, we can create our embedding layer as follows:"
   ]
  },
  {
   "cell_type": "code",
   "execution_count": 176,
   "metadata": {
    "executionInfo": {
     "elapsed": 220,
     "status": "ok",
     "timestamp": 1649252998003,
     "user": {
      "displayName": "Georg B",
      "userId": "16990759077565939430"
     },
     "user_tz": -120
    },
    "id": "nQRk-QDfUwtV"
   },
   "outputs": [],
   "source": [
    "# Create an embedding layer\n",
    "emb_layer = Embedding(input_dim=NUM_WORDS, output_dim=EMBEDDING_DIM, input_length=MAX_REVIEW_LENGTH)"
   ]
  },
  {
   "cell_type": "markdown",
   "metadata": {
    "id": "nmr97W3hUwtY"
   },
   "source": [
    "#### Model 1: Feed-forward neural network\n",
    "\n",
    "Once we have an embedding layer, we can move and stack other layers on top of it. Let's first illustrate that approach with a simple feed-forward network. Importantly, the output of the embedding layer will be a matrix: one vector of size equal to the embedding dimension for each word in the input sequence. If we add a fully-connected (**dense**) layer on top of that, we need to **flatten** the output. If the length of a review is 6 and the embedding dimension is 8, then flattening means that we create a 6x8=42 dimension vector, which represents the input to the dense layer."
   ]
  },
  {
   "cell_type": "code",
   "execution_count": 177,
   "metadata": {
    "colab": {
     "base_uri": "https://localhost:8080/"
    },
    "executionInfo": {
     "elapsed": 3475,
     "status": "ok",
     "timestamp": 1649253004395,
     "user": {
      "displayName": "Georg B",
      "userId": "16990759077565939430"
     },
     "user_tz": -120
    },
    "id": "iDcdIwELUwtY",
    "outputId": "9efc9300-a856-40be-a297-fac73a523134"
   },
   "outputs": [
    {
     "name": "stdout",
     "output_type": "stream",
     "text": [
      "Model: \"sequential\"\n",
      "_________________________________________________________________\n",
      " Layer (type)                Output Shape              Param #   \n",
      "=================================================================\n",
      " embedding (Embedding)       (None, 400, 50)           125000    \n",
      "                                                                 \n",
      " flatten (Flatten)           (None, 20000)             0         \n",
      "                                                                 \n",
      " dense (Dense)               (None, 16)                320016    \n",
      "                                                                 \n",
      " dense_1 (Dense)             (None, 1)                 17        \n",
      "                                                                 \n",
      "=================================================================\n",
      "Total params: 445,033\n",
      "Trainable params: 445,033\n",
      "Non-trainable params: 0\n",
      "_________________________________________________________________\n",
      "None\n"
     ]
    }
   ],
   "source": [
    "\n",
    "# Feed-forward neural network\n",
    "fnn = Sequential()\n",
    "fnn.add(emb_layer)                           # embedding layer\n",
    "fnn.add(Flatten())                           # flattening layer (to ensure compliance with the input of the next layer)\n",
    "fnn.add(Dense(NB_HIDDEN, activation='relu')) # fully-connected layer\n",
    "fnn.add(Dense(1, activation='sigmoid'))      # output layer (one unit with sigmoid activation of binary classification)\n",
    "\n",
    "# compile the model\n",
    "fnn.compile(optimizer='adam', loss='binary_crossentropy', metrics=['accuracy'])\n",
    "# summarize the model\n",
    "print(fnn.summary())"
   ]
  },
  {
   "cell_type": "code",
   "execution_count": 178,
   "metadata": {
    "colab": {
     "base_uri": "https://localhost:8080/"
    },
    "executionInfo": {
     "elapsed": 207,
     "status": "ok",
     "timestamp": 1649253009198,
     "user": {
      "displayName": "Georg B",
      "userId": "16990759077565939430"
     },
     "user_tz": -120
    },
    "id": "k4gU59wTUwta",
    "outputId": "a0b21eb1-05f1-41bf-bb36-9d0ad36d7861"
   },
   "outputs": [
    {
     "name": "stdout",
     "output_type": "stream",
     "text": [
      "Embedding layer parameters: 125000\n",
      "Flatten layer output shape: 20000\n",
      "Dense layer parameters: 320016\n"
     ]
    }
   ],
   "source": [
    "# Just for fun, let's recalculate the number of parameters\n",
    "print('Embedding layer parameters: {}'.format(NUM_WORDS * EMBEDDING_DIM))\n",
    "print('Flatten layer output shape: {}'.format(MAX_REVIEW_LENGTH * EMBEDDING_DIM))\n",
    "print('Dense layer parameters: {}'.format(NB_HIDDEN * (MAX_REVIEW_LENGTH * EMBEDDING_DIM)+ NB_HIDDEN))"
   ]
  },
  {
   "cell_type": "code",
   "execution_count": 179,
   "metadata": {
    "colab": {
     "base_uri": "https://localhost:8080/"
    },
    "executionInfo": {
     "elapsed": 6306,
     "status": "ok",
     "timestamp": 1649253018496,
     "user": {
      "displayName": "Georg B",
      "userId": "16990759077565939430"
     },
     "user_tz": -120
    },
    "id": "w0RRlN6cUwtd",
    "outputId": "dcd30128-3546-4330-a920-4eb9d86f24ac"
   },
   "outputs": [
    {
     "name": "stdout",
     "output_type": "stream",
     "text": [
      "Epoch 1/5\n",
      "44/44 [==============================] - 4s 14ms/step - loss: 0.6972 - accuracy: 0.5128 - val_loss: 0.6880 - val_accuracy: 0.5192\n",
      "Epoch 2/5\n",
      "44/44 [==============================] - 0s 10ms/step - loss: 0.5924 - accuracy: 0.7546 - val_loss: 0.5184 - val_accuracy: 0.7559\n",
      "Epoch 3/5\n",
      "44/44 [==============================] - 0s 9ms/step - loss: 0.2470 - accuracy: 0.9299 - val_loss: 0.3753 - val_accuracy: 0.8454\n",
      "Epoch 4/5\n",
      "44/44 [==============================] - 0s 9ms/step - loss: 0.0732 - accuracy: 0.9925 - val_loss: 0.3607 - val_accuracy: 0.8412\n",
      "Epoch 5/5\n",
      "44/44 [==============================] - 0s 10ms/step - loss: 0.0275 - accuracy: 0.9989 - val_loss: 0.3720 - val_accuracy: 0.8369\n"
     ]
    }
   ],
   "source": [
    "# fitting the model\n",
    "story = fnn.fit(X_tr_int_pad, y_train, batch_size=BATCH_SIZE, epochs=EPOCH, validation_split=VAL_SPLIT)"
   ]
  },
  {
   "cell_type": "markdown",
   "metadata": {
    "id": "zodzjrLSUwtg"
   },
   "source": [
    "##### A little bit of infrastructure\n",
    "The FNN was the first model in a chain of models of increasing sophistication. Sounds promising doesn't it.\n",
    "Since we are about to train more and more networks, we should develop a little bit of infrastructure code to work with them. Specifically, for each network, we need to produce test set predictions. Also, we would like to examine the development of the loss during training; e.g., to judge whether increasing the number of epochs would make sense. Last, it would be useful to save trained models to disk. After all, we spent quite some time on training them to making a backup in case something goes wrong with out notebook makes a lot of sense. Let's develop some helpers for these tasks."
   ]
  },
  {
   "cell_type": "code",
   "execution_count": 180,
   "metadata": {
    "executionInfo": {
     "elapsed": 217,
     "status": "ok",
     "timestamp": 1649253023460,
     "user": {
      "displayName": "Georg B",
      "userId": "16990759077565939430"
     },
     "user_tz": -120
    },
    "id": "v2NJT4guUwtg"
   },
   "outputs": [],
   "source": [
    "def diag_nn(model, story, x_ts, y_ts, plot_roc=True, plot_loss=True):\n",
    "    ''' \n",
    "        Diagnose fitted keras models by plotting results from the\n",
    "        story (e.g., development of training loss) and calculating\n",
    "        classification performance (accuracy & AUC) on the test set\n",
    "    '''\n",
    "    \n",
    "    # Calculate test set predictions\n",
    "    yhat = model.predict(X_ts_int_pad)\n",
    "    \n",
    "    # Calling our helper for classifier evaluation\n",
    "    auc, acc, cmat = assess_sentiment_classifier(y_ts, yhat, cut_off=0.5, plot_roc=plot_roc)\n",
    "    print(\"NN test set performance:\\tAUC={:.4f}\\tAccuracy={:.4f}\".format(auc, acc))\n",
    "    print('Confusion matrix:')\n",
    "    print(cmat)\n",
    "\n",
    "    if plot_loss:\n",
    "        plt.plot(story.history['loss'])\n",
    "        plt.plot(story.history['val_loss'])\n",
    "        plt.title('loss evolution')\n",
    "        plt.ylabel('loss')\n",
    "        plt.xlabel('epoch')\n",
    "        plt.legend(['train', 'validation'], loc='upper left')\n",
    "        plt.show()\n",
    "    \n",
    "    return (auc, acc, cmat) "
   ]
  },
  {
   "cell_type": "code",
   "execution_count": 181,
   "metadata": {
    "colab": {
     "base_uri": "https://localhost:8080/",
     "height": 631
    },
    "executionInfo": {
     "elapsed": 941,
     "status": "ok",
     "timestamp": 1649253024611,
     "user": {
      "displayName": "Georg B",
      "userId": "16990759077565939430"
     },
     "user_tz": -120
    },
    "id": "JwrAjWZLUwti",
    "outputId": "97d50828-d72a-4100-b3ce-1864e50ba77b"
   },
   "outputs": [
    {
     "data": {
      "image/png": "[encoded data removed]",
      "text/plain": [
       "<Figure size 432x288 with 1 Axes>"
      ]
     },
     "metadata": {
      "needs_background": "light"
     },
     "output_type": "display_data"
    },
    {
     "name": "stdout",
     "output_type": "stream",
     "text": [
      "NN test set performance:\tAUC=0.9187\tAccuracy=0.8488\n",
      "Confusion matrix:\n",
      "[[533  99]\n",
      " [ 90 528]]\n"
     ]
    },
    {
     "data": {
      "image/png": "[encoded data removed]",
      "text/plain": [
       "<Figure size 432x288 with 1 Axes>"
      ]
     },
     "metadata": {
      "needs_background": "light"
     },
     "output_type": "display_data"
    }
   ],
   "source": [
    "# Assess the performance of the FFN\n",
    "auc, acc, _ = diag_nn(fnn, story, X_ts_int_pad, y_test, plot_roc=True, plot_loss=True)\n",
    "\n",
    "# Add results to our data frame to keep track of results\n",
    "df_scores['FFN'] = [acc, auc]"
   ]
  },
  {
   "cell_type": "markdown",
   "metadata": {
    "id": "YX8RqflUUwtk"
   },
   "source": [
    "##### Saving the model to disk\n",
    "Saving a model is easy. We wrap up the code in a helper function so that we can later store models with one line of code."
   ]
  },
  {
   "cell_type": "code",
   "execution_count": null,
   "metadata": {
    "id": "A14_ffUJUwtk"
   },
   "outputs": [],
   "source": [
    "# Helper function to save a trained model to disk\n",
    "def save_mode_to_disk(model, story, fname):\n",
    "    to_disk = (model, story) # what is to be saved\n",
    "\n",
    "    with open(fname, 'wb') as file_name:\n",
    "        pickle.dump(to_disk, file_name)"
   ]
  },
  {
   "cell_type": "code",
   "execution_count": null,
   "metadata": {
    "id": "URAB2TWiUwto"
   },
   "outputs": [],
   "source": [
    "# Call the function to illustrate storing our FNN\n",
    "#save_mode_to_disk(fnn, story, 'fnn.pkl')"
   ]
  },
  {
   "cell_type": "markdown",
   "metadata": {
    "id": "j0OJB3BIUwtp"
   },
   "source": [
    "Just in case, this is how you could load a stored model from disk."
   ]
  },
  {
   "cell_type": "code",
   "execution_count": null,
   "metadata": {
    "id": "7y8w0J4vUwtr"
   },
   "outputs": [],
   "source": [
    "# Load from disk if needed \n",
    "#with open('fnn.pkl','rb') as file_name:\n",
    " #   model, story = pickle.load(file_name)"
   ]
  },
  {
   "cell_type": "markdown",
   "metadata": {
    "id": "AyZQChZjUwt4"
   },
   "source": [
    "#### Model 2: Recurrent neural network based on GRU \n",
    "If you felt that the lecture part on advanced RNNs with gated cells was a little complicated you will be pleased to see that using corresponding models is actually quite easy. <br>\n",
    "**Disclaimer** We do not promise good results to be easily obtained, but getting a GRU to work is not difficult. In fact, it is easy because we already have almost all we need in place. The following codes is almost identical with that of developing the FNN. \n",
    "<br>\n",
    "The only difference is that we use different layers to design a different type of NN, namely a GRU layer. We chose GRU over LSTM because training the former is faster. You can easily adjust the codes to build a LSTM. Simply exchange the type of RNN layer to LSTM. Done."
   ]
  },
  {
   "cell_type": "code",
   "execution_count": 182,
   "metadata": {
    "colab": {
     "base_uri": "https://localhost:8080/"
    },
    "executionInfo": {
     "elapsed": 701,
     "status": "ok",
     "timestamp": 1649253097824,
     "user": {
      "displayName": "Georg B",
      "userId": "16990759077565939430"
     },
     "user_tz": -120
    },
    "id": "SwyO7vEsUwt6",
    "outputId": "6fd9ef70-1609-4fcb-c98a-5ba536edf9ee"
   },
   "outputs": [
    {
     "name": "stdout",
     "output_type": "stream",
     "text": [
      "Model: \"sequential_1\"\n",
      "_________________________________________________________________\n",
      " Layer (type)                Output Shape              Param #   \n",
      "=================================================================\n",
      " embedding_1 (Embedding)     (None, 400, 50)           125000    \n",
      "                                                                 \n",
      " gru (GRU)                   (None, 16)                3264      \n",
      "                                                                 \n",
      " dense_2 (Dense)             (None, 1)                 17        \n",
      "                                                                 \n",
      "=================================================================\n",
      "Total params: 128,281\n",
      "Trainable params: 128,281\n",
      "Non-trainable params: 0\n",
      "_________________________________________________________________\n"
     ]
    }
   ],
   "source": [
    "# GRU text classifier\n",
    "gru = Sequential()                        \n",
    "gru.add( Embedding(input_dim=NUM_WORDS, output_dim=EMBEDDING_DIM, input_length=MAX_REVIEW_LENGTH) )\n",
    "gru.add( GRU(NB_HIDDEN) )       \n",
    "gru.add(Dense(1, activation=\"sigmoid\"))\n",
    "gru.compile(loss=\"binary_crossentropy\", optimizer=\"adam\", metrics=[\"accuracy\"])\n",
    "gru.summary()"
   ]
  },
  {
   "cell_type": "code",
   "execution_count": 183,
   "metadata": {
    "colab": {
     "base_uri": "https://localhost:8080/"
    },
    "executionInfo": {
     "elapsed": 23301,
     "status": "ok",
     "timestamp": 1649253122296,
     "user": {
      "displayName": "Georg B",
      "userId": "16990759077565939430"
     },
     "user_tz": -120
    },
    "id": "aLWnlXe1Uwt8",
    "outputId": "b3743504-8946-4323-ba23-c2f9653ebe6a"
   },
   "outputs": [
    {
     "name": "stdout",
     "output_type": "stream",
     "text": [
      "Epoch 1/5\n",
      "44/44 [==============================] - 8s 85ms/step - loss: 0.6894 - accuracy: 0.5505 - val_loss: 0.6822 - val_accuracy: 0.6322\n",
      "Epoch 2/5\n",
      "44/44 [==============================] - 3s 78ms/step - loss: 0.6217 - accuracy: 0.7678 - val_loss: 0.5248 - val_accuracy: 0.7409\n",
      "Epoch 3/5\n",
      "44/44 [==============================] - 3s 71ms/step - loss: 0.3661 - accuracy: 0.8531 - val_loss: 0.4426 - val_accuracy: 0.7953\n",
      "Epoch 4/5\n",
      "44/44 [==============================] - 3s 72ms/step - loss: 0.2659 - accuracy: 0.8947 - val_loss: 0.4489 - val_accuracy: 0.7868\n",
      "Epoch 5/5\n",
      "44/44 [==============================] - 3s 71ms/step - loss: 0.2098 - accuracy: 0.9278 - val_loss: 0.4659 - val_accuracy: 0.8038\n"
     ]
    }
   ],
   "source": [
    "story = gru.fit(X_tr_int_pad, y_train, batch_size=BATCH_SIZE, epochs=EPOCH, validation_split=VAL_SPLIT)"
   ]
  },
  {
   "cell_type": "markdown",
   "metadata": {
    "id": "OmVOdMk9Uwt_"
   },
   "source": [
    "Revisit the architecture of the GRU and note differences to our first model. We use a **GRU layer** instead of a dense layer. That was simple. Also note that we do not use a flattening layer in this architecture. This hints that the example might give a wrong picture in that it over-simplifies the use of RNNs. The fact that we do not need the flattening layer shows how the GRU layer expects a different input data structure than the dense layer. Specifically, the **expected input structure of RNN-type layers is a 3D tensor** of dimensions\n",
    "* Samples (batch size)\n",
    "* Features\n",
    "* Sequence length \n",
    "\n",
    "This is exactly the same data structure that the Embedding layer produces. This is why building the GRU was so easy. When you try building RNN-type networks for other types of data, e.g., to forecast time series, the steps will be a little different and maybe more difficult. Of course many good examples are available online and will guide you if needed. Here is a [good starting point](https://machinelearningmastery.com/time-series-prediction-lstm-recurrent-neural-networks-python-keras/). \n",
    "<br>\n",
    "Over all this talking about GRUs and how they are easy to hard to build, we have forgotten to assess our model. Let's do that and then look at another model."
   ]
  },
  {
   "cell_type": "code",
   "execution_count": 184,
   "metadata": {
    "colab": {
     "base_uri": "https://localhost:8080/",
     "height": 631
    },
    "executionInfo": {
     "elapsed": 2383,
     "status": "ok",
     "timestamp": 1649253129757,
     "user": {
      "displayName": "Georg B",
      "userId": "16990759077565939430"
     },
     "user_tz": -120
    },
    "id": "BmnudXGKUwuA",
    "outputId": "10922e2d-3ecd-48b0-f6a4-2e6727933feb"
   },
   "outputs": [
    {
     "data": {
      "image/png": "[encoded data removed]",
      "text/plain": [
       "<Figure size 432x288 with 1 Axes>"
      ]
     },
     "metadata": {
      "needs_background": "light"
     },
     "output_type": "display_data"
    },
    {
     "name": "stdout",
     "output_type": "stream",
     "text": [
      "NN test set performance:\tAUC=0.8773\tAccuracy=0.7976\n",
      "Confusion matrix:\n",
      "[[491 141]\n",
      " [112 506]]\n"
     ]
    },
    {
     "data": {
      "image/png": "[encoded data removed]",
      "text/plain": [
       "<Figure size 432x288 with 1 Axes>"
      ]
     },
     "metadata": {
      "needs_background": "light"
     },
     "output_type": "display_data"
    }
   ],
   "source": [
    "# Assessing the first GRU \n",
    "auc, acc, _ = diag_nn(gru, story, X_ts_int_pad, y_test, plot_roc=True, plot_loss=True)\n",
    "\n",
    "# Add results to our data frame to keep track of results\n",
    "df_scores['GRU'] = [acc, auc]\n",
    "\n",
    "# Store the model if you like\n",
    "# save_mode_to_disk(gru, story, 'gru.pkl')\n",
    "fnn = None\n",
    "gru = None"
   ]
  },
  {
   "cell_type": "markdown",
   "metadata": {
    "id": "7Nau2lsaUwuC"
   },
   "source": [
    "#### Model 3: GRU with pre-trained IMDB embeddings\n",
    "The previous models incorporated an embedding layer. However, training the weights of these layers, that is learning the word embeddings, was part of training the network. You can imagine that embeddings that you learn on-the-fly while training are different from embeddings that result from a model that is specifically designed to learn embeddings such as Word-to-Vec. Weights in Model 1 and Model 2  including the weights of the embedding matrix were trained to predict review sentiment. Word-to-Vec, on the other hand, solves a different prediction task related to the co-occurrences of words in a pre-defined context window. We have trained corresponding weights in the previous coding session P.II.2. It is about time to put these embeddings into action. Our next model will be similar to the previous one but use our own pre-trained IMDB embeddings resulting from applying the `Gensim` implementation of word-to-vec to our data.  "
   ]
  },
  {
   "cell_type": "markdown",
   "metadata": {
    "id": "7B2n5OrMUwuC"
   },
   "source": [
    "##### Loading pre-trained embeddings\n",
    "\n",
    "Let's start with loading the `Gensim` embeddings. A version is available in our shared folder. You could also train your own embeddings using the code from P.II.2."
   ]
  },
  {
   "cell_type": "code",
   "execution_count": 185,
   "metadata": {
    "colab": {
     "base_uri": "https://localhost:8080/"
    },
    "executionInfo": {
     "elapsed": 4164,
     "status": "ok",
     "timestamp": 1649253153915,
     "user": {
      "displayName": "Georg B",
      "userId": "16990759077565939430"
     },
     "user_tz": -120
    },
    "id": "UtZTAz3lUwuD",
    "outputId": "1d18c4af-e4b6-4abc-d32c-fa9d1ce56099"
   },
   "outputs": [
    {
     "name": "stdout",
     "output_type": "stream",
     "text": [
      "Loaded pre-trained embeddings for 84673 words in 4 sec.\n"
     ]
    }
   ],
   "source": [
    "# Load pretrained W2V embeddings obtained from the IMDB review data set\n",
    "from gensim.models import KeyedVectors\n",
    "from gensim.models.keyedvectors import Word2VecKeyedVectors\n",
    "start = time.time()\n",
    "imdb_index = KeyedVectors.load_word2vec_format(IMBD_EMBEDDINGS, binary=False)\n",
    "print('Loaded pre-trained embeddings for {} words in {:.0f} sec.'.format(len(imdb_index.vocab), time.time()-start))"
   ]
  },
  {
   "cell_type": "markdown",
   "metadata": {
    "id": "oB7HDPqZUwuF"
   },
   "source": [
    "Pre-trained embeddings are essentially just a bunch of numbers. Every word has its own bunch of numbers or, more formally, numeric representation. Needless to say, the numbers are supposed to carry meaning, capturing syntactic and semantic relationships between words, etc. The embeddings that we just loaded come in the form of a dictionary. In the dictionary, words serve as the key and the corresponding value is the pre-trained embedding of that word. Let's illustrate this using the word *movie* as an example.  "
   ]
  },
  {
   "cell_type": "code",
   "execution_count": 186,
   "metadata": {
    "colab": {
     "base_uri": "https://localhost:8080/"
    },
    "executionInfo": {
     "elapsed": 203,
     "status": "ok",
     "timestamp": 1649253155487,
     "user": {
      "displayName": "Georg B",
      "userId": "16990759077565939430"
     },
     "user_tz": -120
    },
    "id": "pAZOULlQUwuF",
    "outputId": "54d16bb6-d99c-4c68-97bb-b350d6f547cd"
   },
   "outputs": [
    {
     "data": {
      "text/plain": [
       "array([ 0.7612481 ,  2.588757  , -0.3764987 , -2.8939323 , -1.4530746 ,\n",
       "        0.57064056,  5.0046864 ,  2.4511678 ,  0.39107177,  2.9725516 ,\n",
       "       -1.5505047 ,  2.252089  ,  3.007392  , -0.05120307,  0.64426637,\n",
       "        0.11901888,  1.9940878 ,  0.91648424, -4.770548  , -0.54201263,\n",
       "       -0.830703  ,  0.9924998 ,  1.5281308 ,  2.4860294 ,  3.3722837 ,\n",
       "        2.6608186 ,  0.6867841 , -0.15950015, -2.913968  ,  0.72447944,\n",
       "        2.0283153 , -1.4980398 , -1.3125573 , -1.8642734 ,  2.7057734 ,\n",
       "        3.484435  , -0.45618966,  3.5294945 , -2.742185  , -0.03275586,\n",
       "        1.2772934 , -1.6928918 ,  0.5123393 ,  0.96911097,  5.7893376 ,\n",
       "       -2.0273097 ,  1.0009274 ,  0.16380659, -0.85746825, -4.292889  ],\n",
       "      dtype=float32)"
      ]
     },
     "execution_count": 186,
     "metadata": {},
     "output_type": "execute_result"
    }
   ],
   "source": [
    "imdb_index['movie']\n"
   ]
  },
  {
   "cell_type": "markdown",
   "metadata": {
    "id": "ixmHP9aAUwuH"
   },
   "source": [
    "Having loaded this type of dictionary, our next task is to look-up the embeddings for each of the words in our vocabulary. In simpler terms, for each word that we encounter in our text, we need to look-up its embedding. We will face the same task when working with Glove embeddings later. So let's wrap-up the code in a helper function, which we can reuse later."
   ]
  },
  {
   "cell_type": "code",
   "execution_count": 187,
   "metadata": {
    "executionInfo": {
     "elapsed": 210,
     "status": "ok",
     "timestamp": 1649253158263,
     "user": {
      "displayName": "Georg B",
      "userId": "16990759077565939430"
     },
     "user_tz": -120
    },
    "id": "5aVysQvsUwuI"
   },
   "outputs": [],
   "source": [
    "def get_embedding_matrix(tokenizer, pretrain, vocab_size, verbose=0):\n",
    "    '''\n",
    "        Helper function to construct an embedding matrix for \n",
    "        the focal corpus based on some pre-trained embeddings.\n",
    "    '''\n",
    "    \n",
    "    dim = 0\n",
    "    # We will use the function with different types of embeddings. Therefore, \n",
    "    # we need a condition to determine what is the right way of determining\n",
    "    # the embedding dimension. \n",
    "    if isinstance(pretrain, KeyedVectors) or isinstance(pretrain, Word2VecKeyedVectors):\n",
    "        dim = pretrain.vector_size        \n",
    "    elif isinstance(pretrain, dict):\n",
    "        dim = next(iter(pretrain.values())).shape[0]  # get embedding of an arbitrary word\n",
    "    else:\n",
    "        raise Exception('{} is not supported'.format(type(pretrain)))\n",
    "    \n",
    "    \n",
    "    # Initialize embedding matrix\n",
    "    emb_mat = np.zeros((vocab_size, dim))\n",
    "\n",
    "    # There will be some words in our corpus for which we lack a pre-trained embedding.\n",
    "    # In this tutorial, we will simply use a vector of zeros for such words. We also keep\n",
    "    # track of the words to do some debugging if needed\n",
    "    oov_words = []\n",
    "    # Below we use the tokenizer object that created our task vocabulary. This is crucial to ensure\n",
    "    # that the position of a words in our embedding matrix corresponds to its index in our integer\n",
    "    # encoded input data\n",
    "    v = len(tokenizer.word_index)\n",
    "    start = time.time()\n",
    "    print('Start embedding process for {} words.'.format(v), flush=True)\n",
    "    \n",
    "    for word, i in tokenizer.word_index.items():  \n",
    "        # try-catch together with a zero-initilaized embedding matrix achieves our rough fix for oov words\n",
    "        try:\n",
    "            emb_mat[i] = pretrain[word]\n",
    "        except:\n",
    "            oov_words.append(word)\n",
    "        # Some output that the method is still alive\n",
    "        if i % 5000 == 0 and verbose>0:    \n",
    "            print('{}/{} words in {} sec'.format(i, v, (time.time()-start)), flush=True)\n",
    "            \n",
    "            \n",
    "    print('Created embedding matrix of shape {} in {} min '.format(emb_mat.shape, (time.time()-start)/60))\n",
    "    \n",
    "    print('Encountered {} out-of-vocabulary words.'.format(len(oov_words)))\n",
    "    return (emb_mat, oov_words)"
   ]
  },
  {
   "cell_type": "markdown",
   "metadata": {
    "id": "N7PWK-__UwuK"
   },
   "source": [
    "A few more words on embeddings...\n",
    "\n",
    "At present, we use embeddings that were obtained from the same corpus, namely the IMDB movie review data set, as the one we are working with right now. That is not common. Typically, the pre-training was done on some other — much larger — corpora. Remember that the very purpose of using pre-trained embeddings is that we hope the pre-trained embeddings to embody some information about word relationships that also prove valuable for our task. The larger the pre-trainind corpus the better. That said, there are some pitfalls that we need to be aware of. For example, when working with two different corpora, that used for pre-training embeddings and that used in the target task, the pre-training corpus will include words that do not appear in our corpus. That is less of a problem. More important, however, our corpus might — and often will — include some words for which we lack an embedding. Addressing this issue in a satisfactory manner is out of the scope of this tutorial. Pre-training an embedding for unknown words is a way forward but not a silver bullet. We will simply apply a rough fix and map out-of-vocabulary words to an embedding vector of zeros. Last, and most importantly, a matrix of pre-trained embeddings functions like a lookup table. The Keras embedding layer will not compute a dot product between a one-hot encoded input word and the embedding matrix because this would be inefficient. Instead, Keras expects to find the embedding of a word with index i in the i'th row of the embedding matrix. Therefore, **it is critical that index of a word in our embedding matrix is the same as in our dictionary of word indices**. Remember that we represent words as integers and sentences as a sequence of integers. Assuming a fictious encoded sentence [2, 44, 21], it would be important that the embedding matrix stores the word vectors of the words, which were mapped to the numbers 2, 44, and 21, respectively, in row 2, 44, and 21, respectively. Make sure you convince yourself that our above helper function achieves this consistency.\n",
    "\n",
    "Having understood all these details, we can eventually create our embedding matrix using our helper function."
   ]
  },
  {
   "cell_type": "code",
   "execution_count": 188,
   "metadata": {
    "colab": {
     "base_uri": "https://localhost:8080/"
    },
    "executionInfo": {
     "elapsed": 201,
     "status": "ok",
     "timestamp": 1649253161910,
     "user": {
      "displayName": "Georg B",
      "userId": "16990759077565939430"
     },
     "user_tz": -120
    },
    "id": "h-FakgiFUwuK",
    "outputId": "f0888158-e8cd-4cc0-fd61-fa5e150385a8"
   },
   "outputs": [
    {
     "name": "stdout",
     "output_type": "stream",
     "text": [
      "Start embedding process for 25659 words.\n",
      "Created embedding matrix of shape (2500, 50) in 0.001755817731221517 min \n",
      "Encountered 23164 out-of-vocabulary words.\n"
     ]
    }
   ],
   "source": [
    "# Create embedding weight matrix\n",
    "imdb_embeddings, _ = get_embedding_matrix(tok, imdb_index, NUM_WORDS)"
   ]
  },
  {
   "cell_type": "markdown",
   "metadata": {
    "id": "fr7ww4gwUwuN"
   },
   "source": [
    "For illustration, let's have a look at the embedding of the word 'movie'."
   ]
  },
  {
   "cell_type": "code",
   "execution_count": 189,
   "metadata": {
    "colab": {
     "base_uri": "https://localhost:8080/"
    },
    "executionInfo": {
     "elapsed": 5,
     "status": "ok",
     "timestamp": 1649253164908,
     "user": {
      "displayName": "Georg B",
      "userId": "16990759077565939430"
     },
     "user_tz": -120
    },
    "id": "9o6zpV-_UwuN",
    "outputId": "f3103f0b-d966-42ba-8821-d4940e8a2192"
   },
   "outputs": [
    {
     "data": {
      "text/plain": [
       "array([-1.14071381e+00,  1.55112243e+00, -9.04137343e-02, -3.53086758e+00,\n",
       "       -1.37356579e-01,  7.48447895e-01,  3.45858312e+00,  2.29527497e+00,\n",
       "       -8.47306430e-01,  1.95473492e+00, -3.58025968e-01,  1.11521506e+00,\n",
       "        1.32924592e+00, -2.30138659e+00,  2.00823593e+00, -6.39126003e-01,\n",
       "       -3.08374822e-01, -1.56151488e-01, -2.19836450e+00, -4.58929628e-01,\n",
       "       -2.99951649e+00,  7.97328115e-01,  8.68684530e-01,  4.83525276e-01,\n",
       "        2.62234569e+00,  4.01253670e-01, -1.85707939e+00,  1.30567455e+00,\n",
       "       -4.75936264e-01, -1.88655436e-01,  4.68697697e-01, -2.29011011e+00,\n",
       "       -1.75936174e+00,  4.35063243e-02,  1.55074513e+00,  2.68932009e+00,\n",
       "        1.65595710e-01,  2.35038543e+00, -1.43280119e-01,  4.09373781e-03,\n",
       "        3.81480384e+00, -3.76817822e+00,  1.56072366e+00,  1.49178267e+00,\n",
       "        5.81174135e+00, -7.65375555e-01,  2.27776432e+00, -9.18104351e-01,\n",
       "        5.03183722e-01, -2.78877950e+00])"
      ]
     },
     "execution_count": 189,
     "metadata": {},
     "output_type": "execute_result"
    }
   ],
   "source": [
    "imdb_embeddings[tok.word_index['film'],:]"
   ]
  },
  {
   "cell_type": "markdown",
   "metadata": {
    "id": "4fzkLHrdUwuP"
   },
   "source": [
    "It's time to build another model, this time using our IMDB embeddings. Specifically, we illustrate two things with the  following codes. First and foremost, we **initialize the weights** in the `Keras` **embedding layer** with our **pre-trained embeddings**. This is the way in which you use a pre-trained embedding in `Keras`. No matter what type of pre-training embedding you obtained and from where, to use it, you set the embedding layer weights to your embedding matrix. This is why it is so critical to **pay attention to word indices**; just in case we have not mentiond it ;)\n",
    "\n",
    "Second, and just for demonstrations, since we already trained one GRU, we might be willing to believe that the weights in the GRU layer after training are already quite useful. So instead of initializing the weights again with random numbers, we will reuse the weights from the previous model #2. "
   ]
  },
  {
   "cell_type": "code",
   "execution_count": 190,
   "metadata": {
    "executionInfo": {
     "elapsed": 198,
     "status": "ok",
     "timestamp": 1649253167082,
     "user": {
      "displayName": "Georg B",
      "userId": "16990759077565939430"
     },
     "user_tz": -120
    },
    "id": "Ef-fCP7bUwuP"
   },
   "outputs": [],
   "source": [
    "# Extract weights of the GRU layer of the previous model (just to speed-up or enhance training)\n",
    "#weights_from_gru1 = gru.layers[1].get_weights()\n",
    "\n",
    "# FAILS IF DELETING GRU EARLIER"
   ]
  },
  {
   "cell_type": "code",
   "execution_count": 191,
   "metadata": {
    "colab": {
     "base_uri": "https://localhost:8080/"
    },
    "executionInfo": {
     "elapsed": 567,
     "status": "ok",
     "timestamp": 1649253170663,
     "user": {
      "displayName": "Georg B",
      "userId": "16990759077565939430"
     },
     "user_tz": -120
    },
    "id": "hoHGUuJOUwuQ",
    "outputId": "5cbdefc9-54bd-4e28-b44f-044e2046176d"
   },
   "outputs": [
    {
     "name": "stdout",
     "output_type": "stream",
     "text": [
      "Model: \"sequential_2\"\n",
      "_________________________________________________________________\n",
      " Layer (type)                Output Shape              Param #   \n",
      "=================================================================\n",
      " embedding_2 (Embedding)     (None, 400, 50)           125000    \n",
      "                                                                 \n",
      " gru_1 (GRU)                 (None, 16)                3264      \n",
      "                                                                 \n",
      " dense_3 (Dense)             (None, 1)                 17        \n",
      "                                                                 \n",
      "=================================================================\n",
      "Total params: 128,281\n",
      "Trainable params: 128,281\n",
      "Non-trainable params: 0\n",
      "_________________________________________________________________\n"
     ]
    }
   ],
   "source": [
    "# Create an embedding layer using pre-trained embeddings\n",
    "embedding_layer = Embedding(NUM_WORDS, EMBEDDING_DIM, input_length=MAX_REVIEW_LENGTH,  \n",
    "                            embeddings_initializer=Constant(imdb_embeddings), # this is where the pre-trained embeddings come in\n",
    "                            trainable=True  # This argument is important!\n",
    "                         )\n",
    "gru_imdb = Sequential()\n",
    "gru_imdb.add(embedding_layer)\n",
    "#model2.add(Dropout(0.2))\n",
    "gru_imdb.add(GRU(NB_HIDDEN)) #  dropout=0.1, recurrent_dropout=0.1, for recurring unit and recurrant state\n",
    "gru_imdb.add(Dense(1, activation=\"sigmoid\"))\n",
    "gru_imdb.compile(loss=\"binary_crossentropy\", optimizer=\"adam\", metrics=[\"accuracy\"])\n",
    "gru_imdb.summary()"
   ]
  },
  {
   "cell_type": "markdown",
   "metadata": {
    "id": "FGAayCFxUwuS"
   },
   "source": [
    "Since this is the first time we make use of a pre-trained embedding, note in the above code that we highlighted the argument `trainable` when creating our embedding layer. This is an important decision. Do you want that the **pre-trained weights get fine-tuned on your task corpus**? This is what the argument `trainable` allows. You should try out whether fine-tuning raises performance of your model but note that it will increase runtimes.  "
   ]
  },
  {
   "cell_type": "code",
   "execution_count": 192,
   "metadata": {
    "colab": {
     "base_uri": "https://localhost:8080/",
     "height": 834
    },
    "executionInfo": {
     "elapsed": 21763,
     "status": "ok",
     "timestamp": 1649253197957,
     "user": {
      "displayName": "Georg B",
      "userId": "16990759077565939430"
     },
     "user_tz": -120
    },
    "id": "KJhPWE-pUwuS",
    "outputId": "ecb3119b-0526-4bf4-eb01-8b0297bcb1c9"
   },
   "outputs": [
    {
     "name": "stdout",
     "output_type": "stream",
     "text": [
      "Epoch 1/5\n",
      "44/44 [==============================] - 7s 97ms/step - loss: 0.7271 - accuracy: 0.5263 - val_loss: 0.6935 - val_accuracy: 0.5448\n",
      "Epoch 2/5\n",
      "44/44 [==============================] - 3s 71ms/step - loss: 0.6621 - accuracy: 0.6117 - val_loss: 0.6590 - val_accuracy: 0.5981\n",
      "Epoch 3/5\n",
      "44/44 [==============================] - 3s 72ms/step - loss: 0.6256 - accuracy: 0.6543 - val_loss: 0.6401 - val_accuracy: 0.6354\n",
      "Epoch 4/5\n",
      "44/44 [==============================] - 3s 71ms/step - loss: 0.5960 - accuracy: 0.6814 - val_loss: 0.6243 - val_accuracy: 0.6386\n",
      "Epoch 5/5\n",
      "44/44 [==============================] - 3s 72ms/step - loss: 0.5695 - accuracy: 0.7070 - val_loss: 0.6138 - val_accuracy: 0.6610\n"
     ]
    },
    {
     "data": {
      "image/png": "[encoded data removed]",
      "text/plain": [
       "<Figure size 432x288 with 1 Axes>"
      ]
     },
     "metadata": {
      "needs_background": "light"
     },
     "output_type": "display_data"
    },
    {
     "name": "stdout",
     "output_type": "stream",
     "text": [
      "NN test set performance:\tAUC=0.7204\tAccuracy=0.6616\n",
      "Confusion matrix:\n",
      "[[443 189]\n",
      " [234 384]]\n"
     ]
    },
    {
     "data": {
      "image/png": "[encoded data removed]",
      "text/plain": [
       "<Figure size 432x288 with 1 Axes>"
      ]
     },
     "metadata": {
      "needs_background": "light"
     },
     "output_type": "display_data"
    },
    {
     "data": {
      "text/plain": [
       "30005"
      ]
     },
     "execution_count": 192,
     "metadata": {},
     "output_type": "execute_result"
    }
   ],
   "source": [
    "# Train the model \n",
    "story = gru_imdb.fit(X_tr_int_pad, y_train, batch_size=BATCH_SIZE, epochs=EPOCH, validation_split=VAL_SPLIT)\n",
    "\n",
    "# Assessing the first GRU \n",
    "auc, acc, _ = diag_nn(gru_imdb, story, X_ts_int_pad, y_test, plot_roc=True, plot_loss=True)\n",
    "\n",
    "# Add results to our data frame to keep track of results\n",
    "df_scores['GRU_IMDB'] = [acc, auc]\n",
    "\n",
    "# Store the model if you like\n",
    "# save_mode_to_disk(gru_imdb, story, 'gru_imdb.pkl')\n",
    "gru_imdb = None\n",
    "imdb_embeddings = None\n",
    "imdb_index = None\n",
    "gc.collect()"
   ]
  },
  {
   "cell_type": "markdown",
   "metadata": {
    "id": "6UzZHoSdUwuU"
   },
   "source": [
    "#### Model 4: GRU with pre-trained GloVe embeddings"
   ]
  },
  {
   "cell_type": "markdown",
   "metadata": {
    "id": "jHiPmDhpUwuU"
   },
   "source": [
    "Building your own embeddings might not be the smartest thing. In case the vocabulary you will be working with is not too specific, you can always use the pre-trained embeddings that were crafted from very big corpora. GloVe stands for \"Global Vectors for Word Representation\". It's a somewhat popular embedding technique based on factorizing a matrix of word co-occurrence statistics (https://nlp.stanford.edu/projects/glove/). We could equally stick to W2V and download one of the many available pre-trained versions. There is no specific reason for switching to Glove other than trying out something 'new'. Since the data files of pre-trained embeddings can be quite large, we stick to the smallest available version of Glove, which has an embedding dimension of 50.\n",
    "\n",
    "**Warning**\n",
    "Even when using an embedding dimension of just 50, the data that we process in memory gets quite big. You might experience problems when running the code on your own computer (e.g., slow response times). "
   ]
  },
  {
   "cell_type": "code",
   "execution_count": 193,
   "metadata": {
    "colab": {
     "base_uri": "https://localhost:8080/"
    },
    "executionInfo": {
     "elapsed": 11060,
     "status": "ok",
     "timestamp": 1649253217655,
     "user": {
      "displayName": "Georg B",
      "userId": "16990759077565939430"
     },
     "user_tz": -120
    },
    "id": "BOysRxxzUwuU",
    "outputId": "93680698-cb9d-4f92-95c4-6e419384589a"
   },
   "outputs": [
    {
     "name": "stdout",
     "output_type": "stream",
     "text": [
      "Found 400000 word vectors after 10.713594913482666 sec.\n"
     ]
    }
   ],
   "source": [
    "# Load GloVe embeddings\n",
    "# Make sure to adjust the path / name to find the file on your hard disk. You can download it from the above URL\n",
    "glove_index = {}\n",
    "start = time.time()\n",
    "i = 0\n",
    "with open(GLOVE_EMBEDDINGS, 'r', encoding=\"utf8\") as f:\n",
    "    for line in f:\n",
    "        values = line.split()\n",
    "        word = values[0]\n",
    "        coefs = np.asarray(values[1:], dtype='float32')\n",
    "        glove_index[word] = coefs\n",
    "        i += 1\n",
    "        #if i % 50000 == 0:\n",
    "            #print('Read {} lines of embeddings in {} sec.'.format(i, time.time()-start))\n",
    "\n",
    "print('Found {} word vectors after {} sec.'.format(len(glove_index), time.time()-start))"
   ]
  },
  {
   "cell_type": "markdown",
   "metadata": {
    "id": "f7-4cw_cUwuW"
   },
   "source": [
    "We can re-use our helper function to obtain a proper look-up table for Keras. And that is about it. Everything else is in place so that we can straight go on with building our next classifier. "
   ]
  },
  {
   "cell_type": "code",
   "execution_count": 194,
   "metadata": {
    "colab": {
     "base_uri": "https://localhost:8080/"
    },
    "executionInfo": {
     "elapsed": 267,
     "status": "ok",
     "timestamp": 1649253227275,
     "user": {
      "displayName": "Georg B",
      "userId": "16990759077565939430"
     },
     "user_tz": -120
    },
    "id": "7jyOVWdzUwuW",
    "outputId": "1f377532-3b42-4adf-b26d-eb572967a3e1"
   },
   "outputs": [
    {
     "name": "stdout",
     "output_type": "stream",
     "text": [
      "Start embedding process for 25659 words.\n",
      "Created embedding matrix of shape (2500, 50) in 0.0010173360506693522 min \n",
      "Encountered 23161 out-of-vocabulary words.\n"
     ]
    }
   ],
   "source": [
    "# Create matrix with Glove embeddings\n",
    "# Caution: this operation may take a long time and consume a lot of memory\n",
    "glove_weights, _ = get_embedding_matrix(tok, glove_index, NUM_WORDS)"
   ]
  },
  {
   "cell_type": "code",
   "execution_count": 195,
   "metadata": {
    "colab": {
     "base_uri": "https://localhost:8080/"
    },
    "executionInfo": {
     "elapsed": 465,
     "status": "ok",
     "timestamp": 1649253227960,
     "user": {
      "displayName": "Georg B",
      "userId": "16990759077565939430"
     },
     "user_tz": -120
    },
    "id": "a4Y8Ob6aUwuY",
    "outputId": "94c80124-4759-46ea-9fce-61beb2267606"
   },
   "outputs": [
    {
     "name": "stdout",
     "output_type": "stream",
     "text": [
      "Model: \"sequential_3\"\n",
      "_________________________________________________________________\n",
      " Layer (type)                Output Shape              Param #   \n",
      "=================================================================\n",
      " embedding_3 (Embedding)     (None, 400, 50)           125000    \n",
      "                                                                 \n",
      " gru_2 (GRU)                 (None, 16)                3264      \n",
      "                                                                 \n",
      " dense_4 (Dense)             (None, 1)                 17        \n",
      "                                                                 \n",
      "=================================================================\n",
      "Total params: 128,281\n",
      "Trainable params: 3,281\n",
      "Non-trainable params: 125,000\n",
      "_________________________________________________________________\n"
     ]
    }
   ],
   "source": [
    "# Embedding layer with the pre-trained GloVe weights\n",
    "emb_layer = Embedding( NUM_WORDS, EMBEDDING_DIM, input_length=MAX_REVIEW_LENGTH,\n",
    "                       embeddings_initializer=Constant(glove_weights), \n",
    "                       trainable=False  # We consider frozen weights. Play with finetuning the model if you like\n",
    "                     )\n",
    "\n",
    "gru_glove = Sequential()\n",
    "gru_glove.add( emb_layer)\n",
    "gru_glove.add( GRU(NB_HIDDEN) )\n",
    "gru_glove.add( Dense(1, activation=\"sigmoid\"))\n",
    "gru_glove.compile(loss=\"binary_crossentropy\", optimizer=\"adam\", metrics=[\"accuracy\"])\n",
    "gru_glove.summary()"
   ]
  },
  {
   "cell_type": "code",
   "execution_count": 196,
   "metadata": {
    "colab": {
     "base_uri": "https://localhost:8080/",
     "height": 816
    },
    "executionInfo": {
     "elapsed": 25062,
     "status": "ok",
     "timestamp": 1649253254327,
     "user": {
      "displayName": "Georg B",
      "userId": "16990759077565939430"
     },
     "user_tz": -120
    },
    "id": "TjkArrUIUwuZ",
    "outputId": "44f840a0-23f6-415b-a3f7-fd4602191301"
   },
   "outputs": [
    {
     "name": "stdout",
     "output_type": "stream",
     "text": [
      "Epoch 1/5\n",
      "44/44 [==============================] - 6s 82ms/step - loss: 0.6938 - accuracy: 0.5366 - val_loss: 0.6831 - val_accuracy: 0.5640\n",
      "Epoch 2/5\n",
      "44/44 [==============================] - 3s 68ms/step - loss: 0.6707 - accuracy: 0.5821 - val_loss: 0.6703 - val_accuracy: 0.5864\n",
      "Epoch 3/5\n",
      "44/44 [==============================] - 3s 71ms/step - loss: 0.6556 - accuracy: 0.6138 - val_loss: 0.6631 - val_accuracy: 0.5991\n",
      "Epoch 4/5\n",
      "44/44 [==============================] - 3s 76ms/step - loss: 0.6383 - accuracy: 0.6401 - val_loss: 0.6390 - val_accuracy: 0.6375\n",
      "Epoch 5/5\n",
      "44/44 [==============================] - 3s 73ms/step - loss: 0.6116 - accuracy: 0.6639 - val_loss: 0.6098 - val_accuracy: 0.6855\n"
     ]
    },
    {
     "data": {
      "image/png": "[encoded data removed]",
      "text/plain": [
       "<Figure size 432x288 with 1 Axes>"
      ]
     },
     "metadata": {
      "needs_background": "light"
     },
     "output_type": "display_data"
    },
    {
     "name": "stdout",
     "output_type": "stream",
     "text": [
      "NN test set performance:\tAUC=0.7643\tAccuracy=0.6928\n",
      "Confusion matrix:\n",
      "[[459 173]\n",
      " [211 407]]\n"
     ]
    },
    {
     "data": {
      "image/png": "[encoded data removed]",
      "text/plain": [
       "<Figure size 432x288 with 1 Axes>"
      ]
     },
     "metadata": {
      "needs_background": "light"
     },
     "output_type": "display_data"
    }
   ],
   "source": [
    "# Train the model \n",
    "story = gru_glove.fit(X_tr_int_pad, y_train, batch_size=BATCH_SIZE, epochs=EPOCH, validation_split=VAL_SPLIT)\n",
    "\n",
    "# Assessing the model\n",
    "auc, acc, _ = diag_nn(gru_glove, story, X_ts_int_pad, y_test, plot_roc=True, plot_loss=True)\n",
    "\n",
    "# Add results to our data frame to keep track of results\n",
    "df_scores['GRU_GloVe'] = [acc, auc]\n",
    "\n",
    "# Store the model if you like\n",
    "# save_mode_to_disk(gru_glove, story, 'gru_glove.pkl')\n",
    "gru_glove = None\n"
   ]
  },
  {
   "cell_type": "markdown",
   "metadata": {
    "id": "lLm7d05IUwub"
   },
   "source": [
    "#### Model 6: Bidirectional GRU\n",
    "\n",
    "Ok, we have trained a lot of different models, and to be fair, in terms of programming and how we use Keras, the codes have become quite repetitive. Let's build one last model and conclude. Our last model with be a **bidirectional GRU**. A bidirectional layer is actually two layers with the same structure. Both layers take the input step-by-step, one from beginning to end and one from end-to-beginning. The two hidden states at step 𝑡 are typically merged by concatenating or summing them. In sentiment analysis, the full text is available when making a prediction. Therefore, bidirectional NLP models are feasible. Given their conceptual advantage of having access to both, left and right context, we would expect them to perform a little better. Let's see whether this holds true for our data.  "
   ]
  },
  {
   "cell_type": "code",
   "execution_count": 197,
   "metadata": {
    "colab": {
     "base_uri": "https://localhost:8080/"
    },
    "executionInfo": {
     "elapsed": 614,
     "status": "ok",
     "timestamp": 1649253254926,
     "user": {
      "displayName": "Georg B",
      "userId": "16990759077565939430"
     },
     "user_tz": -120
    },
    "id": "y4K5-RBRUwub",
    "outputId": "6666d3b8-ecad-477f-8a2d-cff6f4f75664"
   },
   "outputs": [
    {
     "name": "stdout",
     "output_type": "stream",
     "text": [
      "Model: \"sequential_4\"\n",
      "_________________________________________________________________\n",
      " Layer (type)                Output Shape              Param #   \n",
      "=================================================================\n",
      " embedding_4 (Embedding)     (None, 400, 50)           125000    \n",
      "                                                                 \n",
      " bidirectional (Bidirectiona  (None, 32)               6528      \n",
      " l)                                                              \n",
      "                                                                 \n",
      " dense_5 (Dense)             (None, 1)                 33        \n",
      "                                                                 \n",
      "=================================================================\n",
      "Total params: 131,561\n",
      "Trainable params: 6,561\n",
      "Non-trainable params: 125,000\n",
      "_________________________________________________________________\n"
     ]
    }
   ],
   "source": [
    "# Set up Bi-GRU (one new layer but the rest is as above)\n",
    "from keras.layers import Bidirectional\n",
    "emb_layer = Embedding(NUM_WORDS, EMBEDDING_DIM, input_length=MAX_REVIEW_LENGTH, \n",
    "                         embeddings_initializer=Constant(glove_weights), #weights to start with, and not nouch during training\n",
    "                         trainable=False  \n",
    "                     )\n",
    "\n",
    "bigru = Sequential()\n",
    "bigru.add( emb_layer ) \n",
    "bigru.add(Bidirectional(GRU(NB_HIDDEN), merge_mode=\"concat\"))\n",
    "bigru.add(Dense(units=1, activation='sigmoid'))\n",
    "bigru.compile(loss=\"binary_crossentropy\", optimizer=\"adam\", metrics=[\"accuracy\"])\n",
    "bigru.summary()"
   ]
  },
  {
   "cell_type": "code",
   "execution_count": 198,
   "metadata": {
    "colab": {
     "base_uri": "https://localhost:8080/",
     "height": 834
    },
    "executionInfo": {
     "elapsed": 41277,
     "status": "ok",
     "timestamp": 1649253303913,
     "user": {
      "displayName": "Georg B",
      "userId": "16990759077565939430"
     },
     "user_tz": -120
    },
    "id": "lQz5vfzcUwuh",
    "outputId": "c6f1dd1c-3675-42c0-caef-0f63ce2c12c9"
   },
   "outputs": [
    {
     "name": "stdout",
     "output_type": "stream",
     "text": [
      "Epoch 1/5\n",
      "44/44 [==============================] - 12s 165ms/step - loss: 0.6850 - accuracy: 0.5477 - val_loss: 0.6767 - val_accuracy: 0.5896\n",
      "Epoch 2/5\n",
      "44/44 [==============================] - 6s 141ms/step - loss: 0.6670 - accuracy: 0.5957 - val_loss: 0.6621 - val_accuracy: 0.6226\n",
      "Epoch 3/5\n",
      "44/44 [==============================] - 6s 140ms/step - loss: 0.6510 - accuracy: 0.6202 - val_loss: 0.6485 - val_accuracy: 0.6301\n",
      "Epoch 4/5\n",
      "44/44 [==============================] - 6s 142ms/step - loss: 0.6281 - accuracy: 0.6518 - val_loss: 0.6214 - val_accuracy: 0.6418\n",
      "Epoch 5/5\n",
      "44/44 [==============================] - 6s 141ms/step - loss: 0.5644 - accuracy: 0.7162 - val_loss: 0.5559 - val_accuracy: 0.7132\n"
     ]
    },
    {
     "data": {
      "image/png": "[encoded data removed]",
      "text/plain": [
       "<Figure size 432x288 with 1 Axes>"
      ]
     },
     "metadata": {
      "needs_background": "light"
     },
     "output_type": "display_data"
    },
    {
     "name": "stdout",
     "output_type": "stream",
     "text": [
      "NN test set performance:\tAUC=0.8407\tAccuracy=0.7648\n",
      "Confusion matrix:\n",
      "[[526 106]\n",
      " [188 430]]\n"
     ]
    },
    {
     "data": {
      "image/png": "[encoded data removed]",
      "text/plain": [
       "<Figure size 432x288 with 1 Axes>"
      ]
     },
     "metadata": {
      "needs_background": "light"
     },
     "output_type": "display_data"
    },
    {
     "data": {
      "text/plain": [
       "64911"
      ]
     },
     "execution_count": 198,
     "metadata": {},
     "output_type": "execute_result"
    }
   ],
   "source": [
    "# Train the model \n",
    "story = bigru.fit(X_tr_int_pad, y_train, batch_size=BATCH_SIZE, epochs=EPOCH, validation_split=VAL_SPLIT)\n",
    "\n",
    "# Assessing the model\n",
    "auc, acc, _ = diag_nn(bigru, story, X_ts_int_pad, y_test, plot_roc=True, plot_loss=True)\n",
    "\n",
    "# Add results to our data frame to keep track of results\n",
    "df_scores['BIGRU'] = [acc, auc]\n",
    "\n",
    "# Store the model if you like\n",
    "# save_mode_to_disk(bigru, story, 'bigru.pkl')\n",
    "glove_weights = None\n",
    "glove_index = None\n",
    "gc.collect()"
   ]
  },
  {
   "cell_type": "markdown",
   "metadata": {
    "id": "NRiRm1KXUwuj"
   },
   "source": [
    "## Conclusions\n",
    "The examples have covered important concepts in deep learning for NLP and text classification. We developed several deep learning-based text classifiers using Keras and advanced our understanding of word embeddings. We also saw examples of how to use pre-trained word embeddings in downstream tasks, such as sentiment analysis. Advancing the code to approach other text classification systems is straightforward. On the other hand, the results of the Keras models are not yet impressive. Here is th overview of the performance over all classifiers developed in the session."
   ]
  },
  {
   "cell_type": "code",
   "execution_count": 199,
   "metadata": {
    "colab": {
     "base_uri": "https://localhost:8080/",
     "height": 112
    },
    "executionInfo": {
     "elapsed": 220,
     "status": "ok",
     "timestamp": 1649253309765,
     "user": {
      "displayName": "Georg B",
      "userId": "16990759077565939430"
     },
     "user_tz": -120
    },
    "id": "GfW38OT5Uwuj",
    "outputId": "2659f5c8-3751-4282-be4a-eecb53653c50"
   },
   "outputs": [
    {
     "data": {
      "text/html": [
       "\n",
       "  <div id=\"df-68d61eee-27c2-4d45-81f7-238e98085fef\">\n",
       "    <div class=\"colab-df-container\">\n",
       "      <div>\n",
       "<style scoped>\n",
       "    .dataframe tbody tr th:only-of-type {\n",
       "        vertical-align: middle;\n",
       "    }\n",
       "\n",
       "    .dataframe tbody tr th {\n",
       "        vertical-align: top;\n",
       "    }\n",
       "\n",
       "    .dataframe thead th {\n",
       "        text-align: right;\n",
       "    }\n",
       "</style>\n",
       "<table border=\"1\" class=\"dataframe\">\n",
       "  <thead>\n",
       "    <tr style=\"text-align: right;\">\n",
       "      <th></th>\n",
       "      <th>Lexicon</th>\n",
       "      <th>LASSO</th>\n",
       "      <th>FFN</th>\n",
       "      <th>GRU</th>\n",
       "      <th>GRU_IMDB</th>\n",
       "      <th>GRU_GloVe</th>\n",
       "      <th>BIGRU</th>\n",
       "    </tr>\n",
       "  </thead>\n",
       "  <tbody>\n",
       "    <tr>\n",
       "      <th>Acc</th>\n",
       "      <td>0.651200</td>\n",
       "      <td>0.848800</td>\n",
       "      <td>0.848800</td>\n",
       "      <td>0.797600</td>\n",
       "      <td>0.661600</td>\n",
       "      <td>0.692800</td>\n",
       "      <td>0.764800</td>\n",
       "    </tr>\n",
       "    <tr>\n",
       "      <th>AUC</th>\n",
       "      <td>0.736553</td>\n",
       "      <td>0.915056</td>\n",
       "      <td>0.918673</td>\n",
       "      <td>0.877279</td>\n",
       "      <td>0.720421</td>\n",
       "      <td>0.764269</td>\n",
       "      <td>0.840669</td>\n",
       "    </tr>\n",
       "  </tbody>\n",
       "</table>\n",
       "</div>\n",
       "      <button class=\"colab-df-convert\" onclick=\"convertToInteractive('df-68d61eee-27c2-4d45-81f7-238e98085fef')\"\n",
       "              title=\"Convert this dataframe to an interactive table.\"\n",
       "              style=\"display:none;\">\n",
       "        \n",
       "  <svg xmlns=\"http://www.w3.org/2000/svg\" height=\"24px\"viewBox=\"0 0 24 24\"\n",
       "       width=\"24px\">\n",
       "    <path d=\"M0 0h24v24H0V0z\" fill=\"none\"/>\n",
       "    <path d=\"M18.56 5.44l.94 2.06.94-2.06 2.06-.94-2.06-.94-.94-2.06-.94 2.06-2.06.94zm-11 1L8.5 8.5l.94-2.06 2.06-.94-2.06-.94L8.5 2.5l-.94 2.06-2.06.94zm10 10l.94 2.06.94-2.06 2.06-.94-2.06-.94-.94-2.06-.94 2.06-2.06.94z\"/><path d=\"M17.41 7.96l-1.37-1.37c-.4-.4-.92-.59-1.43-.59-.52 0-1.04.2-1.43.59L10.3 9.45l-7.72 7.72c-.78.78-.78 2.05 0 2.83L4 21.41c.39.39.9.59 1.41.59.51 0 1.02-.2 1.41-.59l7.78-7.78 2.81-2.81c.8-.78.8-2.07 0-2.86zM5.41 20L4 18.59l7.72-7.72 1.47 1.35L5.41 20z\"/>\n",
       "  </svg>\n",
       "      </button>\n",
       "      \n",
       "  <style>\n",
       "    .colab-df-container {\n",
       "      display:flex;\n",
       "      flex-wrap:wrap;\n",
       "      gap: 12px;\n",
       "    }\n",
       "\n",
       "    .colab-df-convert {\n",
       "      background-color: #E8F0FE;\n",
       "      border: none;\n",
       "      border-radius: 50%;\n",
       "      cursor: pointer;\n",
       "      display: none;\n",
       "      fill: #1967D2;\n",
       "      height: 32px;\n",
       "      padding: 0 0 0 0;\n",
       "      width: 32px;\n",
       "    }\n",
       "\n",
       "    .colab-df-convert:hover {\n",
       "      background-color: #E2EBFA;\n",
       "      box-shadow: 0px 1px 2px rgba(60, 64, 67, 0.3), 0px 1px 3px 1px rgba(60, 64, 67, 0.15);\n",
       "      fill: #174EA6;\n",
       "    }\n",
       "\n",
       "    [theme=dark] .colab-df-convert {\n",
       "      background-color: #3B4455;\n",
       "      fill: #D2E3FC;\n",
       "    }\n",
       "\n",
       "    [theme=dark] .colab-df-convert:hover {\n",
       "      background-color: #434B5C;\n",
       "      box-shadow: 0px 1px 3px 1px rgba(0, 0, 0, 0.15);\n",
       "      filter: drop-shadow(0px 1px 2px rgba(0, 0, 0, 0.3));\n",
       "      fill: #FFFFFF;\n",
       "    }\n",
       "  </style>\n",
       "\n",
       "      <script>\n",
       "        const buttonEl =\n",
       "          document.querySelector('#df-68d61eee-27c2-4d45-81f7-238e98085fef button.colab-df-convert');\n",
       "        buttonEl.style.display =\n",
       "          google.colab.kernel.accessAllowed ? 'block' : 'none';\n",
       "\n",
       "        async function convertToInteractive(key) {\n",
       "          const element = document.querySelector('#df-68d61eee-27c2-4d45-81f7-238e98085fef');\n",
       "          const dataTable =\n",
       "            await google.colab.kernel.invokeFunction('convertToInteractive',\n",
       "                                                     [key], {});\n",
       "          if (!dataTable) return;\n",
       "\n",
       "          const docLinkHtml = 'Like what you see? Visit the ' +\n",
       "            '<a target=\"_blank\" href=https://colab.research.google.com/notebooks/data_table.ipynb>data table notebook</a>'\n",
       "            + ' to learn more about interactive tables.';\n",
       "          element.innerHTML = '';\n",
       "          dataTable['output_type'] = 'display_data';\n",
       "          await google.colab.output.renderOutput(dataTable, element);\n",
       "          const docLink = document.createElement('div');\n",
       "          docLink.innerHTML = docLinkHtml;\n",
       "          element.appendChild(docLink);\n",
       "        }\n",
       "      </script>\n",
       "    </div>\n",
       "  </div>\n",
       "  "
      ],
      "text/plain": [
       "      Lexicon     LASSO       FFN       GRU  GRU_IMDB  GRU_GloVe     BIGRU\n",
       "Acc  0.651200  0.848800  0.848800  0.797600  0.661600   0.692800  0.764800\n",
       "AUC  0.736553  0.915056  0.918673  0.877279  0.720421   0.764269  0.840669"
      ]
     },
     "execution_count": 199,
     "metadata": {},
     "output_type": "execute_result"
    }
   ],
   "source": [
    "df_scores"
   ]
  },
  {
   "cell_type": "markdown",
   "metadata": {
    "id": "KMR90pSdUwuk"
   },
   "source": [
    "Considering the performance of the linear model, which is very easy to develop, fast, and memory efficient, we have not yet seen evidence that we need deep learning for the focal sentiment analysis task. It would be a very good exercise and try tuning the more advanced models, starting with proper training for more epochs, to raise their performance and achieve at least competitiveness with the linear model, and maybe the FNN. Good luck ;)"
   ]
  }
 ],
 "metadata": {
  "accelerator": "GPU",
  "colab": {
   "collapsed_sections": [],
   "name": "P.II.3_sentiment_analysis.ipynb",
   "provenance": []
  },
  "kernelspec": {
   "display_name": "Python 3 (ipykernel)",
   "language": "python",
   "name": "python3"
  },
  "language_info": {
   "codemirror_mode": {
    "name": "ipython",
    "version": 3
   },
   "file_extension": ".py",
   "mimetype": "text/x-python",
   "name": "python",
   "nbconvert_exporter": "python",
   "pygments_lexer": "ipython3",
   "version": "3.9.11"
  },
  "toc-autonumbering": false
 },
 "nbformat": 4,
 "nbformat_minor": 4
}
